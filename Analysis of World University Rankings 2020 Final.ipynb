{
 "cells": [
  {
   "cell_type": "markdown",
   "metadata": {},
   "source": [
    "# Analysis of World University Rankings 2020"
   ]
  },
  {
   "cell_type": "markdown",
   "metadata": {},
   "source": [
    "### Content\n",
    "+ Introduction: The World University Rankings\n",
    "+ Data description and objectives\n",
    "+ Research questions\n",
    "+ Data preparation: cleaning and shaping\n",
    "+ Data visualization\n",
    "+ Conclusion"
   ]
  },
  {
   "cell_type": "markdown",
   "metadata": {},
   "source": [
    "## 1. Introduction: The World University Rankings"
   ]
  },
  {
   "cell_type": "markdown",
   "metadata": {},
   "source": [
    "The World University Rankings is an annual publication of university rankings by the Times Higher Education (THE) magazine for the year of 2020. The ranking features almost 1400 universities across 92 countries around the world, standing as the largest and most diverse university rankings ever to date. The rankings aim to help prospective students identify the leading schools worldwide.\n",
    "\n",
    "The Times Higher Education has been providing reliable performance data on universities for students since the year of 2004. \n",
    "The table is based on 13 carefully gauged performance measures that reveal an institution’s performance. Mainly, each university is judged in five core missions covering the core missions of all world-class, global universities: Teaching, Research, Citations, Industry Income and International Outlook. The five scores in these categories for each ranked university are available under “performance breakdown”. This means that in addition to browsing universities by overall rank, or searching for a specific institution, we can sort the table by the five metrics to make a decision based on particular priorities.\n",
    "\n",
    "The ranking is trusted worldwide by students, teachers, governments and industry experts as it provides great insight into the shifting balance of power in global higher education. Moreover, all the data is independently audited by professional services firm PricewaterhouseCoopers (PwC), making the Times Higher Education World University Rankings the only global university rankings to be subjected to full, independent scrutiny of this nature. "
   ]
  },
  {
   "cell_type": "markdown",
   "metadata": {},
   "source": [
    "* Source: https://www.timeshighereducation.com/world-university-rankings\n",
    "* Source: https://www.kaggle.com/joeshamen/world-university-rankings-2020\n",
    "* Source: https://www.timeshighereducation.com/student/advice/world-university-rankings-explained"
   ]
  },
  {
   "cell_type": "markdown",
   "metadata": {},
   "source": [
    "## 2. Data description and objectives"
   ]
  },
  {
   "cell_type": "markdown",
   "metadata": {},
   "source": [
    "Based on the description of World University Rankings above, it is clear that there are some universities which are most likely included to this list, for instance University of Oxford, Cambdridge University, Tsinghua University and others. These universities are being one of the most prestigious higher education institutions and well known for their great environment that fosters competitiveness, innovation and creativity. Additionally, these universities have amazing performance for the most of the core criteria. Therefore, in this analysis project I am keen of comparing different features that make the universities best.\n",
    "\n",
    "The analysis of the following data set is based on data of the year of 2020. Apparently, this is the most recent data of Times Higher Education (THE) magazine. Below is the data that will be used for my analysis:\n",
    "\n",
    "+ Rank_Char: ranking according to The Times Higher Education (varchar)\n",
    "+ Score_Rank: ranking according to the column \"Scoreresult\" (number)\n",
    "+ University: name of the university\n",
    "+ Country: country of the university\n",
    "+ Number_students: number of students\n",
    "+ Numbstudentsper_Staff: ratio between the number of students and the staff\n",
    "+ International_Students: percentage of international students\n",
    "+ Percentage_Female: percentage of women\n",
    "+ Percentage_Male: percentage of men\n",
    "+ Teaching: score in teaching\n",
    "+ Research: score in research\n",
    "+ Citations: score in citations\n",
    "+ Industry_Income: score in industry income\n",
    "+ International_Outlook: score in international outlook\n",
    "+ Score_Result: resulting score\n",
    "\n",
    "Note: The score result has been calculated according to the weights described below:\n",
    "\n",
    "| Variable | Description |Weight |\n",
    "| -----------|------------|----------------|\n",
    "| Teaching | The learning environment  | 30% |\n",
    "| Research | Volume, income and reputation | 30% |\n",
    "| Citations | Research influence | 30% |\n",
    "| International outlook | International staff and students | 7.5% |\n",
    "| Industry income | Income innovation | 2.5% |"
   ]
  },
  {
   "cell_type": "markdown",
   "metadata": {},
   "source": [
    "## 3. Research questions"
   ]
  },
  {
   "cell_type": "markdown",
   "metadata": {},
   "source": [
    "For this project, the research questions are as following:\n",
    "1. Analyze the top universities by countries\n",
    "2. Analyze the academic (teaching and research) performance by institutions\n",
    "3. Analyze gender diversity in higher education institutions\n",
    "4. Analyze the institutions' overall score by research, industry income, and citations indicators\n",
    "5. Analyze the relationship between variables in the dataset"
   ]
  },
  {
   "cell_type": "markdown",
   "metadata": {},
   "source": [
    "## 4. Data preparation: cleaning and shaping"
   ]
  },
  {
   "cell_type": "markdown",
   "metadata": {},
   "source": [
    "### 4.1. Dataset information\n",
    "The \"World University Rankings 2020\" dataset is found and downloaded from the Kaggle platform. The file is presented in a .csv format (comma separated) with 1395 unique values and 16 variables within it. "
   ]
  },
  {
   "cell_type": "code",
   "execution_count": 40,
   "metadata": {},
   "outputs": [],
   "source": [
    "# import all modules that will be used\n",
    "import numpy as np\n",
    "import pandas as pd\n",
    "from plotly.offline import iplot\n",
    "import matplotlib.pyplot as plt\n",
    "import seaborn as sns\n",
    "import plotly.graph_objects as go\n",
    "from plotly.subplots import make_subplots"
   ]
  },
  {
   "cell_type": "code",
   "execution_count": 41,
   "metadata": {},
   "outputs": [],
   "source": [
    "# read csv file\n",
    "uni_rank = pd.read_csv('Word_University_Rank_2020.csv')\n",
    "\n",
    "# drop an unnecessary column: 'Overall_Ranking' since it has the same values as 'Score_Result' column\n",
    "drop=(['Overall_Ranking'])\n",
    "uni_rank.drop(drop,axis='columns',inplace=True)"
   ]
  },
  {
   "cell_type": "code",
   "execution_count": 42,
   "metadata": {},
   "outputs": [
    {
     "name": "stdout",
     "output_type": "stream",
     "text": [
      "<class 'pandas.core.frame.DataFrame'>\n",
      "RangeIndex: 1396 entries, 0 to 1395\n",
      "Data columns (total 15 columns):\n",
      " #   Column                   Non-Null Count  Dtype  \n",
      "---  ------                   --------------  -----  \n",
      " 0   Rank_Char                1396 non-null   object \n",
      " 1   Score_Rank               1396 non-null   int64  \n",
      " 2   University               1396 non-null   object \n",
      " 3   Country                  1396 non-null   object \n",
      " 4   Number_students          1396 non-null   object \n",
      " 5   Numb_students_per_Staff  1396 non-null   float64\n",
      " 6   International_Students   1396 non-null   object \n",
      " 7   Percentage_Female        1396 non-null   object \n",
      " 8   Percentage_Male          1396 non-null   object \n",
      " 9   Teaching                 1396 non-null   float64\n",
      " 10  Research                 1396 non-null   float64\n",
      " 11  Citations                1396 non-null   float64\n",
      " 12  Industry_Income          1396 non-null   float64\n",
      " 13  International_Outlook    1396 non-null   float64\n",
      " 14  Score_Result             1396 non-null   float64\n",
      "dtypes: float64(7), int64(1), object(7)\n",
      "memory usage: 163.7+ KB\n"
     ]
    }
   ],
   "source": [
    "# information including the existing variables and their data types\n",
    "# uni_rank.dtypes\n",
    "uni_rank.info()"
   ]
  },
  {
   "cell_type": "code",
   "execution_count": 43,
   "metadata": {},
   "outputs": [
    {
     "data": {
      "text/plain": [
       "(1396, 15)"
      ]
     },
     "execution_count": 43,
     "metadata": {},
     "output_type": "execute_result"
    }
   ],
   "source": [
    "# the shape: (rows, columns)\n",
    "uni_rank.shape"
   ]
  },
  {
   "cell_type": "code",
   "execution_count": 44,
   "metadata": {},
   "outputs": [
    {
     "data": {
      "text/plain": [
       "1396"
      ]
     },
     "execution_count": 44,
     "metadata": {},
     "output_type": "execute_result"
    }
   ],
   "source": [
    "# the length\n",
    "len(uni_rank)"
   ]
  },
  {
   "cell_type": "code",
   "execution_count": 45,
   "metadata": {},
   "outputs": [
    {
     "data": {
      "text/html": [
       "<div>\n",
       "<style scoped>\n",
       "    .dataframe tbody tr th:only-of-type {\n",
       "        vertical-align: middle;\n",
       "    }\n",
       "\n",
       "    .dataframe tbody tr th {\n",
       "        vertical-align: top;\n",
       "    }\n",
       "\n",
       "    .dataframe thead th {\n",
       "        text-align: right;\n",
       "    }\n",
       "</style>\n",
       "<table border=\"1\" class=\"dataframe\">\n",
       "  <thead>\n",
       "    <tr style=\"text-align: right;\">\n",
       "      <th></th>\n",
       "      <th>Score_Rank</th>\n",
       "      <th>Numb_students_per_Staff</th>\n",
       "      <th>Teaching</th>\n",
       "      <th>Research</th>\n",
       "      <th>Citations</th>\n",
       "      <th>Industry_Income</th>\n",
       "      <th>International_Outlook</th>\n",
       "      <th>Score_Result</th>\n",
       "    </tr>\n",
       "  </thead>\n",
       "  <tbody>\n",
       "    <tr>\n",
       "      <th>count</th>\n",
       "      <td>1396.000000</td>\n",
       "      <td>1396.000000</td>\n",
       "      <td>1396.000000</td>\n",
       "      <td>1396.000000</td>\n",
       "      <td>1396.000000</td>\n",
       "      <td>1396.000000</td>\n",
       "      <td>1396.000000</td>\n",
       "      <td>1396.000000</td>\n",
       "    </tr>\n",
       "    <tr>\n",
       "      <th>mean</th>\n",
       "      <td>315.304441</td>\n",
       "      <td>18.966905</td>\n",
       "      <td>28.229083</td>\n",
       "      <td>23.981160</td>\n",
       "      <td>48.113109</td>\n",
       "      <td>46.477292</td>\n",
       "      <td>47.114542</td>\n",
       "      <td>34.794054</td>\n",
       "    </tr>\n",
       "    <tr>\n",
       "      <th>std</th>\n",
       "      <td>140.946223</td>\n",
       "      <td>16.835492</td>\n",
       "      <td>14.149550</td>\n",
       "      <td>17.537044</td>\n",
       "      <td>27.735626</td>\n",
       "      <td>16.273498</td>\n",
       "      <td>23.288723</td>\n",
       "      <td>16.946075</td>\n",
       "    </tr>\n",
       "    <tr>\n",
       "      <th>min</th>\n",
       "      <td>1.000000</td>\n",
       "      <td>0.900000</td>\n",
       "      <td>11.200000</td>\n",
       "      <td>6.800000</td>\n",
       "      <td>1.700000</td>\n",
       "      <td>34.400000</td>\n",
       "      <td>13.100000</td>\n",
       "      <td>10.700000</td>\n",
       "    </tr>\n",
       "    <tr>\n",
       "      <th>25%</th>\n",
       "      <td>212.000000</td>\n",
       "      <td>12.375000</td>\n",
       "      <td>18.300000</td>\n",
       "      <td>11.600000</td>\n",
       "      <td>23.375000</td>\n",
       "      <td>35.775000</td>\n",
       "      <td>27.475000</td>\n",
       "      <td>21.000000</td>\n",
       "    </tr>\n",
       "    <tr>\n",
       "      <th>50%</th>\n",
       "      <td>336.000000</td>\n",
       "      <td>16.350000</td>\n",
       "      <td>23.800000</td>\n",
       "      <td>18.000000</td>\n",
       "      <td>45.650000</td>\n",
       "      <td>39.400000</td>\n",
       "      <td>43.100000</td>\n",
       "      <td>31.600000</td>\n",
       "    </tr>\n",
       "    <tr>\n",
       "      <th>75%</th>\n",
       "      <td>437.000000</td>\n",
       "      <td>21.900000</td>\n",
       "      <td>33.600000</td>\n",
       "      <td>30.100000</td>\n",
       "      <td>71.950000</td>\n",
       "      <td>49.825000</td>\n",
       "      <td>62.800000</td>\n",
       "      <td>44.500000</td>\n",
       "    </tr>\n",
       "    <tr>\n",
       "      <th>max</th>\n",
       "      <td>535.000000</td>\n",
       "      <td>493.500000</td>\n",
       "      <td>92.800000</td>\n",
       "      <td>99.600000</td>\n",
       "      <td>100.000000</td>\n",
       "      <td>100.000000</td>\n",
       "      <td>99.700000</td>\n",
       "      <td>95.400000</td>\n",
       "    </tr>\n",
       "  </tbody>\n",
       "</table>\n",
       "</div>"
      ],
      "text/plain": [
       "        Score_Rank  Numb_students_per_Staff     Teaching     Research  \\\n",
       "count  1396.000000              1396.000000  1396.000000  1396.000000   \n",
       "mean    315.304441                18.966905    28.229083    23.981160   \n",
       "std     140.946223                16.835492    14.149550    17.537044   \n",
       "min       1.000000                 0.900000    11.200000     6.800000   \n",
       "25%     212.000000                12.375000    18.300000    11.600000   \n",
       "50%     336.000000                16.350000    23.800000    18.000000   \n",
       "75%     437.000000                21.900000    33.600000    30.100000   \n",
       "max     535.000000               493.500000    92.800000    99.600000   \n",
       "\n",
       "         Citations  Industry_Income  International_Outlook  Score_Result  \n",
       "count  1396.000000      1396.000000            1396.000000   1396.000000  \n",
       "mean     48.113109        46.477292              47.114542     34.794054  \n",
       "std      27.735626        16.273498              23.288723     16.946075  \n",
       "min       1.700000        34.400000              13.100000     10.700000  \n",
       "25%      23.375000        35.775000              27.475000     21.000000  \n",
       "50%      45.650000        39.400000              43.100000     31.600000  \n",
       "75%      71.950000        49.825000              62.800000     44.500000  \n",
       "max     100.000000       100.000000              99.700000     95.400000  "
      ]
     },
     "execution_count": 45,
     "metadata": {},
     "output_type": "execute_result"
    }
   ],
   "source": [
    "# basic descriptive statistics for all numeric columns\n",
    "uni_rank.describe()"
   ]
  },
  {
   "cell_type": "markdown",
   "metadata": {},
   "source": [
    "From the output above, several conclusions can be made:\n",
    "1. The total number of records in each of the columns is 1396\n",
    "2. The mean value for the resulting score is 34.8 out of 100 possible\n",
    "3. The minimum resulting score is 10.7, while maximum is 95.4 out of 100 possible "
   ]
  },
  {
   "cell_type": "code",
   "execution_count": 46,
   "metadata": {},
   "outputs": [
    {
     "data": {
      "text/html": [
       "<div>\n",
       "<style scoped>\n",
       "    .dataframe tbody tr th:only-of-type {\n",
       "        vertical-align: middle;\n",
       "    }\n",
       "\n",
       "    .dataframe tbody tr th {\n",
       "        vertical-align: top;\n",
       "    }\n",
       "\n",
       "    .dataframe thead th {\n",
       "        text-align: right;\n",
       "    }\n",
       "</style>\n",
       "<table border=\"1\" class=\"dataframe\">\n",
       "  <thead>\n",
       "    <tr style=\"text-align: right;\">\n",
       "      <th></th>\n",
       "      <th>Rank_Char</th>\n",
       "      <th>University</th>\n",
       "      <th>Country</th>\n",
       "      <th>Number_students</th>\n",
       "      <th>International_Students</th>\n",
       "      <th>Percentage_Female</th>\n",
       "      <th>Percentage_Male</th>\n",
       "    </tr>\n",
       "  </thead>\n",
       "  <tbody>\n",
       "    <tr>\n",
       "      <th>count</th>\n",
       "      <td>1396</td>\n",
       "      <td>1396</td>\n",
       "      <td>1396</td>\n",
       "      <td>1396</td>\n",
       "      <td>1396</td>\n",
       "      <td>1396</td>\n",
       "      <td>1396</td>\n",
       "    </tr>\n",
       "    <tr>\n",
       "      <th>unique</th>\n",
       "      <td>145</td>\n",
       "      <td>1395</td>\n",
       "      <td>92</td>\n",
       "      <td>1377</td>\n",
       "      <td>63</td>\n",
       "      <td>74</td>\n",
       "      <td>74</td>\n",
       "    </tr>\n",
       "    <tr>\n",
       "      <th>top</th>\n",
       "      <td>1001+</td>\n",
       "      <td>Northeastern University</td>\n",
       "      <td>United States</td>\n",
       "      <td>31,919</td>\n",
       "      <td>1%</td>\n",
       "      <td>55%</td>\n",
       "      <td>45%</td>\n",
       "    </tr>\n",
       "    <tr>\n",
       "      <th>freq</th>\n",
       "      <td>395</td>\n",
       "      <td>2</td>\n",
       "      <td>172</td>\n",
       "      <td>2</td>\n",
       "      <td>150</td>\n",
       "      <td>77</td>\n",
       "      <td>77</td>\n",
       "    </tr>\n",
       "  </tbody>\n",
       "</table>\n",
       "</div>"
      ],
      "text/plain": [
       "       Rank_Char               University        Country Number_students  \\\n",
       "count       1396                     1396           1396            1396   \n",
       "unique       145                     1395             92            1377   \n",
       "top        1001+  Northeastern University  United States          31,919   \n",
       "freq         395                        2            172               2   \n",
       "\n",
       "       International_Students Percentage_Female Percentage_Male  \n",
       "count                    1396              1396            1396  \n",
       "unique                     63                74              74  \n",
       "top                        1%               55%             45%  \n",
       "freq                      150                77              77  "
      ]
     },
     "execution_count": 46,
     "metadata": {},
     "output_type": "execute_result"
    }
   ],
   "source": [
    "# even though describe() method analyzes only numeric columns by default, we can provide other data types using include parameter\n",
    "uni_rank.describe(include=np.object)"
   ]
  },
  {
   "cell_type": "code",
   "execution_count": 47,
   "metadata": {},
   "outputs": [
    {
     "name": "stdout",
     "output_type": "stream",
     "text": [
      "\n",
      "The top 1 instituion's data:\n",
      " Rank_Char                                     1\n",
      "Score_Rank                                    1\n",
      "University                 University of Oxford\n",
      "Country                          United Kingdom\n",
      "Number_students                          20,664\n",
      "Numb_students_per_Staff                    11.2\n",
      "International_Students                      41%\n",
      "Percentage_Female                           46%\n",
      "Percentage_Male                             54%\n",
      "Teaching                                   90.5\n",
      "Research                                   99.6\n",
      "Citations                                  98.4\n",
      "Industry_Income                            65.5\n",
      "International_Outlook                      96.4\n",
      "Score_Result                               95.4\n",
      "Name: 0, dtype: object\n"
     ]
    }
   ],
   "source": [
    "# let's take a look at top one institution's data\n",
    "print(\"\\nThe top 1 instituion's data:\\n\", uni_rank.iloc[0])"
   ]
  },
  {
   "cell_type": "markdown",
   "metadata": {},
   "source": [
    "### 4.2. Data manipulation: cleaning and shaping\n",
    "Firstly, we need to create a data frame from the list of all universities data (obtained at the previous step).\n",
    "\n",
    "Even though we already have a ready dataset, it is better to do the following:\n",
    "+ round decimal numbers to integer result (if neccessary);\n",
    "+ check for missing values and replace them by NaN if any;\n",
    "+ check for dublicates."
   ]
  },
  {
   "cell_type": "code",
   "execution_count": 48,
   "metadata": {},
   "outputs": [
    {
     "data": {
      "text/html": [
       "<div>\n",
       "<style scoped>\n",
       "    .dataframe tbody tr th:only-of-type {\n",
       "        vertical-align: middle;\n",
       "    }\n",
       "\n",
       "    .dataframe tbody tr th {\n",
       "        vertical-align: top;\n",
       "    }\n",
       "\n",
       "    .dataframe thead th {\n",
       "        text-align: right;\n",
       "    }\n",
       "</style>\n",
       "<table border=\"1\" class=\"dataframe\">\n",
       "  <thead>\n",
       "    <tr style=\"text-align: right;\">\n",
       "      <th></th>\n",
       "      <th>Rank_Char</th>\n",
       "      <th>Score_Rank</th>\n",
       "      <th>University</th>\n",
       "      <th>Country</th>\n",
       "      <th>Number_students</th>\n",
       "      <th>Numb_students_per_Staff</th>\n",
       "      <th>International_Students</th>\n",
       "      <th>Percentage_Female</th>\n",
       "      <th>Percentage_Male</th>\n",
       "      <th>Teaching</th>\n",
       "      <th>Research</th>\n",
       "      <th>Citations</th>\n",
       "      <th>Industry_Income</th>\n",
       "      <th>International_Outlook</th>\n",
       "      <th>Score_Result</th>\n",
       "    </tr>\n",
       "  </thead>\n",
       "  <tbody>\n",
       "    <tr>\n",
       "      <th>0</th>\n",
       "      <td>1</td>\n",
       "      <td>1</td>\n",
       "      <td>University of Oxford</td>\n",
       "      <td>United Kingdom</td>\n",
       "      <td>20,664</td>\n",
       "      <td>11.2</td>\n",
       "      <td>41%</td>\n",
       "      <td>46%</td>\n",
       "      <td>54%</td>\n",
       "      <td>90.5</td>\n",
       "      <td>99.6</td>\n",
       "      <td>98.4</td>\n",
       "      <td>65.5</td>\n",
       "      <td>96.4</td>\n",
       "      <td>95.4</td>\n",
       "    </tr>\n",
       "    <tr>\n",
       "      <th>1</th>\n",
       "      <td>2</td>\n",
       "      <td>2</td>\n",
       "      <td>California Institute of Technology</td>\n",
       "      <td>United States</td>\n",
       "      <td>2,240</td>\n",
       "      <td>6.4</td>\n",
       "      <td>30%</td>\n",
       "      <td>34%</td>\n",
       "      <td>66%</td>\n",
       "      <td>92.1</td>\n",
       "      <td>97.2</td>\n",
       "      <td>97.9</td>\n",
       "      <td>88.0</td>\n",
       "      <td>82.5</td>\n",
       "      <td>94.5</td>\n",
       "    </tr>\n",
       "    <tr>\n",
       "      <th>2</th>\n",
       "      <td>3</td>\n",
       "      <td>3</td>\n",
       "      <td>University of Cambridge</td>\n",
       "      <td>United Kingdom</td>\n",
       "      <td>18,978</td>\n",
       "      <td>10.9</td>\n",
       "      <td>37%</td>\n",
       "      <td>47%</td>\n",
       "      <td>53%</td>\n",
       "      <td>91.4</td>\n",
       "      <td>98.7</td>\n",
       "      <td>95.8</td>\n",
       "      <td>59.3</td>\n",
       "      <td>95.0</td>\n",
       "      <td>94.4</td>\n",
       "    </tr>\n",
       "    <tr>\n",
       "      <th>3</th>\n",
       "      <td>4</td>\n",
       "      <td>4</td>\n",
       "      <td>Stanford University</td>\n",
       "      <td>United States</td>\n",
       "      <td>16,135</td>\n",
       "      <td>7.3</td>\n",
       "      <td>23%</td>\n",
       "      <td>43%</td>\n",
       "      <td>57%</td>\n",
       "      <td>92.8</td>\n",
       "      <td>96.4</td>\n",
       "      <td>99.9</td>\n",
       "      <td>66.2</td>\n",
       "      <td>79.5</td>\n",
       "      <td>94.3</td>\n",
       "    </tr>\n",
       "    <tr>\n",
       "      <th>4</th>\n",
       "      <td>5</td>\n",
       "      <td>5</td>\n",
       "      <td>Massachusetts Institute of Technology</td>\n",
       "      <td>United States</td>\n",
       "      <td>11,247</td>\n",
       "      <td>8.6</td>\n",
       "      <td>34%</td>\n",
       "      <td>39%</td>\n",
       "      <td>61%</td>\n",
       "      <td>90.5</td>\n",
       "      <td>92.4</td>\n",
       "      <td>99.5</td>\n",
       "      <td>86.9</td>\n",
       "      <td>89.0</td>\n",
       "      <td>93.6</td>\n",
       "    </tr>\n",
       "  </tbody>\n",
       "</table>\n",
       "</div>"
      ],
      "text/plain": [
       "  Rank_Char  Score_Rank                             University  \\\n",
       "0         1           1                   University of Oxford   \n",
       "1         2           2     California Institute of Technology   \n",
       "2         3           3                University of Cambridge   \n",
       "3         4           4                    Stanford University   \n",
       "4         5           5  Massachusetts Institute of Technology   \n",
       "\n",
       "          Country Number_students  Numb_students_per_Staff  \\\n",
       "0  United Kingdom          20,664                     11.2   \n",
       "1   United States           2,240                      6.4   \n",
       "2  United Kingdom          18,978                     10.9   \n",
       "3   United States          16,135                      7.3   \n",
       "4   United States          11,247                      8.6   \n",
       "\n",
       "  International_Students Percentage_Female Percentage_Male  Teaching  \\\n",
       "0                    41%               46%             54%      90.5   \n",
       "1                    30%               34%             66%      92.1   \n",
       "2                    37%               47%             53%      91.4   \n",
       "3                    23%               43%             57%      92.8   \n",
       "4                    34%               39%             61%      90.5   \n",
       "\n",
       "   Research  Citations  Industry_Income  International_Outlook  Score_Result  \n",
       "0      99.6       98.4             65.5                   96.4          95.4  \n",
       "1      97.2       97.9             88.0                   82.5          94.5  \n",
       "2      98.7       95.8             59.3                   95.0          94.4  \n",
       "3      96.4       99.9             66.2                   79.5          94.3  \n",
       "4      92.4       99.5             86.9                   89.0          93.6  "
      ]
     },
     "execution_count": 48,
     "metadata": {},
     "output_type": "execute_result"
    }
   ],
   "source": [
    "# create a dataframe from the list of all universities data\n",
    "df = pd.DataFrame(uni_rank)\n",
    "df.head()"
   ]
  },
  {
   "cell_type": "code",
   "execution_count": 49,
   "metadata": {},
   "outputs": [
    {
     "data": {
      "text/html": [
       "<div>\n",
       "<style scoped>\n",
       "    .dataframe tbody tr th:only-of-type {\n",
       "        vertical-align: middle;\n",
       "    }\n",
       "\n",
       "    .dataframe tbody tr th {\n",
       "        vertical-align: top;\n",
       "    }\n",
       "\n",
       "    .dataframe thead th {\n",
       "        text-align: right;\n",
       "    }\n",
       "</style>\n",
       "<table border=\"1\" class=\"dataframe\">\n",
       "  <thead>\n",
       "    <tr style=\"text-align: right;\">\n",
       "      <th></th>\n",
       "      <th>Rank_Char</th>\n",
       "      <th>Score_Rank</th>\n",
       "      <th>University</th>\n",
       "      <th>Country</th>\n",
       "      <th>Number_students</th>\n",
       "      <th>Numb_students_per_Staff</th>\n",
       "      <th>International_Students</th>\n",
       "      <th>Percentage_Female</th>\n",
       "      <th>Percentage_Male</th>\n",
       "      <th>Teaching</th>\n",
       "      <th>Research</th>\n",
       "      <th>Citations</th>\n",
       "      <th>Industry_Income</th>\n",
       "      <th>International_Outlook</th>\n",
       "      <th>Score_Result</th>\n",
       "    </tr>\n",
       "  </thead>\n",
       "  <tbody>\n",
       "    <tr>\n",
       "      <th>0</th>\n",
       "      <td>1</td>\n",
       "      <td>1</td>\n",
       "      <td>University of Oxford</td>\n",
       "      <td>United Kingdom</td>\n",
       "      <td>20,664</td>\n",
       "      <td>11</td>\n",
       "      <td>41%</td>\n",
       "      <td>46%</td>\n",
       "      <td>54%</td>\n",
       "      <td>90.5</td>\n",
       "      <td>99.6</td>\n",
       "      <td>98.4</td>\n",
       "      <td>65.5</td>\n",
       "      <td>96.4</td>\n",
       "      <td>95.4</td>\n",
       "    </tr>\n",
       "  </tbody>\n",
       "</table>\n",
       "</div>"
      ],
      "text/plain": [
       "  Rank_Char  Score_Rank            University         Country Number_students  \\\n",
       "0         1           1  University of Oxford  United Kingdom          20,664   \n",
       "\n",
       "   Numb_students_per_Staff International_Students Percentage_Female  \\\n",
       "0                       11                    41%               46%   \n",
       "\n",
       "  Percentage_Male  Teaching  Research  Citations  Industry_Income  \\\n",
       "0             54%      90.5      99.6       98.4             65.5   \n",
       "\n",
       "   International_Outlook  Score_Result  \n",
       "0                   96.4          95.4  "
      ]
     },
     "execution_count": 49,
     "metadata": {},
     "output_type": "execute_result"
    }
   ],
   "source": [
    "# a column representing the number of students per staff members should be converted to integer data type\n",
    "df = df.astype({\"Numb_students_per_Staff\": \"int\"})\n",
    "df.head(1)"
   ]
  },
  {
   "cell_type": "code",
   "execution_count": 50,
   "metadata": {},
   "outputs": [
    {
     "data": {
      "text/html": [
       "<div>\n",
       "<style scoped>\n",
       "    .dataframe tbody tr th:only-of-type {\n",
       "        vertical-align: middle;\n",
       "    }\n",
       "\n",
       "    .dataframe tbody tr th {\n",
       "        vertical-align: top;\n",
       "    }\n",
       "\n",
       "    .dataframe thead th {\n",
       "        text-align: right;\n",
       "    }\n",
       "</style>\n",
       "<table border=\"1\" class=\"dataframe\">\n",
       "  <thead>\n",
       "    <tr style=\"text-align: right;\">\n",
       "      <th></th>\n",
       "      <th>Variables</th>\n",
       "      <th>No</th>\n",
       "    </tr>\n",
       "  </thead>\n",
       "  <tbody>\n",
       "    <tr>\n",
       "      <th>0</th>\n",
       "      <td>Rank_Char</td>\n",
       "      <td>1396</td>\n",
       "    </tr>\n",
       "    <tr>\n",
       "      <th>1</th>\n",
       "      <td>Score_Rank</td>\n",
       "      <td>1396</td>\n",
       "    </tr>\n",
       "    <tr>\n",
       "      <th>2</th>\n",
       "      <td>University</td>\n",
       "      <td>1396</td>\n",
       "    </tr>\n",
       "    <tr>\n",
       "      <th>3</th>\n",
       "      <td>Country</td>\n",
       "      <td>1396</td>\n",
       "    </tr>\n",
       "    <tr>\n",
       "      <th>4</th>\n",
       "      <td>Number_students</td>\n",
       "      <td>1396</td>\n",
       "    </tr>\n",
       "    <tr>\n",
       "      <th>5</th>\n",
       "      <td>Numb_students_per_Staff</td>\n",
       "      <td>1396</td>\n",
       "    </tr>\n",
       "    <tr>\n",
       "      <th>6</th>\n",
       "      <td>International_Students</td>\n",
       "      <td>1396</td>\n",
       "    </tr>\n",
       "    <tr>\n",
       "      <th>7</th>\n",
       "      <td>Percentage_Female</td>\n",
       "      <td>1396</td>\n",
       "    </tr>\n",
       "    <tr>\n",
       "      <th>8</th>\n",
       "      <td>Percentage_Male</td>\n",
       "      <td>1396</td>\n",
       "    </tr>\n",
       "    <tr>\n",
       "      <th>9</th>\n",
       "      <td>Teaching</td>\n",
       "      <td>1396</td>\n",
       "    </tr>\n",
       "    <tr>\n",
       "      <th>10</th>\n",
       "      <td>Research</td>\n",
       "      <td>1396</td>\n",
       "    </tr>\n",
       "    <tr>\n",
       "      <th>11</th>\n",
       "      <td>Citations</td>\n",
       "      <td>1396</td>\n",
       "    </tr>\n",
       "    <tr>\n",
       "      <th>12</th>\n",
       "      <td>Industry_Income</td>\n",
       "      <td>1396</td>\n",
       "    </tr>\n",
       "    <tr>\n",
       "      <th>13</th>\n",
       "      <td>International_Outlook</td>\n",
       "      <td>1396</td>\n",
       "    </tr>\n",
       "    <tr>\n",
       "      <th>14</th>\n",
       "      <td>Score_Result</td>\n",
       "      <td>1396</td>\n",
       "    </tr>\n",
       "  </tbody>\n",
       "</table>\n",
       "</div>"
      ],
      "text/plain": [
       "                  Variables    No\n",
       "0                 Rank_Char  1396\n",
       "1                Score_Rank  1396\n",
       "2                University  1396\n",
       "3                   Country  1396\n",
       "4           Number_students  1396\n",
       "5   Numb_students_per_Staff  1396\n",
       "6    International_Students  1396\n",
       "7         Percentage_Female  1396\n",
       "8           Percentage_Male  1396\n",
       "9                  Teaching  1396\n",
       "10                 Research  1396\n",
       "11                Citations  1396\n",
       "12          Industry_Income  1396\n",
       "13    International_Outlook  1396\n",
       "14             Score_Result  1396"
      ]
     },
     "execution_count": 50,
     "metadata": {},
     "output_type": "execute_result"
    }
   ],
   "source": [
    "# check if dataset is complete \n",
    "df_valid = pd.DataFrame()\n",
    "df_valid[\"Variables\"] = list(df.columns)\n",
    "df_valid[\"No\"] = list(df.count())\n",
    "df_valid.head(16) "
   ]
  },
  {
   "cell_type": "code",
   "execution_count": 51,
   "metadata": {},
   "outputs": [
    {
     "data": {
      "text/html": [
       "<div>\n",
       "<style scoped>\n",
       "    .dataframe tbody tr th:only-of-type {\n",
       "        vertical-align: middle;\n",
       "    }\n",
       "\n",
       "    .dataframe tbody tr th {\n",
       "        vertical-align: top;\n",
       "    }\n",
       "\n",
       "    .dataframe thead th {\n",
       "        text-align: right;\n",
       "    }\n",
       "</style>\n",
       "<table border=\"1\" class=\"dataframe\">\n",
       "  <thead>\n",
       "    <tr style=\"text-align: right;\">\n",
       "      <th></th>\n",
       "      <th>Rank_Char</th>\n",
       "      <th>Score_Rank</th>\n",
       "      <th>University</th>\n",
       "      <th>Country</th>\n",
       "      <th>Number_students</th>\n",
       "      <th>Numb_students_per_Staff</th>\n",
       "      <th>International_Students</th>\n",
       "      <th>Percentage_Female</th>\n",
       "      <th>Percentage_Male</th>\n",
       "      <th>Teaching</th>\n",
       "      <th>Research</th>\n",
       "      <th>Citations</th>\n",
       "      <th>Industry_Income</th>\n",
       "      <th>International_Outlook</th>\n",
       "      <th>Score_Result</th>\n",
       "    </tr>\n",
       "  </thead>\n",
       "  <tbody>\n",
       "    <tr>\n",
       "      <th>0</th>\n",
       "      <td>False</td>\n",
       "      <td>False</td>\n",
       "      <td>False</td>\n",
       "      <td>False</td>\n",
       "      <td>False</td>\n",
       "      <td>False</td>\n",
       "      <td>False</td>\n",
       "      <td>False</td>\n",
       "      <td>False</td>\n",
       "      <td>False</td>\n",
       "      <td>False</td>\n",
       "      <td>False</td>\n",
       "      <td>False</td>\n",
       "      <td>False</td>\n",
       "      <td>False</td>\n",
       "    </tr>\n",
       "    <tr>\n",
       "      <th>1</th>\n",
       "      <td>False</td>\n",
       "      <td>False</td>\n",
       "      <td>False</td>\n",
       "      <td>False</td>\n",
       "      <td>False</td>\n",
       "      <td>False</td>\n",
       "      <td>False</td>\n",
       "      <td>False</td>\n",
       "      <td>False</td>\n",
       "      <td>False</td>\n",
       "      <td>False</td>\n",
       "      <td>False</td>\n",
       "      <td>False</td>\n",
       "      <td>False</td>\n",
       "      <td>False</td>\n",
       "    </tr>\n",
       "    <tr>\n",
       "      <th>2</th>\n",
       "      <td>False</td>\n",
       "      <td>False</td>\n",
       "      <td>False</td>\n",
       "      <td>False</td>\n",
       "      <td>False</td>\n",
       "      <td>False</td>\n",
       "      <td>False</td>\n",
       "      <td>False</td>\n",
       "      <td>False</td>\n",
       "      <td>False</td>\n",
       "      <td>False</td>\n",
       "      <td>False</td>\n",
       "      <td>False</td>\n",
       "      <td>False</td>\n",
       "      <td>False</td>\n",
       "    </tr>\n",
       "    <tr>\n",
       "      <th>3</th>\n",
       "      <td>False</td>\n",
       "      <td>False</td>\n",
       "      <td>False</td>\n",
       "      <td>False</td>\n",
       "      <td>False</td>\n",
       "      <td>False</td>\n",
       "      <td>False</td>\n",
       "      <td>False</td>\n",
       "      <td>False</td>\n",
       "      <td>False</td>\n",
       "      <td>False</td>\n",
       "      <td>False</td>\n",
       "      <td>False</td>\n",
       "      <td>False</td>\n",
       "      <td>False</td>\n",
       "    </tr>\n",
       "    <tr>\n",
       "      <th>4</th>\n",
       "      <td>False</td>\n",
       "      <td>False</td>\n",
       "      <td>False</td>\n",
       "      <td>False</td>\n",
       "      <td>False</td>\n",
       "      <td>False</td>\n",
       "      <td>False</td>\n",
       "      <td>False</td>\n",
       "      <td>False</td>\n",
       "      <td>False</td>\n",
       "      <td>False</td>\n",
       "      <td>False</td>\n",
       "      <td>False</td>\n",
       "      <td>False</td>\n",
       "      <td>False</td>\n",
       "    </tr>\n",
       "    <tr>\n",
       "      <th>...</th>\n",
       "      <td>...</td>\n",
       "      <td>...</td>\n",
       "      <td>...</td>\n",
       "      <td>...</td>\n",
       "      <td>...</td>\n",
       "      <td>...</td>\n",
       "      <td>...</td>\n",
       "      <td>...</td>\n",
       "      <td>...</td>\n",
       "      <td>...</td>\n",
       "      <td>...</td>\n",
       "      <td>...</td>\n",
       "      <td>...</td>\n",
       "      <td>...</td>\n",
       "      <td>...</td>\n",
       "    </tr>\n",
       "    <tr>\n",
       "      <th>1391</th>\n",
       "      <td>False</td>\n",
       "      <td>False</td>\n",
       "      <td>False</td>\n",
       "      <td>False</td>\n",
       "      <td>False</td>\n",
       "      <td>False</td>\n",
       "      <td>False</td>\n",
       "      <td>False</td>\n",
       "      <td>False</td>\n",
       "      <td>False</td>\n",
       "      <td>False</td>\n",
       "      <td>False</td>\n",
       "      <td>False</td>\n",
       "      <td>False</td>\n",
       "      <td>False</td>\n",
       "    </tr>\n",
       "    <tr>\n",
       "      <th>1392</th>\n",
       "      <td>False</td>\n",
       "      <td>False</td>\n",
       "      <td>False</td>\n",
       "      <td>False</td>\n",
       "      <td>False</td>\n",
       "      <td>False</td>\n",
       "      <td>False</td>\n",
       "      <td>False</td>\n",
       "      <td>False</td>\n",
       "      <td>False</td>\n",
       "      <td>False</td>\n",
       "      <td>False</td>\n",
       "      <td>False</td>\n",
       "      <td>False</td>\n",
       "      <td>False</td>\n",
       "    </tr>\n",
       "    <tr>\n",
       "      <th>1393</th>\n",
       "      <td>False</td>\n",
       "      <td>False</td>\n",
       "      <td>False</td>\n",
       "      <td>False</td>\n",
       "      <td>False</td>\n",
       "      <td>False</td>\n",
       "      <td>False</td>\n",
       "      <td>False</td>\n",
       "      <td>False</td>\n",
       "      <td>False</td>\n",
       "      <td>False</td>\n",
       "      <td>False</td>\n",
       "      <td>False</td>\n",
       "      <td>False</td>\n",
       "      <td>False</td>\n",
       "    </tr>\n",
       "    <tr>\n",
       "      <th>1394</th>\n",
       "      <td>False</td>\n",
       "      <td>False</td>\n",
       "      <td>False</td>\n",
       "      <td>False</td>\n",
       "      <td>False</td>\n",
       "      <td>False</td>\n",
       "      <td>False</td>\n",
       "      <td>False</td>\n",
       "      <td>False</td>\n",
       "      <td>False</td>\n",
       "      <td>False</td>\n",
       "      <td>False</td>\n",
       "      <td>False</td>\n",
       "      <td>False</td>\n",
       "      <td>False</td>\n",
       "    </tr>\n",
       "    <tr>\n",
       "      <th>1395</th>\n",
       "      <td>False</td>\n",
       "      <td>False</td>\n",
       "      <td>False</td>\n",
       "      <td>False</td>\n",
       "      <td>False</td>\n",
       "      <td>False</td>\n",
       "      <td>False</td>\n",
       "      <td>False</td>\n",
       "      <td>False</td>\n",
       "      <td>False</td>\n",
       "      <td>False</td>\n",
       "      <td>False</td>\n",
       "      <td>False</td>\n",
       "      <td>False</td>\n",
       "      <td>False</td>\n",
       "    </tr>\n",
       "  </tbody>\n",
       "</table>\n",
       "<p>1396 rows × 15 columns</p>\n",
       "</div>"
      ],
      "text/plain": [
       "      Rank_Char  Score_Rank  University  Country  Number_students  \\\n",
       "0         False       False       False    False            False   \n",
       "1         False       False       False    False            False   \n",
       "2         False       False       False    False            False   \n",
       "3         False       False       False    False            False   \n",
       "4         False       False       False    False            False   \n",
       "...         ...         ...         ...      ...              ...   \n",
       "1391      False       False       False    False            False   \n",
       "1392      False       False       False    False            False   \n",
       "1393      False       False       False    False            False   \n",
       "1394      False       False       False    False            False   \n",
       "1395      False       False       False    False            False   \n",
       "\n",
       "      Numb_students_per_Staff  International_Students  Percentage_Female  \\\n",
       "0                       False                   False              False   \n",
       "1                       False                   False              False   \n",
       "2                       False                   False              False   \n",
       "3                       False                   False              False   \n",
       "4                       False                   False              False   \n",
       "...                       ...                     ...                ...   \n",
       "1391                    False                   False              False   \n",
       "1392                    False                   False              False   \n",
       "1393                    False                   False              False   \n",
       "1394                    False                   False              False   \n",
       "1395                    False                   False              False   \n",
       "\n",
       "      Percentage_Male  Teaching  Research  Citations  Industry_Income  \\\n",
       "0               False     False     False      False            False   \n",
       "1               False     False     False      False            False   \n",
       "2               False     False     False      False            False   \n",
       "3               False     False     False      False            False   \n",
       "4               False     False     False      False            False   \n",
       "...               ...       ...       ...        ...              ...   \n",
       "1391            False     False     False      False            False   \n",
       "1392            False     False     False      False            False   \n",
       "1393            False     False     False      False            False   \n",
       "1394            False     False     False      False            False   \n",
       "1395            False     False     False      False            False   \n",
       "\n",
       "      International_Outlook  Score_Result  \n",
       "0                     False         False  \n",
       "1                     False         False  \n",
       "2                     False         False  \n",
       "3                     False         False  \n",
       "4                     False         False  \n",
       "...                     ...           ...  \n",
       "1391                  False         False  \n",
       "1392                  False         False  \n",
       "1393                  False         False  \n",
       "1394                  False         False  \n",
       "1395                  False         False  \n",
       "\n",
       "[1396 rows x 15 columns]"
      ]
     },
     "execution_count": 51,
     "metadata": {},
     "output_type": "execute_result"
    }
   ],
   "source": [
    "# check for missing values \n",
    "df = pd.DataFrame(uni_rank) \n",
    "# using isnull() function for checking missing values\n",
    "df.isnull()"
   ]
  },
  {
   "cell_type": "code",
   "execution_count": 52,
   "metadata": {},
   "outputs": [
    {
     "data": {
      "text/plain": [
       "Rank_Char                  0\n",
       "Score_Rank                 0\n",
       "University                 0\n",
       "Country                    0\n",
       "Number_students            0\n",
       "Numb_students_per_Staff    0\n",
       "International_Students     0\n",
       "Percentage_Female          0\n",
       "Percentage_Male            0\n",
       "Teaching                   0\n",
       "Research                   0\n",
       "Citations                  0\n",
       "Industry_Income            0\n",
       "International_Outlook      0\n",
       "Score_Result               0\n",
       "dtype: int64"
      ]
     },
     "execution_count": 52,
     "metadata": {},
     "output_type": "execute_result"
    }
   ],
   "source": [
    "# to be exactly sure, let's find the sum of the missing values if any\n",
    "df.isnull().sum()"
   ]
  },
  {
   "cell_type": "markdown",
   "metadata": {},
   "source": [
    "The isnull() function is used in the code above in order to check missing values in Pandas DataFrame. This function returns dataframe of Boolean values which are True for NaN values. According to the output above, we can be sure that there are no missing values. Therefore, there is no need to drop any rows/columns with Null values using dropna() method.  "
   ]
  },
  {
   "cell_type": "code",
   "execution_count": 53,
   "metadata": {},
   "outputs": [
    {
     "data": {
      "text/plain": [
       "0       False\n",
       "1       False\n",
       "2       False\n",
       "3       False\n",
       "4       False\n",
       "        ...  \n",
       "1391    False\n",
       "1392    False\n",
       "1393    False\n",
       "1394    False\n",
       "1395    False\n",
       "Length: 1396, dtype: bool"
      ]
     },
     "execution_count": 53,
     "metadata": {},
     "output_type": "execute_result"
    }
   ],
   "source": [
    "# check for dublicates\n",
    "df.duplicated()"
   ]
  },
  {
   "cell_type": "code",
   "execution_count": 54,
   "metadata": {},
   "outputs": [
    {
     "data": {
      "text/plain": [
       "0"
      ]
     },
     "execution_count": 54,
     "metadata": {},
     "output_type": "execute_result"
    }
   ],
   "source": [
    "df.duplicated().sum()"
   ]
  },
  {
   "cell_type": "markdown",
   "metadata": {},
   "source": [
    "The duplicated() function is used to indicate duplicate values. This function returns dataframe of Boolean values which are True for duplicate values. According to the output above, it is clear that there are no duplicates. "
   ]
  },
  {
   "cell_type": "markdown",
   "metadata": {},
   "source": [
    "### Further data preparation"
   ]
  },
  {
   "cell_type": "code",
   "execution_count": 55,
   "metadata": {},
   "outputs": [
    {
     "data": {
      "text/html": [
       "<div>\n",
       "<style scoped>\n",
       "    .dataframe tbody tr th:only-of-type {\n",
       "        vertical-align: middle;\n",
       "    }\n",
       "\n",
       "    .dataframe tbody tr th {\n",
       "        vertical-align: top;\n",
       "    }\n",
       "\n",
       "    .dataframe thead th {\n",
       "        text-align: right;\n",
       "    }\n",
       "</style>\n",
       "<table border=\"1\" class=\"dataframe\">\n",
       "  <thead>\n",
       "    <tr style=\"text-align: right;\">\n",
       "      <th></th>\n",
       "      <th>Score_Rank</th>\n",
       "      <th>Numb_students_per_Staff</th>\n",
       "      <th>Teaching</th>\n",
       "      <th>Research</th>\n",
       "      <th>Citations</th>\n",
       "      <th>Industry_Income</th>\n",
       "      <th>International_Outlook</th>\n",
       "      <th>Score_Result</th>\n",
       "    </tr>\n",
       "    <tr>\n",
       "      <th>University</th>\n",
       "      <th></th>\n",
       "      <th></th>\n",
       "      <th></th>\n",
       "      <th></th>\n",
       "      <th></th>\n",
       "      <th></th>\n",
       "      <th></th>\n",
       "      <th></th>\n",
       "    </tr>\n",
       "  </thead>\n",
       "  <tbody>\n",
       "    <tr>\n",
       "      <th>University of Oxford</th>\n",
       "      <td>1</td>\n",
       "      <td>11.2</td>\n",
       "      <td>90.5</td>\n",
       "      <td>99.6</td>\n",
       "      <td>98.4</td>\n",
       "      <td>65.5</td>\n",
       "      <td>96.4</td>\n",
       "      <td>95.4</td>\n",
       "    </tr>\n",
       "    <tr>\n",
       "      <th>California Institute of Technology</th>\n",
       "      <td>2</td>\n",
       "      <td>6.4</td>\n",
       "      <td>92.1</td>\n",
       "      <td>97.2</td>\n",
       "      <td>97.9</td>\n",
       "      <td>88.0</td>\n",
       "      <td>82.5</td>\n",
       "      <td>94.5</td>\n",
       "    </tr>\n",
       "    <tr>\n",
       "      <th>University of Cambridge</th>\n",
       "      <td>3</td>\n",
       "      <td>10.9</td>\n",
       "      <td>91.4</td>\n",
       "      <td>98.7</td>\n",
       "      <td>95.8</td>\n",
       "      <td>59.3</td>\n",
       "      <td>95.0</td>\n",
       "      <td>94.4</td>\n",
       "    </tr>\n",
       "    <tr>\n",
       "      <th>Stanford University</th>\n",
       "      <td>4</td>\n",
       "      <td>7.3</td>\n",
       "      <td>92.8</td>\n",
       "      <td>96.4</td>\n",
       "      <td>99.9</td>\n",
       "      <td>66.2</td>\n",
       "      <td>79.5</td>\n",
       "      <td>94.3</td>\n",
       "    </tr>\n",
       "    <tr>\n",
       "      <th>Massachusetts Institute of Technology</th>\n",
       "      <td>5</td>\n",
       "      <td>8.6</td>\n",
       "      <td>90.5</td>\n",
       "      <td>92.4</td>\n",
       "      <td>99.5</td>\n",
       "      <td>86.9</td>\n",
       "      <td>89.0</td>\n",
       "      <td>93.6</td>\n",
       "    </tr>\n",
       "    <tr>\n",
       "      <th>...</th>\n",
       "      <td>...</td>\n",
       "      <td>...</td>\n",
       "      <td>...</td>\n",
       "      <td>...</td>\n",
       "      <td>...</td>\n",
       "      <td>...</td>\n",
       "      <td>...</td>\n",
       "      <td>...</td>\n",
       "    </tr>\n",
       "    <tr>\n",
       "      <th>Cear� State University</th>\n",
       "      <td>531</td>\n",
       "      <td>17.8</td>\n",
       "      <td>16.2</td>\n",
       "      <td>8.3</td>\n",
       "      <td>6.1</td>\n",
       "      <td>35.6</td>\n",
       "      <td>16.3</td>\n",
       "      <td>11.3</td>\n",
       "    </tr>\n",
       "    <tr>\n",
       "      <th>Pontifical Catholic University of Minas Gerais</th>\n",
       "      <td>532</td>\n",
       "      <td>21.3</td>\n",
       "      <td>15.3</td>\n",
       "      <td>7.7</td>\n",
       "      <td>6.7</td>\n",
       "      <td>35.1</td>\n",
       "      <td>19.4</td>\n",
       "      <td>11.2</td>\n",
       "    </tr>\n",
       "    <tr>\n",
       "      <th>Bashkir State University</th>\n",
       "      <td>533</td>\n",
       "      <td>11.1</td>\n",
       "      <td>17.0</td>\n",
       "      <td>8.1</td>\n",
       "      <td>4.5</td>\n",
       "      <td>36.9</td>\n",
       "      <td>16.7</td>\n",
       "      <td>11.1</td>\n",
       "    </tr>\n",
       "    <tr>\n",
       "      <th>University of Caxias do Sul</th>\n",
       "      <td>534</td>\n",
       "      <td>24.9</td>\n",
       "      <td>13.8</td>\n",
       "      <td>7.8</td>\n",
       "      <td>7.6</td>\n",
       "      <td>35.0</td>\n",
       "      <td>17.7</td>\n",
       "      <td>11.0</td>\n",
       "    </tr>\n",
       "    <tr>\n",
       "      <th>Tokyo Denki University</th>\n",
       "      <td>535</td>\n",
       "      <td>25.6</td>\n",
       "      <td>15.2</td>\n",
       "      <td>9.3</td>\n",
       "      <td>3.4</td>\n",
       "      <td>39.6</td>\n",
       "      <td>17.7</td>\n",
       "      <td>10.7</td>\n",
       "    </tr>\n",
       "  </tbody>\n",
       "</table>\n",
       "<p>1396 rows × 8 columns</p>\n",
       "</div>"
      ],
      "text/plain": [
       "                                                Score_Rank  \\\n",
       "University                                                   \n",
       "University of Oxford                                     1   \n",
       "California Institute of Technology                       2   \n",
       "University of Cambridge                                  3   \n",
       "Stanford University                                      4   \n",
       "Massachusetts Institute of Technology                    5   \n",
       "...                                                    ...   \n",
       "Cear� State University                                 531   \n",
       "Pontifical Catholic University of Minas Gerais         532   \n",
       "Bashkir State University                               533   \n",
       "University of Caxias do Sul                            534   \n",
       "Tokyo Denki University                                 535   \n",
       "\n",
       "                                                Numb_students_per_Staff  \\\n",
       "University                                                                \n",
       "University of Oxford                                               11.2   \n",
       "California Institute of Technology                                  6.4   \n",
       "University of Cambridge                                            10.9   \n",
       "Stanford University                                                 7.3   \n",
       "Massachusetts Institute of Technology                               8.6   \n",
       "...                                                                 ...   \n",
       "Cear� State University                                             17.8   \n",
       "Pontifical Catholic University of Minas Gerais                     21.3   \n",
       "Bashkir State University                                           11.1   \n",
       "University of Caxias do Sul                                        24.9   \n",
       "Tokyo Denki University                                             25.6   \n",
       "\n",
       "                                                Teaching  Research  Citations  \\\n",
       "University                                                                      \n",
       "University of Oxford                                90.5      99.6       98.4   \n",
       "California Institute of Technology                  92.1      97.2       97.9   \n",
       "University of Cambridge                             91.4      98.7       95.8   \n",
       "Stanford University                                 92.8      96.4       99.9   \n",
       "Massachusetts Institute of Technology               90.5      92.4       99.5   \n",
       "...                                                  ...       ...        ...   \n",
       "Cear� State University                              16.2       8.3        6.1   \n",
       "Pontifical Catholic University of Minas Gerais      15.3       7.7        6.7   \n",
       "Bashkir State University                            17.0       8.1        4.5   \n",
       "University of Caxias do Sul                         13.8       7.8        7.6   \n",
       "Tokyo Denki University                              15.2       9.3        3.4   \n",
       "\n",
       "                                                Industry_Income  \\\n",
       "University                                                        \n",
       "University of Oxford                                       65.5   \n",
       "California Institute of Technology                         88.0   \n",
       "University of Cambridge                                    59.3   \n",
       "Stanford University                                        66.2   \n",
       "Massachusetts Institute of Technology                      86.9   \n",
       "...                                                         ...   \n",
       "Cear� State University                                     35.6   \n",
       "Pontifical Catholic University of Minas Gerais             35.1   \n",
       "Bashkir State University                                   36.9   \n",
       "University of Caxias do Sul                                35.0   \n",
       "Tokyo Denki University                                     39.6   \n",
       "\n",
       "                                                International_Outlook  \\\n",
       "University                                                              \n",
       "University of Oxford                                             96.4   \n",
       "California Institute of Technology                               82.5   \n",
       "University of Cambridge                                          95.0   \n",
       "Stanford University                                              79.5   \n",
       "Massachusetts Institute of Technology                            89.0   \n",
       "...                                                               ...   \n",
       "Cear� State University                                           16.3   \n",
       "Pontifical Catholic University of Minas Gerais                   19.4   \n",
       "Bashkir State University                                         16.7   \n",
       "University of Caxias do Sul                                      17.7   \n",
       "Tokyo Denki University                                           17.7   \n",
       "\n",
       "                                                Score_Result  \n",
       "University                                                    \n",
       "University of Oxford                                    95.4  \n",
       "California Institute of Technology                      94.5  \n",
       "University of Cambridge                                 94.4  \n",
       "Stanford University                                     94.3  \n",
       "Massachusetts Institute of Technology                   93.6  \n",
       "...                                                      ...  \n",
       "Cear� State University                                  11.3  \n",
       "Pontifical Catholic University of Minas Gerais          11.2  \n",
       "Bashkir State University                                11.1  \n",
       "University of Caxias do Sul                             11.0  \n",
       "Tokyo Denki University                                  10.7  \n",
       "\n",
       "[1396 rows x 8 columns]"
      ]
     },
     "execution_count": 55,
     "metadata": {},
     "output_type": "execute_result"
    }
   ],
   "source": [
    "# now, let's try to highlight the max value for each of the numeric columns step by step\n",
    "\n",
    "# setting 'University' as index columns\n",
    "# use select_dtypes to select numerical values only \n",
    "uni_rank_num = uni_rank.set_index('University').select_dtypes('number')\n",
    "uni_rank_num"
   ]
  },
  {
   "cell_type": "code",
   "execution_count": 56,
   "metadata": {},
   "outputs": [
    {
     "data": {
      "text/plain": [
       "Score_Rank                   Tokyo Denki University\n",
       "Numb_students_per_Staff          Anadolu University\n",
       "Teaching                        Stanford University\n",
       "Research                       University of Oxford\n",
       "Citations                       Brandeis University\n",
       "Industry_Income                 Tsinghua University\n",
       "International_Outlook      University of Luxembourg\n",
       "dtype: object"
      ]
     },
     "execution_count": 56,
     "metadata": {},
     "output_type": "execute_result"
    }
   ],
   "source": [
    "# using idxmax() function in order to find the index of the max value along the index axis (i.e. University)\n",
    "# dropping duplicates, e.g. University of Oxford is top 1 by an overall score as well as by research area\n",
    "idx = uni_rank_num.idxmax().drop_duplicates()\n",
    "idx"
   ]
  },
  {
   "cell_type": "code",
   "execution_count": 57,
   "metadata": {},
   "outputs": [
    {
     "data": {
      "text/html": [
       "<div>\n",
       "<style scoped>\n",
       "    .dataframe tbody tr th:only-of-type {\n",
       "        vertical-align: middle;\n",
       "    }\n",
       "\n",
       "    .dataframe tbody tr th {\n",
       "        vertical-align: top;\n",
       "    }\n",
       "\n",
       "    .dataframe thead th {\n",
       "        text-align: right;\n",
       "    }\n",
       "</style>\n",
       "<table border=\"1\" class=\"dataframe\">\n",
       "  <thead>\n",
       "    <tr style=\"text-align: right;\">\n",
       "      <th></th>\n",
       "      <th>Score_Rank</th>\n",
       "      <th>Numb_students_per_Staff</th>\n",
       "      <th>Teaching</th>\n",
       "      <th>Research</th>\n",
       "      <th>Citations</th>\n",
       "      <th>Industry_Income</th>\n",
       "      <th>International_Outlook</th>\n",
       "      <th>Score_Result</th>\n",
       "    </tr>\n",
       "    <tr>\n",
       "      <th>University</th>\n",
       "      <th></th>\n",
       "      <th></th>\n",
       "      <th></th>\n",
       "      <th></th>\n",
       "      <th></th>\n",
       "      <th></th>\n",
       "      <th></th>\n",
       "      <th></th>\n",
       "    </tr>\n",
       "  </thead>\n",
       "  <tbody>\n",
       "    <tr>\n",
       "      <th>Tokyo Denki University</th>\n",
       "      <td>535</td>\n",
       "      <td>25.6</td>\n",
       "      <td>15.2</td>\n",
       "      <td>9.3</td>\n",
       "      <td>3.4</td>\n",
       "      <td>39.6</td>\n",
       "      <td>17.7</td>\n",
       "      <td>10.7</td>\n",
       "    </tr>\n",
       "    <tr>\n",
       "      <th>Anadolu University</th>\n",
       "      <td>447</td>\n",
       "      <td>493.5</td>\n",
       "      <td>13.0</td>\n",
       "      <td>24.1</td>\n",
       "      <td>16.5</td>\n",
       "      <td>100.0</td>\n",
       "      <td>17.3</td>\n",
       "      <td>19.9</td>\n",
       "    </tr>\n",
       "    <tr>\n",
       "      <th>Stanford University</th>\n",
       "      <td>4</td>\n",
       "      <td>7.3</td>\n",
       "      <td>92.8</td>\n",
       "      <td>96.4</td>\n",
       "      <td>99.9</td>\n",
       "      <td>66.2</td>\n",
       "      <td>79.5</td>\n",
       "      <td>94.3</td>\n",
       "    </tr>\n",
       "    <tr>\n",
       "      <th>University of Oxford</th>\n",
       "      <td>1</td>\n",
       "      <td>11.2</td>\n",
       "      <td>90.5</td>\n",
       "      <td>99.6</td>\n",
       "      <td>98.4</td>\n",
       "      <td>65.5</td>\n",
       "      <td>96.4</td>\n",
       "      <td>95.4</td>\n",
       "    </tr>\n",
       "    <tr>\n",
       "      <th>Brandeis University</th>\n",
       "      <td>158</td>\n",
       "      <td>12.2</td>\n",
       "      <td>28.5</td>\n",
       "      <td>22.9</td>\n",
       "      <td>100.0</td>\n",
       "      <td>35.6</td>\n",
       "      <td>53.4</td>\n",
       "      <td>50.3</td>\n",
       "    </tr>\n",
       "    <tr>\n",
       "      <th>Tsinghua University</th>\n",
       "      <td>22</td>\n",
       "      <td>12.0</td>\n",
       "      <td>86.6</td>\n",
       "      <td>94.0</td>\n",
       "      <td>74.6</td>\n",
       "      <td>100.0</td>\n",
       "      <td>47.4</td>\n",
       "      <td>82.6</td>\n",
       "    </tr>\n",
       "    <tr>\n",
       "      <th>University of Luxembourg</th>\n",
       "      <td>133</td>\n",
       "      <td>18.7</td>\n",
       "      <td>37.9</td>\n",
       "      <td>36.5</td>\n",
       "      <td>75.8</td>\n",
       "      <td>45.2</td>\n",
       "      <td>99.7</td>\n",
       "      <td>53.7</td>\n",
       "    </tr>\n",
       "  </tbody>\n",
       "</table>\n",
       "</div>"
      ],
      "text/plain": [
       "                          Score_Rank  Numb_students_per_Staff  Teaching  \\\n",
       "University                                                                \n",
       "Tokyo Denki University           535                     25.6      15.2   \n",
       "Anadolu University               447                    493.5      13.0   \n",
       "Stanford University                4                      7.3      92.8   \n",
       "University of Oxford               1                     11.2      90.5   \n",
       "Brandeis University              158                     12.2      28.5   \n",
       "Tsinghua University               22                     12.0      86.6   \n",
       "University of Luxembourg         133                     18.7      37.9   \n",
       "\n",
       "                          Research  Citations  Industry_Income  \\\n",
       "University                                                       \n",
       "Tokyo Denki University         9.3        3.4             39.6   \n",
       "Anadolu University            24.1       16.5            100.0   \n",
       "Stanford University           96.4       99.9             66.2   \n",
       "University of Oxford          99.6       98.4             65.5   \n",
       "Brandeis University           22.9      100.0             35.6   \n",
       "Tsinghua University           94.0       74.6            100.0   \n",
       "University of Luxembourg      36.5       75.8             45.2   \n",
       "\n",
       "                          International_Outlook  Score_Result  \n",
       "University                                                     \n",
       "Tokyo Denki University                     17.7          10.7  \n",
       "Anadolu University                         17.3          19.9  \n",
       "Stanford University                        79.5          94.3  \n",
       "University of Oxford                       96.4          95.4  \n",
       "Brandeis University                        53.4          50.3  \n",
       "Tsinghua University                        47.4          82.6  \n",
       "University of Luxembourg                   99.7          53.7  "
      ]
     },
     "execution_count": 57,
     "metadata": {},
     "output_type": "execute_result"
    }
   ],
   "source": [
    "# return the values\n",
    "# loc[idx] attribute is used for accessing values in idx\n",
    "uni_max = uni_rank_num.loc[idx]\n",
    "uni_max # uni_rank_num_idx_max"
   ]
  },
  {
   "cell_type": "code",
   "execution_count": 58,
   "metadata": {},
   "outputs": [
    {
     "data": {
      "text/html": [
       "<style  type=\"text/css\" >\n",
       "    #T_ce332fc9_2692_11eb_9b71_c83dd497b0fcrow0_col1 {\n",
       "            background-color:  yellow;\n",
       "        }    #T_ce332fc9_2692_11eb_9b71_c83dd497b0fcrow1_col2 {\n",
       "            background-color:  yellow;\n",
       "        }    #T_ce332fc9_2692_11eb_9b71_c83dd497b0fcrow1_col6 {\n",
       "            background-color:  yellow;\n",
       "        }    #T_ce332fc9_2692_11eb_9b71_c83dd497b0fcrow2_col3 {\n",
       "            background-color:  yellow;\n",
       "        }    #T_ce332fc9_2692_11eb_9b71_c83dd497b0fcrow3_col4 {\n",
       "            background-color:  yellow;\n",
       "        }    #T_ce332fc9_2692_11eb_9b71_c83dd497b0fcrow3_col8 {\n",
       "            background-color:  yellow;\n",
       "        }    #T_ce332fc9_2692_11eb_9b71_c83dd497b0fcrow4_col5 {\n",
       "            background-color:  yellow;\n",
       "        }    #T_ce332fc9_2692_11eb_9b71_c83dd497b0fcrow5_col6 {\n",
       "            background-color:  yellow;\n",
       "        }    #T_ce332fc9_2692_11eb_9b71_c83dd497b0fcrow6_col7 {\n",
       "            background-color:  yellow;\n",
       "        }</style><table id=\"T_ce332fc9_2692_11eb_9b71_c83dd497b0fc\" ><thead>    <tr>        <th class=\"blank level0\" ></th>        <th class=\"col_heading level0 col0\" >University</th>        <th class=\"col_heading level0 col1\" >Score_Rank</th>        <th class=\"col_heading level0 col2\" >Numb_students_per_Staff</th>        <th class=\"col_heading level0 col3\" >Teaching</th>        <th class=\"col_heading level0 col4\" >Research</th>        <th class=\"col_heading level0 col5\" >Citations</th>        <th class=\"col_heading level0 col6\" >Industry_Income</th>        <th class=\"col_heading level0 col7\" >International_Outlook</th>        <th class=\"col_heading level0 col8\" >Score_Result</th>    </tr></thead><tbody>\n",
       "                <tr>\n",
       "                        <th id=\"T_ce332fc9_2692_11eb_9b71_c83dd497b0fclevel0_row0\" class=\"row_heading level0 row0\" >0</th>\n",
       "                        <td id=\"T_ce332fc9_2692_11eb_9b71_c83dd497b0fcrow0_col0\" class=\"data row0 col0\" >Tokyo Denki University</td>\n",
       "                        <td id=\"T_ce332fc9_2692_11eb_9b71_c83dd497b0fcrow0_col1\" class=\"data row0 col1\" >535</td>\n",
       "                        <td id=\"T_ce332fc9_2692_11eb_9b71_c83dd497b0fcrow0_col2\" class=\"data row0 col2\" >25.600000</td>\n",
       "                        <td id=\"T_ce332fc9_2692_11eb_9b71_c83dd497b0fcrow0_col3\" class=\"data row0 col3\" >15.200000</td>\n",
       "                        <td id=\"T_ce332fc9_2692_11eb_9b71_c83dd497b0fcrow0_col4\" class=\"data row0 col4\" >9.300000</td>\n",
       "                        <td id=\"T_ce332fc9_2692_11eb_9b71_c83dd497b0fcrow0_col5\" class=\"data row0 col5\" >3.400000</td>\n",
       "                        <td id=\"T_ce332fc9_2692_11eb_9b71_c83dd497b0fcrow0_col6\" class=\"data row0 col6\" >39.600000</td>\n",
       "                        <td id=\"T_ce332fc9_2692_11eb_9b71_c83dd497b0fcrow0_col7\" class=\"data row0 col7\" >17.700000</td>\n",
       "                        <td id=\"T_ce332fc9_2692_11eb_9b71_c83dd497b0fcrow0_col8\" class=\"data row0 col8\" >10.700000</td>\n",
       "            </tr>\n",
       "            <tr>\n",
       "                        <th id=\"T_ce332fc9_2692_11eb_9b71_c83dd497b0fclevel0_row1\" class=\"row_heading level0 row1\" >1</th>\n",
       "                        <td id=\"T_ce332fc9_2692_11eb_9b71_c83dd497b0fcrow1_col0\" class=\"data row1 col0\" >Anadolu University</td>\n",
       "                        <td id=\"T_ce332fc9_2692_11eb_9b71_c83dd497b0fcrow1_col1\" class=\"data row1 col1\" >447</td>\n",
       "                        <td id=\"T_ce332fc9_2692_11eb_9b71_c83dd497b0fcrow1_col2\" class=\"data row1 col2\" >493.500000</td>\n",
       "                        <td id=\"T_ce332fc9_2692_11eb_9b71_c83dd497b0fcrow1_col3\" class=\"data row1 col3\" >13.000000</td>\n",
       "                        <td id=\"T_ce332fc9_2692_11eb_9b71_c83dd497b0fcrow1_col4\" class=\"data row1 col4\" >24.100000</td>\n",
       "                        <td id=\"T_ce332fc9_2692_11eb_9b71_c83dd497b0fcrow1_col5\" class=\"data row1 col5\" >16.500000</td>\n",
       "                        <td id=\"T_ce332fc9_2692_11eb_9b71_c83dd497b0fcrow1_col6\" class=\"data row1 col6\" >100.000000</td>\n",
       "                        <td id=\"T_ce332fc9_2692_11eb_9b71_c83dd497b0fcrow1_col7\" class=\"data row1 col7\" >17.300000</td>\n",
       "                        <td id=\"T_ce332fc9_2692_11eb_9b71_c83dd497b0fcrow1_col8\" class=\"data row1 col8\" >19.900000</td>\n",
       "            </tr>\n",
       "            <tr>\n",
       "                        <th id=\"T_ce332fc9_2692_11eb_9b71_c83dd497b0fclevel0_row2\" class=\"row_heading level0 row2\" >2</th>\n",
       "                        <td id=\"T_ce332fc9_2692_11eb_9b71_c83dd497b0fcrow2_col0\" class=\"data row2 col0\" >Stanford University</td>\n",
       "                        <td id=\"T_ce332fc9_2692_11eb_9b71_c83dd497b0fcrow2_col1\" class=\"data row2 col1\" >4</td>\n",
       "                        <td id=\"T_ce332fc9_2692_11eb_9b71_c83dd497b0fcrow2_col2\" class=\"data row2 col2\" >7.300000</td>\n",
       "                        <td id=\"T_ce332fc9_2692_11eb_9b71_c83dd497b0fcrow2_col3\" class=\"data row2 col3\" >92.800000</td>\n",
       "                        <td id=\"T_ce332fc9_2692_11eb_9b71_c83dd497b0fcrow2_col4\" class=\"data row2 col4\" >96.400000</td>\n",
       "                        <td id=\"T_ce332fc9_2692_11eb_9b71_c83dd497b0fcrow2_col5\" class=\"data row2 col5\" >99.900000</td>\n",
       "                        <td id=\"T_ce332fc9_2692_11eb_9b71_c83dd497b0fcrow2_col6\" class=\"data row2 col6\" >66.200000</td>\n",
       "                        <td id=\"T_ce332fc9_2692_11eb_9b71_c83dd497b0fcrow2_col7\" class=\"data row2 col7\" >79.500000</td>\n",
       "                        <td id=\"T_ce332fc9_2692_11eb_9b71_c83dd497b0fcrow2_col8\" class=\"data row2 col8\" >94.300000</td>\n",
       "            </tr>\n",
       "            <tr>\n",
       "                        <th id=\"T_ce332fc9_2692_11eb_9b71_c83dd497b0fclevel0_row3\" class=\"row_heading level0 row3\" >3</th>\n",
       "                        <td id=\"T_ce332fc9_2692_11eb_9b71_c83dd497b0fcrow3_col0\" class=\"data row3 col0\" >University of Oxford</td>\n",
       "                        <td id=\"T_ce332fc9_2692_11eb_9b71_c83dd497b0fcrow3_col1\" class=\"data row3 col1\" >1</td>\n",
       "                        <td id=\"T_ce332fc9_2692_11eb_9b71_c83dd497b0fcrow3_col2\" class=\"data row3 col2\" >11.200000</td>\n",
       "                        <td id=\"T_ce332fc9_2692_11eb_9b71_c83dd497b0fcrow3_col3\" class=\"data row3 col3\" >90.500000</td>\n",
       "                        <td id=\"T_ce332fc9_2692_11eb_9b71_c83dd497b0fcrow3_col4\" class=\"data row3 col4\" >99.600000</td>\n",
       "                        <td id=\"T_ce332fc9_2692_11eb_9b71_c83dd497b0fcrow3_col5\" class=\"data row3 col5\" >98.400000</td>\n",
       "                        <td id=\"T_ce332fc9_2692_11eb_9b71_c83dd497b0fcrow3_col6\" class=\"data row3 col6\" >65.500000</td>\n",
       "                        <td id=\"T_ce332fc9_2692_11eb_9b71_c83dd497b0fcrow3_col7\" class=\"data row3 col7\" >96.400000</td>\n",
       "                        <td id=\"T_ce332fc9_2692_11eb_9b71_c83dd497b0fcrow3_col8\" class=\"data row3 col8\" >95.400000</td>\n",
       "            </tr>\n",
       "            <tr>\n",
       "                        <th id=\"T_ce332fc9_2692_11eb_9b71_c83dd497b0fclevel0_row4\" class=\"row_heading level0 row4\" >4</th>\n",
       "                        <td id=\"T_ce332fc9_2692_11eb_9b71_c83dd497b0fcrow4_col0\" class=\"data row4 col0\" >Brandeis University</td>\n",
       "                        <td id=\"T_ce332fc9_2692_11eb_9b71_c83dd497b0fcrow4_col1\" class=\"data row4 col1\" >158</td>\n",
       "                        <td id=\"T_ce332fc9_2692_11eb_9b71_c83dd497b0fcrow4_col2\" class=\"data row4 col2\" >12.200000</td>\n",
       "                        <td id=\"T_ce332fc9_2692_11eb_9b71_c83dd497b0fcrow4_col3\" class=\"data row4 col3\" >28.500000</td>\n",
       "                        <td id=\"T_ce332fc9_2692_11eb_9b71_c83dd497b0fcrow4_col4\" class=\"data row4 col4\" >22.900000</td>\n",
       "                        <td id=\"T_ce332fc9_2692_11eb_9b71_c83dd497b0fcrow4_col5\" class=\"data row4 col5\" >100.000000</td>\n",
       "                        <td id=\"T_ce332fc9_2692_11eb_9b71_c83dd497b0fcrow4_col6\" class=\"data row4 col6\" >35.600000</td>\n",
       "                        <td id=\"T_ce332fc9_2692_11eb_9b71_c83dd497b0fcrow4_col7\" class=\"data row4 col7\" >53.400000</td>\n",
       "                        <td id=\"T_ce332fc9_2692_11eb_9b71_c83dd497b0fcrow4_col8\" class=\"data row4 col8\" >50.300000</td>\n",
       "            </tr>\n",
       "            <tr>\n",
       "                        <th id=\"T_ce332fc9_2692_11eb_9b71_c83dd497b0fclevel0_row5\" class=\"row_heading level0 row5\" >5</th>\n",
       "                        <td id=\"T_ce332fc9_2692_11eb_9b71_c83dd497b0fcrow5_col0\" class=\"data row5 col0\" >Tsinghua University</td>\n",
       "                        <td id=\"T_ce332fc9_2692_11eb_9b71_c83dd497b0fcrow5_col1\" class=\"data row5 col1\" >22</td>\n",
       "                        <td id=\"T_ce332fc9_2692_11eb_9b71_c83dd497b0fcrow5_col2\" class=\"data row5 col2\" >12.000000</td>\n",
       "                        <td id=\"T_ce332fc9_2692_11eb_9b71_c83dd497b0fcrow5_col3\" class=\"data row5 col3\" >86.600000</td>\n",
       "                        <td id=\"T_ce332fc9_2692_11eb_9b71_c83dd497b0fcrow5_col4\" class=\"data row5 col4\" >94.000000</td>\n",
       "                        <td id=\"T_ce332fc9_2692_11eb_9b71_c83dd497b0fcrow5_col5\" class=\"data row5 col5\" >74.600000</td>\n",
       "                        <td id=\"T_ce332fc9_2692_11eb_9b71_c83dd497b0fcrow5_col6\" class=\"data row5 col6\" >100.000000</td>\n",
       "                        <td id=\"T_ce332fc9_2692_11eb_9b71_c83dd497b0fcrow5_col7\" class=\"data row5 col7\" >47.400000</td>\n",
       "                        <td id=\"T_ce332fc9_2692_11eb_9b71_c83dd497b0fcrow5_col8\" class=\"data row5 col8\" >82.600000</td>\n",
       "            </tr>\n",
       "            <tr>\n",
       "                        <th id=\"T_ce332fc9_2692_11eb_9b71_c83dd497b0fclevel0_row6\" class=\"row_heading level0 row6\" >6</th>\n",
       "                        <td id=\"T_ce332fc9_2692_11eb_9b71_c83dd497b0fcrow6_col0\" class=\"data row6 col0\" >University of Luxembourg</td>\n",
       "                        <td id=\"T_ce332fc9_2692_11eb_9b71_c83dd497b0fcrow6_col1\" class=\"data row6 col1\" >133</td>\n",
       "                        <td id=\"T_ce332fc9_2692_11eb_9b71_c83dd497b0fcrow6_col2\" class=\"data row6 col2\" >18.700000</td>\n",
       "                        <td id=\"T_ce332fc9_2692_11eb_9b71_c83dd497b0fcrow6_col3\" class=\"data row6 col3\" >37.900000</td>\n",
       "                        <td id=\"T_ce332fc9_2692_11eb_9b71_c83dd497b0fcrow6_col4\" class=\"data row6 col4\" >36.500000</td>\n",
       "                        <td id=\"T_ce332fc9_2692_11eb_9b71_c83dd497b0fcrow6_col5\" class=\"data row6 col5\" >75.800000</td>\n",
       "                        <td id=\"T_ce332fc9_2692_11eb_9b71_c83dd497b0fcrow6_col6\" class=\"data row6 col6\" >45.200000</td>\n",
       "                        <td id=\"T_ce332fc9_2692_11eb_9b71_c83dd497b0fcrow6_col7\" class=\"data row6 col7\" >99.700000</td>\n",
       "                        <td id=\"T_ce332fc9_2692_11eb_9b71_c83dd497b0fcrow6_col8\" class=\"data row6 col8\" >53.700000</td>\n",
       "            </tr>\n",
       "    </tbody></table>"
      ],
      "text/plain": [
       "<pandas.io.formats.style.Styler at 0x218d7d88700>"
      ]
     },
     "execution_count": 58,
     "metadata": {},
     "output_type": "execute_result"
    }
   ],
   "source": [
    "# highlight each of the column's maximum value\n",
    "\n",
    "# HIGHLIGHTING IS NOT VISIBLE IN GIT, however it highlights in yellow color the max values for each columns \n",
    "uni_max.reset_index().style.highlight_max()"
   ]
  },
  {
   "cell_type": "markdown",
   "metadata": {},
   "source": [
    "From the output above, we can explicitly see the maximum value of each numeric column in a dataset. This approach of presenting data is way better and convenient since it is now much easier to spot the max values. A few examples of reading information:\n",
    "1. University of Oxford has the highest position in the overall ranking as well as in research area. \n",
    "2. Anadolu University and Tsinghua University both have the maximum points (100 out of 100) for the Industry Income area.\n",
    "3. The maximum value for the Teaching criteria is 92.8 out of 100 possible points, and is obtained by Stanford University."
   ]
  },
  {
   "cell_type": "code",
   "execution_count": 59,
   "metadata": {},
   "outputs": [
    {
     "data": {
      "text/html": [
       "<div>\n",
       "<style scoped>\n",
       "    .dataframe tbody tr th:only-of-type {\n",
       "        vertical-align: middle;\n",
       "    }\n",
       "\n",
       "    .dataframe tbody tr th {\n",
       "        vertical-align: top;\n",
       "    }\n",
       "\n",
       "    .dataframe thead th {\n",
       "        text-align: right;\n",
       "    }\n",
       "</style>\n",
       "<table border=\"1\" class=\"dataframe\">\n",
       "  <thead>\n",
       "    <tr style=\"text-align: right;\">\n",
       "      <th></th>\n",
       "      <th>Rank</th>\n",
       "      <th>Score_Rank</th>\n",
       "      <th>University</th>\n",
       "      <th>Country</th>\n",
       "      <th>Number_students</th>\n",
       "      <th>Numb_students_per_Staff</th>\n",
       "      <th>International_Students</th>\n",
       "      <th>Percentage_Female</th>\n",
       "      <th>Percentage_Male</th>\n",
       "      <th>Teaching</th>\n",
       "      <th>Research</th>\n",
       "      <th>Citations</th>\n",
       "      <th>Industry_Income</th>\n",
       "      <th>International_Outlook</th>\n",
       "      <th>Score_Result</th>\n",
       "    </tr>\n",
       "  </thead>\n",
       "  <tbody>\n",
       "    <tr>\n",
       "      <th>0</th>\n",
       "      <td>1</td>\n",
       "      <td>1</td>\n",
       "      <td>University of Oxford</td>\n",
       "      <td>United Kingdom</td>\n",
       "      <td>20,664</td>\n",
       "      <td>11.2</td>\n",
       "      <td>41%</td>\n",
       "      <td>46%</td>\n",
       "      <td>54%</td>\n",
       "      <td>90.5</td>\n",
       "      <td>99.6</td>\n",
       "      <td>98.4</td>\n",
       "      <td>65.5</td>\n",
       "      <td>96.4</td>\n",
       "      <td>95.4</td>\n",
       "    </tr>\n",
       "    <tr>\n",
       "      <th>1</th>\n",
       "      <td>2</td>\n",
       "      <td>2</td>\n",
       "      <td>California Institute of Technology</td>\n",
       "      <td>United States</td>\n",
       "      <td>2,240</td>\n",
       "      <td>6.4</td>\n",
       "      <td>30%</td>\n",
       "      <td>34%</td>\n",
       "      <td>66%</td>\n",
       "      <td>92.1</td>\n",
       "      <td>97.2</td>\n",
       "      <td>97.9</td>\n",
       "      <td>88.0</td>\n",
       "      <td>82.5</td>\n",
       "      <td>94.5</td>\n",
       "    </tr>\n",
       "    <tr>\n",
       "      <th>2</th>\n",
       "      <td>3</td>\n",
       "      <td>3</td>\n",
       "      <td>University of Cambridge</td>\n",
       "      <td>United Kingdom</td>\n",
       "      <td>18,978</td>\n",
       "      <td>10.9</td>\n",
       "      <td>37%</td>\n",
       "      <td>47%</td>\n",
       "      <td>53%</td>\n",
       "      <td>91.4</td>\n",
       "      <td>98.7</td>\n",
       "      <td>95.8</td>\n",
       "      <td>59.3</td>\n",
       "      <td>95.0</td>\n",
       "      <td>94.4</td>\n",
       "    </tr>\n",
       "    <tr>\n",
       "      <th>3</th>\n",
       "      <td>4</td>\n",
       "      <td>4</td>\n",
       "      <td>Stanford University</td>\n",
       "      <td>United States</td>\n",
       "      <td>16,135</td>\n",
       "      <td>7.3</td>\n",
       "      <td>23%</td>\n",
       "      <td>43%</td>\n",
       "      <td>57%</td>\n",
       "      <td>92.8</td>\n",
       "      <td>96.4</td>\n",
       "      <td>99.9</td>\n",
       "      <td>66.2</td>\n",
       "      <td>79.5</td>\n",
       "      <td>94.3</td>\n",
       "    </tr>\n",
       "    <tr>\n",
       "      <th>4</th>\n",
       "      <td>5</td>\n",
       "      <td>5</td>\n",
       "      <td>Massachusetts Institute of Technology</td>\n",
       "      <td>United States</td>\n",
       "      <td>11,247</td>\n",
       "      <td>8.6</td>\n",
       "      <td>34%</td>\n",
       "      <td>39%</td>\n",
       "      <td>61%</td>\n",
       "      <td>90.5</td>\n",
       "      <td>92.4</td>\n",
       "      <td>99.5</td>\n",
       "      <td>86.9</td>\n",
       "      <td>89.0</td>\n",
       "      <td>93.6</td>\n",
       "    </tr>\n",
       "    <tr>\n",
       "      <th>...</th>\n",
       "      <td>...</td>\n",
       "      <td>...</td>\n",
       "      <td>...</td>\n",
       "      <td>...</td>\n",
       "      <td>...</td>\n",
       "      <td>...</td>\n",
       "      <td>...</td>\n",
       "      <td>...</td>\n",
       "      <td>...</td>\n",
       "      <td>...</td>\n",
       "      <td>...</td>\n",
       "      <td>...</td>\n",
       "      <td>...</td>\n",
       "      <td>...</td>\n",
       "      <td>...</td>\n",
       "    </tr>\n",
       "    <tr>\n",
       "      <th>1391</th>\n",
       "      <td>1001+</td>\n",
       "      <td>531</td>\n",
       "      <td>Cear� State University</td>\n",
       "      <td>Brazil</td>\n",
       "      <td>20,174</td>\n",
       "      <td>17.8</td>\n",
       "      <td>0%</td>\n",
       "      <td>55%</td>\n",
       "      <td>45%</td>\n",
       "      <td>16.2</td>\n",
       "      <td>8.3</td>\n",
       "      <td>6.1</td>\n",
       "      <td>35.6</td>\n",
       "      <td>16.3</td>\n",
       "      <td>11.3</td>\n",
       "    </tr>\n",
       "    <tr>\n",
       "      <th>1392</th>\n",
       "      <td>1001+</td>\n",
       "      <td>532</td>\n",
       "      <td>Pontifical Catholic University of Minas Gerais</td>\n",
       "      <td>Brazil</td>\n",
       "      <td>34,101</td>\n",
       "      <td>21.3</td>\n",
       "      <td>0%</td>\n",
       "      <td>57%</td>\n",
       "      <td>43%</td>\n",
       "      <td>15.3</td>\n",
       "      <td>7.7</td>\n",
       "      <td>6.7</td>\n",
       "      <td>35.1</td>\n",
       "      <td>19.4</td>\n",
       "      <td>11.2</td>\n",
       "    </tr>\n",
       "    <tr>\n",
       "      <th>1393</th>\n",
       "      <td>1001+</td>\n",
       "      <td>533</td>\n",
       "      <td>Bashkir State University</td>\n",
       "      <td>Russian Federation</td>\n",
       "      <td>15,236</td>\n",
       "      <td>11.1</td>\n",
       "      <td>3%</td>\n",
       "      <td>63%</td>\n",
       "      <td>37%</td>\n",
       "      <td>17.0</td>\n",
       "      <td>8.1</td>\n",
       "      <td>4.5</td>\n",
       "      <td>36.9</td>\n",
       "      <td>16.7</td>\n",
       "      <td>11.1</td>\n",
       "    </tr>\n",
       "    <tr>\n",
       "      <th>1394</th>\n",
       "      <td>1001+</td>\n",
       "      <td>534</td>\n",
       "      <td>University of Caxias do Sul</td>\n",
       "      <td>Brazil</td>\n",
       "      <td>17,101</td>\n",
       "      <td>24.9</td>\n",
       "      <td>0%</td>\n",
       "      <td>54%</td>\n",
       "      <td>46%</td>\n",
       "      <td>13.8</td>\n",
       "      <td>7.8</td>\n",
       "      <td>7.6</td>\n",
       "      <td>35.0</td>\n",
       "      <td>17.7</td>\n",
       "      <td>11.0</td>\n",
       "    </tr>\n",
       "    <tr>\n",
       "      <th>1395</th>\n",
       "      <td>1001+</td>\n",
       "      <td>535</td>\n",
       "      <td>Tokyo Denki University</td>\n",
       "      <td>Japan</td>\n",
       "      <td>9,285</td>\n",
       "      <td>25.6</td>\n",
       "      <td>2%</td>\n",
       "      <td>12%</td>\n",
       "      <td>88%</td>\n",
       "      <td>15.2</td>\n",
       "      <td>9.3</td>\n",
       "      <td>3.4</td>\n",
       "      <td>39.6</td>\n",
       "      <td>17.7</td>\n",
       "      <td>10.7</td>\n",
       "    </tr>\n",
       "  </tbody>\n",
       "</table>\n",
       "<p>1396 rows × 15 columns</p>\n",
       "</div>"
      ],
      "text/plain": [
       "       Rank  Score_Rank                                      University  \\\n",
       "0         1           1                            University of Oxford   \n",
       "1         2           2              California Institute of Technology   \n",
       "2         3           3                         University of Cambridge   \n",
       "3         4           4                             Stanford University   \n",
       "4         5           5           Massachusetts Institute of Technology   \n",
       "...     ...         ...                                             ...   \n",
       "1391  1001+         531                          Cear� State University   \n",
       "1392  1001+         532  Pontifical Catholic University of Minas Gerais   \n",
       "1393  1001+         533                        Bashkir State University   \n",
       "1394  1001+         534                     University of Caxias do Sul   \n",
       "1395  1001+         535                          Tokyo Denki University   \n",
       "\n",
       "                 Country Number_students  Numb_students_per_Staff  \\\n",
       "0         United Kingdom          20,664                     11.2   \n",
       "1          United States           2,240                      6.4   \n",
       "2         United Kingdom          18,978                     10.9   \n",
       "3          United States          16,135                      7.3   \n",
       "4          United States          11,247                      8.6   \n",
       "...                  ...             ...                      ...   \n",
       "1391              Brazil          20,174                     17.8   \n",
       "1392              Brazil          34,101                     21.3   \n",
       "1393  Russian Federation          15,236                     11.1   \n",
       "1394              Brazil          17,101                     24.9   \n",
       "1395               Japan           9,285                     25.6   \n",
       "\n",
       "     International_Students Percentage_Female Percentage_Male  Teaching  \\\n",
       "0                       41%               46%             54%      90.5   \n",
       "1                       30%               34%             66%      92.1   \n",
       "2                       37%               47%             53%      91.4   \n",
       "3                       23%               43%             57%      92.8   \n",
       "4                       34%               39%             61%      90.5   \n",
       "...                     ...               ...             ...       ...   \n",
       "1391                     0%               55%             45%      16.2   \n",
       "1392                     0%               57%             43%      15.3   \n",
       "1393                     3%               63%             37%      17.0   \n",
       "1394                     0%               54%             46%      13.8   \n",
       "1395                     2%               12%             88%      15.2   \n",
       "\n",
       "      Research  Citations  Industry_Income  International_Outlook  \\\n",
       "0         99.6       98.4             65.5                   96.4   \n",
       "1         97.2       97.9             88.0                   82.5   \n",
       "2         98.7       95.8             59.3                   95.0   \n",
       "3         96.4       99.9             66.2                   79.5   \n",
       "4         92.4       99.5             86.9                   89.0   \n",
       "...        ...        ...              ...                    ...   \n",
       "1391       8.3        6.1             35.6                   16.3   \n",
       "1392       7.7        6.7             35.1                   19.4   \n",
       "1393       8.1        4.5             36.9                   16.7   \n",
       "1394       7.8        7.6             35.0                   17.7   \n",
       "1395       9.3        3.4             39.6                   17.7   \n",
       "\n",
       "      Score_Result  \n",
       "0             95.4  \n",
       "1             94.5  \n",
       "2             94.4  \n",
       "3             94.3  \n",
       "4             93.6  \n",
       "...            ...  \n",
       "1391          11.3  \n",
       "1392          11.2  \n",
       "1393          11.1  \n",
       "1394          11.0  \n",
       "1395          10.7  \n",
       "\n",
       "[1396 rows x 15 columns]"
      ]
     },
     "execution_count": 59,
     "metadata": {},
     "output_type": "execute_result"
    }
   ],
   "source": [
    "# rename 'Rank_Chart' to 'Rank' for more convenient usage\n",
    "uni_rank = uni_rank.rename(columns = {'Rank_Char':'Rank'})\n",
    "uni_rank"
   ]
  },
  {
   "cell_type": "markdown",
   "metadata": {},
   "source": [
    "## 5. Data visualization "
   ]
  },
  {
   "cell_type": "markdown",
   "metadata": {},
   "source": [
    "In this section I am going to respond objectives of the project by applying some data analysis and visualization techniques. "
   ]
  },
  {
   "cell_type": "markdown",
   "metadata": {},
   "source": [
    "### 5.1 Q1: Distribution of the top universities by countries\n"
   ]
  },
  {
   "cell_type": "code",
   "execution_count": 60,
   "metadata": {},
   "outputs": [
    {
     "data": {
      "text/plain": [
       "United States     172\n",
       "Japan             110\n",
       "United Kingdom    100\n",
       "China              81\n",
       "India              56\n",
       "                 ... \n",
       "Uganda              1\n",
       "Oman                1\n",
       "Montenegro          1\n",
       "Qatar               1\n",
       "Belarus             1\n",
       "Name: Country, Length: 92, dtype: int64"
      ]
     },
     "execution_count": 60,
     "metadata": {},
     "output_type": "execute_result"
    }
   ],
   "source": [
    "# Displaying country distribution\n",
    "country_stats = uni_rank[\"Country\"].value_counts()\n",
    "country_stats"
   ]
  },
  {
   "cell_type": "markdown",
   "metadata": {},
   "source": [
    "The data above shows a series that contain counts of unique values. For example, there are overall 172 values for the United States, 110 per Japan, 100 per United Kingdom, etc. The series is presented in descending order."
   ]
  },
  {
   "cell_type": "code",
   "execution_count": 61,
   "metadata": {},
   "outputs": [
    {
     "data": {
      "text/plain": [
       "count     92.000000\n",
       "mean      15.173913\n",
       "std       26.290686\n",
       "min        1.000000\n",
       "25%        2.000000\n",
       "50%        6.000000\n",
       "75%       14.000000\n",
       "max      172.000000\n",
       "Name: Country, dtype: float64"
      ]
     },
     "execution_count": 61,
     "metadata": {},
     "output_type": "execute_result"
    }
   ],
   "source": [
    "# descriptive statistics for the column 'Country'\n",
    "country_stats.describe()"
   ]
  },
  {
   "cell_type": "markdown",
   "metadata": {},
   "source": [
    "There is a descriptive statistics for the 'Country' column showing that there are 92 unique values (country names), the maximum per each country is 172, while the minimum is 1."
   ]
  },
  {
   "cell_type": "code",
   "execution_count": 62,
   "metadata": {},
   "outputs": [
    {
     "data": {
      "text/plain": [
       "Country\n",
       "United States     39\n",
       "United Kingdom    11\n",
       "Germany            8\n",
       "Netherlands        6\n",
       "Australia          6\n",
       "Canada             5\n",
       "Switzerland        4\n",
       "Hong Kong          3\n",
       "France             3\n",
       "China              3\n",
       "Sweden             2\n",
       "South Korea        2\n",
       "Singapore          2\n",
       "Japan              2\n",
       "Finland            1\n",
       "Belgium            1\n",
       "Name: Rank, dtype: int64"
      ]
     },
     "execution_count": 62,
     "metadata": {},
     "output_type": "execute_result"
    }
   ],
   "source": [
    "# split data into groups using groupby() function for the first 100 values\n",
    "df = uni_rank.head(100)\n",
    "country_stats_info = df.groupby('Country')['Rank'].nunique().sort_values(ascending=False)\n",
    "country_stats_info"
   ]
  },
  {
   "cell_type": "code",
   "execution_count": 63,
   "metadata": {},
   "outputs": [
    {
     "data": {
      "image/png": "[encoded data removed]",
      "text/plain": [
       "<Figure size 720x360 with 1 Axes>"
      ]
     },
     "metadata": {
      "needs_background": "light"
     },
     "output_type": "display_data"
    }
   ],
   "source": [
    "# build histogram for the top 100 records\n",
    "plt.figure(figsize = (10,5))\n",
    "colors=['red','blue', 'yellow', 'green']\n",
    "plt.barh(country_stats_info.index, country_stats_info, color = colors, ec='black')\n",
    "plt.title('The distribution of the top 100 universities by countries',fontsize = 14)\n",
    "plt.xlabel('The number of universities', fontsize = 12)\n",
    "plt.ylabel('Countries', fontsize = 12)\n",
    "plt.show()"
   ]
  },
  {
   "cell_type": "markdown",
   "metadata": {},
   "source": [
    "**Distribution Analysis:**\n",
    "\n",
    "To begin with, a bar chart above focuses on the distribution of the first top 100 universities by country of location.These higher institutions are located in 16 different countries.\n",
    "\n",
    "From the resulting chart it is clear that the highest number of all universities belong to the United States, meaning that the majority of the first top 100 universities are mostly based across the United States. To be exact, 39 are in the U.S. United Kingdom is in the second place with overall 11 of their institutions in the top 100. \n",
    "\n",
    "Germany, Netherlands and Australia's indicators are roughly the same with 8, 7 and 6 respectively.\n",
    "The other 28 are splitted in 12 different countries with the following data:\n",
    "1. Canada - 5\n",
    "2. Switzerland - 4\n",
    "3. France, China and Hong Kong - 3 each\n",
    "4. Japan, Singapore, South Korea and Sweden - 2 each\n",
    "5. Finland and Belgium - 1 each"
   ]
  },
  {
   "cell_type": "markdown",
   "metadata": {},
   "source": [
    "### 5.2 Q2: Distribution of an academic performance by institutions"
   ]
  },
  {
   "cell_type": "code",
   "execution_count": 64,
   "metadata": {},
   "outputs": [
    {
     "data": {
      "text/plain": [
       "0     99.6\n",
       "1     97.2\n",
       "2     98.7\n",
       "3     96.4\n",
       "4     92.4\n",
       "      ... \n",
       "95    46.5\n",
       "96    59.3\n",
       "97    54.3\n",
       "98    47.9\n",
       "99    61.5\n",
       "Name: Research, Length: 100, dtype: float64"
      ]
     },
     "execution_count": 64,
     "metadata": {},
     "output_type": "execute_result"
    }
   ],
   "source": [
    "# displaying research distribution\n",
    "# df = pd.DataFrame(uni_rank)\n",
    "research_stats = df[\"Research\"]\n",
    "research_stats"
   ]
  },
  {
   "cell_type": "code",
   "execution_count": 65,
   "metadata": {},
   "outputs": [
    {
     "data": {
      "text/plain": [
       "count    100.000000\n",
       "mean      70.171000\n",
       "std       15.620592\n",
       "min       39.900000\n",
       "25%       58.025000\n",
       "50%       69.100000\n",
       "75%       82.775000\n",
       "max       99.600000\n",
       "Name: Research, dtype: float64"
      ]
     },
     "execution_count": 65,
     "metadata": {},
     "output_type": "execute_result"
    }
   ],
   "source": [
    "# descriptive statistics for the research column\n",
    "research_stats.describe()"
   ]
  },
  {
   "cell_type": "markdown",
   "metadata": {},
   "source": [
    "There is a maximum of 99.6 and minimum of 6.8 points out of 100 possible for the Research performance. The mean value for this column will be 23.98"
   ]
  },
  {
   "cell_type": "code",
   "execution_count": 66,
   "metadata": {},
   "outputs": [
    {
     "data": {
      "text/plain": [
       "0     90.5\n",
       "1     92.1\n",
       "2     91.4\n",
       "3     92.8\n",
       "4     90.5\n",
       "      ... \n",
       "95    43.3\n",
       "96    43.4\n",
       "97    40.7\n",
       "98    41.1\n",
       "99    55.6\n",
       "Name: Teaching, Length: 100, dtype: float64"
      ]
     },
     "execution_count": 66,
     "metadata": {},
     "output_type": "execute_result"
    }
   ],
   "source": [
    "# displaying teaching distribution\n",
    "# df = pd.DataFrame(uni_rank)\n",
    "teaching_stats = df[\"Teaching\"]\n",
    "teaching_stats"
   ]
  },
  {
   "cell_type": "code",
   "execution_count": 67,
   "metadata": {},
   "outputs": [
    {
     "data": {
      "text/plain": [
       "count    100.000000\n",
       "mean      64.188000\n",
       "std       15.065348\n",
       "min       39.400000\n",
       "25%       53.600000\n",
       "50%       62.050000\n",
       "75%       76.650000\n",
       "max       92.800000\n",
       "Name: Teaching, dtype: float64"
      ]
     },
     "execution_count": 67,
     "metadata": {},
     "output_type": "execute_result"
    }
   ],
   "source": [
    "# descriptive statistics for the teaching column\n",
    "teaching_stats.describe()"
   ]
  },
  {
   "cell_type": "markdown",
   "metadata": {},
   "source": [
    "There is a maximum of 92.8 and minimum of 11.2 points out of 100 possible for the Teaching performance. The mean for this column will be 28.23"
   ]
  },
  {
   "cell_type": "code",
   "execution_count": 68,
   "metadata": {},
   "outputs": [
    {
     "data": {
      "application/vnd.plotly.v1+json": {
       "config": {
        "linkText": "Export to plot.ly",
        "plotlyServerURL": "https://plot.ly",
        "showLink": false
       },
       "data": [
        {
         "marker": {
          "color": "Green"
         },
         "mode": "lines+markers",
         "name": "Teaching",
         "text": [
          "University of Oxford",
          "California Institute of Technology",
          "University of Cambridge",
          "Stanford University",
          "Massachusetts Institute of Technology",
          "Princeton University",
          "Harvard University",
          "Yale University",
          "University of Chicago",
          "Imperial College London",
          "University of Pennsylvania",
          "Johns Hopkins University",
          "University of California, Berkeley",
          "ETH Zurich",
          "UCL",
          "Columbia University",
          "University of California, Los Angeles",
          "University of Toronto",
          "Cornell University",
          "Duke University",
          "University of Michigan-Ann Arbor",
          "Northwestern University",
          "Tsinghua University",
          "Peking University",
          "National University of Singapore",
          "University of Washington",
          "Carnegie Mellon University",
          "London School of Economics and Political Science",
          "New York University",
          "University of Edinburgh",
          "University of California, San Diego",
          "LMU Munich",
          "University of Melbourne",
          "University of British Columbia",
          "University of Hong Kong",
          "King�s College London",
          "The University of Tokyo",
          "�cole Polytechnique F�d�rale de Lausanne",
          "Georgia Institute of Technology",
          "University of Texas at Austin",
          "Karolinska Institute",
          "McGill University",
          "Technical University of Munich",
          "Heidelberg University",
          "KU Leuven",
          "Paris Sciences et Lettres � PSL Research University Paris",
          "The Hong Kong University of Science and Technology",
          "University of Illinois at Urbana-Champaign",
          "Nanyang Technological University, Singapore",
          "Australian National University"
         ],
         "type": "scatter",
         "x": [
          "1",
          "2",
          "3",
          "4",
          "5",
          "6",
          "7",
          "8",
          "9",
          "10",
          "11",
          "12",
          "13",
          "13",
          "15",
          "16",
          "17",
          "18",
          "19",
          "20",
          "21",
          "22",
          "23",
          "24",
          "25",
          "26",
          "27",
          "27",
          "29",
          "30",
          "31",
          "32",
          "32",
          "34",
          "35",
          "36",
          "36",
          "38",
          "38",
          "38",
          "41",
          "42",
          "43",
          "44",
          "45",
          "45",
          "47",
          "48",
          "48",
          "50"
         ],
         "y": [
          90.5,
          92.1,
          91.4,
          92.8,
          90.5,
          90.3,
          89.2,
          92,
          89.1,
          84.5,
          87.5,
          81.7,
          83,
          81.8,
          77.8,
          85.6,
          83.1,
          76.6,
          79.7,
          82.4,
          79.4,
          74.2,
          86.6,
          89.1,
          76.8,
          72.2,
          65.9,
          69,
          76.8,
          67.3,
          62.6,
          68.4,
          65.9,
          61.5,
          69.5,
          61.3,
          85.9,
          66.6,
          60.2,
          68.2,
          55.4,
          65,
          64.6,
          67.1,
          58.7,
          71.6,
          57.4,
          63.2,
          57.6,
          54.4
         ]
        },
        {
         "line": {
          "color": "Blue"
         },
         "mode": "lines+markers",
         "name": "Research",
         "text": [
          "University of Oxford",
          "California Institute of Technology",
          "University of Cambridge",
          "Stanford University",
          "Massachusetts Institute of Technology",
          "Princeton University",
          "Harvard University",
          "Yale University",
          "University of Chicago",
          "Imperial College London",
          "University of Pennsylvania",
          "Johns Hopkins University",
          "University of California, Berkeley",
          "ETH Zurich",
          "UCL",
          "Columbia University",
          "University of California, Los Angeles",
          "University of Toronto",
          "Cornell University",
          "Duke University",
          "University of Michigan-Ann Arbor",
          "Northwestern University",
          "Tsinghua University",
          "Peking University",
          "National University of Singapore",
          "University of Washington",
          "Carnegie Mellon University",
          "London School of Economics and Political Science",
          "New York University",
          "University of Edinburgh",
          "University of California, San Diego",
          "LMU Munich",
          "University of Melbourne",
          "University of British Columbia",
          "University of Hong Kong",
          "King�s College London",
          "The University of Tokyo",
          "�cole Polytechnique F�d�rale de Lausanne",
          "Georgia Institute of Technology",
          "University of Texas at Austin",
          "Karolinska Institute",
          "McGill University",
          "Technical University of Munich",
          "Heidelberg University",
          "KU Leuven",
          "Paris Sciences et Lettres � PSL Research University Paris",
          "The Hong Kong University of Science and Technology",
          "University of Illinois at Urbana-Champaign",
          "Nanyang Technological University, Singapore",
          "Australian National University"
         ],
         "type": "scatter",
         "x": [
          "1",
          "2",
          "3",
          "4",
          "5",
          "6",
          "7",
          "8",
          "9",
          "10",
          "11",
          "12",
          "13",
          "13",
          "15",
          "16",
          "17",
          "18",
          "19",
          "20",
          "21",
          "22",
          "23",
          "24",
          "25",
          "26",
          "27",
          "27",
          "29",
          "30",
          "31",
          "32",
          "32",
          "34",
          "35",
          "36",
          "36",
          "38",
          "38",
          "38",
          "41",
          "42",
          "43",
          "44",
          "45",
          "45",
          "47",
          "48",
          "48",
          "50"
         ],
         "y": [
          99.6,
          97.2,
          98.7,
          96.4,
          92.4,
          96.3,
          98.6,
          94.8,
          91.4,
          87.6,
          90.4,
          91.4,
          90.6,
          92.8,
          88.7,
          82.6,
          88.6,
          89.5,
          86,
          76.8,
          86.1,
          83.8,
          94,
          90,
          90.4,
          82.2,
          82.7,
          83,
          77.5,
          74.1,
          78.9,
          77,
          74.1,
          73.2,
          77.2,
          68.5,
          89.6,
          66.3,
          76.4,
          76.2,
          71.4,
          71.9,
          70.4,
          60.3,
          73.9,
          71.4,
          66.1,
          78,
          70.4,
          69.7
         ]
        },
        {
         "line": {
          "color": "red"
         },
         "mode": "lines+markers",
         "name": "Total score",
         "text": [
          "University of Oxford",
          "California Institute of Technology",
          "University of Cambridge",
          "Stanford University",
          "Massachusetts Institute of Technology",
          "Princeton University",
          "Harvard University",
          "Yale University",
          "University of Chicago",
          "Imperial College London",
          "University of Pennsylvania",
          "Johns Hopkins University",
          "University of California, Berkeley",
          "ETH Zurich",
          "UCL",
          "Columbia University",
          "University of California, Los Angeles",
          "University of Toronto",
          "Cornell University",
          "Duke University",
          "University of Michigan-Ann Arbor",
          "Northwestern University",
          "Tsinghua University",
          "Peking University",
          "National University of Singapore",
          "University of Washington",
          "Carnegie Mellon University",
          "London School of Economics and Political Science",
          "New York University",
          "University of Edinburgh",
          "University of California, San Diego",
          "LMU Munich",
          "University of Melbourne",
          "University of British Columbia",
          "University of Hong Kong",
          "King�s College London",
          "The University of Tokyo",
          "�cole Polytechnique F�d�rale de Lausanne",
          "Georgia Institute of Technology",
          "University of Texas at Austin",
          "Karolinska Institute",
          "McGill University",
          "Technical University of Munich",
          "Heidelberg University",
          "KU Leuven",
          "Paris Sciences et Lettres � PSL Research University Paris",
          "The Hong Kong University of Science and Technology",
          "University of Illinois at Urbana-Champaign",
          "Nanyang Technological University, Singapore",
          "Australian National University"
         ],
         "type": "scatter",
         "x": [
          "1",
          "2",
          "3",
          "4",
          "5",
          "6",
          "7",
          "8",
          "9",
          "10",
          "11",
          "12",
          "13",
          "13",
          "15",
          "16",
          "17",
          "18",
          "19",
          "20",
          "21",
          "22",
          "23",
          "24",
          "25",
          "26",
          "27",
          "27",
          "29",
          "30",
          "31",
          "32",
          "32",
          "34",
          "35",
          "36",
          "36",
          "38",
          "38",
          "38",
          "41",
          "42",
          "43",
          "44",
          "45",
          "45",
          "47",
          "48",
          "48",
          "50"
         ],
         "y": [
          95.4,
          94.5,
          94.4,
          94.3,
          93.6,
          93.2,
          93,
          91.7,
          90.2,
          89.8,
          89.6,
          89.2,
          88.3,
          88.3,
          87.1,
          87,
          86.8,
          85.5,
          85.1,
          84,
          83.8,
          83.5,
          82.6,
          82.3,
          81.9,
          81.6,
          81.3,
          81.3,
          81.1,
          79.3,
          78.8,
          77.8,
          77.8,
          76.3,
          75.9,
          75.7,
          75.7,
          75.4,
          75.4,
          75.4,
          74.7,
          74.3,
          74.1,
          73.5,
          73.2,
          73.2,
          73.1,
          73,
          72.9,
          72.1
         ]
        }
       ],
       "layout": {
        "template": {
         "data": {
          "bar": [
           {
            "error_x": {
             "color": "#2a3f5f"
            },
            "error_y": {
             "color": "#2a3f5f"
            },
            "marker": {
             "line": {
              "color": "#E5ECF6",
              "width": 0.5
             }
            },
            "type": "bar"
           }
          ],
          "barpolar": [
           {
            "marker": {
             "line": {
              "color": "#E5ECF6",
              "width": 0.5
             }
            },
            "type": "barpolar"
           }
          ],
          "carpet": [
           {
            "aaxis": {
             "endlinecolor": "#2a3f5f",
             "gridcolor": "white",
             "linecolor": "white",
             "minorgridcolor": "white",
             "startlinecolor": "#2a3f5f"
            },
            "baxis": {
             "endlinecolor": "#2a3f5f",
             "gridcolor": "white",
             "linecolor": "white",
             "minorgridcolor": "white",
             "startlinecolor": "#2a3f5f"
            },
            "type": "carpet"
           }
          ],
          "choropleth": [
           {
            "colorbar": {
             "outlinewidth": 0,
             "ticks": ""
            },
            "type": "choropleth"
           }
          ],
          "contour": [
           {
            "colorbar": {
             "outlinewidth": 0,
             "ticks": ""
            },
            "colorscale": [
             [
              0,
              "#0d0887"
             ],
             [
              0.1111111111111111,
              "#46039f"
             ],
             [
              0.2222222222222222,
              "#7201a8"
             ],
             [
              0.3333333333333333,
              "#9c179e"
             ],
             [
              0.4444444444444444,
              "#bd3786"
             ],
             [
              0.5555555555555556,
              "#d8576b"
             ],
             [
              0.6666666666666666,
              "#ed7953"
             ],
             [
              0.7777777777777778,
              "#fb9f3a"
             ],
             [
              0.8888888888888888,
              "#fdca26"
             ],
             [
              1,
              "#f0f921"
             ]
            ],
            "type": "contour"
           }
          ],
          "contourcarpet": [
           {
            "colorbar": {
             "outlinewidth": 0,
             "ticks": ""
            },
            "type": "contourcarpet"
           }
          ],
          "heatmap": [
           {
            "colorbar": {
             "outlinewidth": 0,
             "ticks": ""
            },
            "colorscale": [
             [
              0,
              "#0d0887"
             ],
             [
              0.1111111111111111,
              "#46039f"
             ],
             [
              0.2222222222222222,
              "#7201a8"
             ],
             [
              0.3333333333333333,
              "#9c179e"
             ],
             [
              0.4444444444444444,
              "#bd3786"
             ],
             [
              0.5555555555555556,
              "#d8576b"
             ],
             [
              0.6666666666666666,
              "#ed7953"
             ],
             [
              0.7777777777777778,
              "#fb9f3a"
             ],
             [
              0.8888888888888888,
              "#fdca26"
             ],
             [
              1,
              "#f0f921"
             ]
            ],
            "type": "heatmap"
           }
          ],
          "heatmapgl": [
           {
            "colorbar": {
             "outlinewidth": 0,
             "ticks": ""
            },
            "colorscale": [
             [
              0,
              "#0d0887"
             ],
             [
              0.1111111111111111,
              "#46039f"
             ],
             [
              0.2222222222222222,
              "#7201a8"
             ],
             [
              0.3333333333333333,
              "#9c179e"
             ],
             [
              0.4444444444444444,
              "#bd3786"
             ],
             [
              0.5555555555555556,
              "#d8576b"
             ],
             [
              0.6666666666666666,
              "#ed7953"
             ],
             [
              0.7777777777777778,
              "#fb9f3a"
             ],
             [
              0.8888888888888888,
              "#fdca26"
             ],
             [
              1,
              "#f0f921"
             ]
            ],
            "type": "heatmapgl"
           }
          ],
          "histogram": [
           {
            "marker": {
             "colorbar": {
              "outlinewidth": 0,
              "ticks": ""
             }
            },
            "type": "histogram"
           }
          ],
          "histogram2d": [
           {
            "colorbar": {
             "outlinewidth": 0,
             "ticks": ""
            },
            "colorscale": [
             [
              0,
              "#0d0887"
             ],
             [
              0.1111111111111111,
              "#46039f"
             ],
             [
              0.2222222222222222,
              "#7201a8"
             ],
             [
              0.3333333333333333,
              "#9c179e"
             ],
             [
              0.4444444444444444,
              "#bd3786"
             ],
             [
              0.5555555555555556,
              "#d8576b"
             ],
             [
              0.6666666666666666,
              "#ed7953"
             ],
             [
              0.7777777777777778,
              "#fb9f3a"
             ],
             [
              0.8888888888888888,
              "#fdca26"
             ],
             [
              1,
              "#f0f921"
             ]
            ],
            "type": "histogram2d"
           }
          ],
          "histogram2dcontour": [
           {
            "colorbar": {
             "outlinewidth": 0,
             "ticks": ""
            },
            "colorscale": [
             [
              0,
              "#0d0887"
             ],
             [
              0.1111111111111111,
              "#46039f"
             ],
             [
              0.2222222222222222,
              "#7201a8"
             ],
             [
              0.3333333333333333,
              "#9c179e"
             ],
             [
              0.4444444444444444,
              "#bd3786"
             ],
             [
              0.5555555555555556,
              "#d8576b"
             ],
             [
              0.6666666666666666,
              "#ed7953"
             ],
             [
              0.7777777777777778,
              "#fb9f3a"
             ],
             [
              0.8888888888888888,
              "#fdca26"
             ],
             [
              1,
              "#f0f921"
             ]
            ],
            "type": "histogram2dcontour"
           }
          ],
          "mesh3d": [
           {
            "colorbar": {
             "outlinewidth": 0,
             "ticks": ""
            },
            "type": "mesh3d"
           }
          ],
          "parcoords": [
           {
            "line": {
             "colorbar": {
              "outlinewidth": 0,
              "ticks": ""
             }
            },
            "type": "parcoords"
           }
          ],
          "pie": [
           {
            "automargin": true,
            "type": "pie"
           }
          ],
          "scatter": [
           {
            "marker": {
             "colorbar": {
              "outlinewidth": 0,
              "ticks": ""
             }
            },
            "type": "scatter"
           }
          ],
          "scatter3d": [
           {
            "line": {
             "colorbar": {
              "outlinewidth": 0,
              "ticks": ""
             }
            },
            "marker": {
             "colorbar": {
              "outlinewidth": 0,
              "ticks": ""
             }
            },
            "type": "scatter3d"
           }
          ],
          "scattercarpet": [
           {
            "marker": {
             "colorbar": {
              "outlinewidth": 0,
              "ticks": ""
             }
            },
            "type": "scattercarpet"
           }
          ],
          "scattergeo": [
           {
            "marker": {
             "colorbar": {
              "outlinewidth": 0,
              "ticks": ""
             }
            },
            "type": "scattergeo"
           }
          ],
          "scattergl": [
           {
            "marker": {
             "colorbar": {
              "outlinewidth": 0,
              "ticks": ""
             }
            },
            "type": "scattergl"
           }
          ],
          "scattermapbox": [
           {
            "marker": {
             "colorbar": {
              "outlinewidth": 0,
              "ticks": ""
             }
            },
            "type": "scattermapbox"
           }
          ],
          "scatterpolar": [
           {
            "marker": {
             "colorbar": {
              "outlinewidth": 0,
              "ticks": ""
             }
            },
            "type": "scatterpolar"
           }
          ],
          "scatterpolargl": [
           {
            "marker": {
             "colorbar": {
              "outlinewidth": 0,
              "ticks": ""
             }
            },
            "type": "scatterpolargl"
           }
          ],
          "scatterternary": [
           {
            "marker": {
             "colorbar": {
              "outlinewidth": 0,
              "ticks": ""
             }
            },
            "type": "scatterternary"
           }
          ],
          "surface": [
           {
            "colorbar": {
             "outlinewidth": 0,
             "ticks": ""
            },
            "colorscale": [
             [
              0,
              "#0d0887"
             ],
             [
              0.1111111111111111,
              "#46039f"
             ],
             [
              0.2222222222222222,
              "#7201a8"
             ],
             [
              0.3333333333333333,
              "#9c179e"
             ],
             [
              0.4444444444444444,
              "#bd3786"
             ],
             [
              0.5555555555555556,
              "#d8576b"
             ],
             [
              0.6666666666666666,
              "#ed7953"
             ],
             [
              0.7777777777777778,
              "#fb9f3a"
             ],
             [
              0.8888888888888888,
              "#fdca26"
             ],
             [
              1,
              "#f0f921"
             ]
            ],
            "type": "surface"
           }
          ],
          "table": [
           {
            "cells": {
             "fill": {
              "color": "#EBF0F8"
             },
             "line": {
              "color": "white"
             }
            },
            "header": {
             "fill": {
              "color": "#C8D4E3"
             },
             "line": {
              "color": "white"
             }
            },
            "type": "table"
           }
          ]
         },
         "layout": {
          "annotationdefaults": {
           "arrowcolor": "#2a3f5f",
           "arrowhead": 0,
           "arrowwidth": 1
          },
          "coloraxis": {
           "colorbar": {
            "outlinewidth": 0,
            "ticks": ""
           }
          },
          "colorscale": {
           "diverging": [
            [
             0,
             "#8e0152"
            ],
            [
             0.1,
             "#c51b7d"
            ],
            [
             0.2,
             "#de77ae"
            ],
            [
             0.3,
             "#f1b6da"
            ],
            [
             0.4,
             "#fde0ef"
            ],
            [
             0.5,
             "#f7f7f7"
            ],
            [
             0.6,
             "#e6f5d0"
            ],
            [
             0.7,
             "#b8e186"
            ],
            [
             0.8,
             "#7fbc41"
            ],
            [
             0.9,
             "#4d9221"
            ],
            [
             1,
             "#276419"
            ]
           ],
           "sequential": [
            [
             0,
             "#0d0887"
            ],
            [
             0.1111111111111111,
             "#46039f"
            ],
            [
             0.2222222222222222,
             "#7201a8"
            ],
            [
             0.3333333333333333,
             "#9c179e"
            ],
            [
             0.4444444444444444,
             "#bd3786"
            ],
            [
             0.5555555555555556,
             "#d8576b"
            ],
            [
             0.6666666666666666,
             "#ed7953"
            ],
            [
             0.7777777777777778,
             "#fb9f3a"
            ],
            [
             0.8888888888888888,
             "#fdca26"
            ],
            [
             1,
             "#f0f921"
            ]
           ],
           "sequentialminus": [
            [
             0,
             "#0d0887"
            ],
            [
             0.1111111111111111,
             "#46039f"
            ],
            [
             0.2222222222222222,
             "#7201a8"
            ],
            [
             0.3333333333333333,
             "#9c179e"
            ],
            [
             0.4444444444444444,
             "#bd3786"
            ],
            [
             0.5555555555555556,
             "#d8576b"
            ],
            [
             0.6666666666666666,
             "#ed7953"
            ],
            [
             0.7777777777777778,
             "#fb9f3a"
            ],
            [
             0.8888888888888888,
             "#fdca26"
            ],
            [
             1,
             "#f0f921"
            ]
           ]
          },
          "colorway": [
           "#636efa",
           "#EF553B",
           "#00cc96",
           "#ab63fa",
           "#FFA15A",
           "#19d3f3",
           "#FF6692",
           "#B6E880",
           "#FF97FF",
           "#FECB52"
          ],
          "font": {
           "color": "#2a3f5f"
          },
          "geo": {
           "bgcolor": "white",
           "lakecolor": "white",
           "landcolor": "#E5ECF6",
           "showlakes": true,
           "showland": true,
           "subunitcolor": "white"
          },
          "hoverlabel": {
           "align": "left"
          },
          "hovermode": "closest",
          "mapbox": {
           "style": "light"
          },
          "paper_bgcolor": "white",
          "plot_bgcolor": "#E5ECF6",
          "polar": {
           "angularaxis": {
            "gridcolor": "white",
            "linecolor": "white",
            "ticks": ""
           },
           "bgcolor": "#E5ECF6",
           "radialaxis": {
            "gridcolor": "white",
            "linecolor": "white",
            "ticks": ""
           }
          },
          "scene": {
           "xaxis": {
            "backgroundcolor": "#E5ECF6",
            "gridcolor": "white",
            "gridwidth": 2,
            "linecolor": "white",
            "showbackground": true,
            "ticks": "",
            "zerolinecolor": "white"
           },
           "yaxis": {
            "backgroundcolor": "#E5ECF6",
            "gridcolor": "white",
            "gridwidth": 2,
            "linecolor": "white",
            "showbackground": true,
            "ticks": "",
            "zerolinecolor": "white"
           },
           "zaxis": {
            "backgroundcolor": "#E5ECF6",
            "gridcolor": "white",
            "gridwidth": 2,
            "linecolor": "white",
            "showbackground": true,
            "ticks": "",
            "zerolinecolor": "white"
           }
          },
          "shapedefaults": {
           "line": {
            "color": "#2a3f5f"
           }
          },
          "ternary": {
           "aaxis": {
            "gridcolor": "white",
            "linecolor": "white",
            "ticks": ""
           },
           "baxis": {
            "gridcolor": "white",
            "linecolor": "white",
            "ticks": ""
           },
           "bgcolor": "#E5ECF6",
           "caxis": {
            "gridcolor": "white",
            "linecolor": "white",
            "ticks": ""
           }
          },
          "title": {
           "x": 0.05
          },
          "xaxis": {
           "automargin": true,
           "gridcolor": "white",
           "linecolor": "white",
           "ticks": "",
           "title": {
            "standoff": 15
           },
           "zerolinecolor": "white",
           "zerolinewidth": 2
          },
          "yaxis": {
           "automargin": true,
           "gridcolor": "white",
           "linecolor": "white",
           "ticks": "",
           "title": {
            "standoff": 15
           },
           "zerolinecolor": "white",
           "zerolinewidth": 2
          }
         }
        },
        "title": {
         "text": "Academic Environment and The Overall Score for The Top 50 Universities"
        },
        "xaxis": {
         "title": {
          "text": "World Rank"
         }
        },
        "yaxis": {
         "title": {
          "text": "Overall Score"
         }
        }
       }
      },
      "text/html": [
       "<div>                            <div id=\"ffb5202b-1173-4080-a1c1-438c8aace9c5\" class=\"plotly-graph-div\" style=\"height:525px; width:100%;\"></div>            <script type=\"text/javascript\">                require([\"plotly\"], function(Plotly) {                    window.PLOTLYENV=window.PLOTLYENV || {};                                    if (document.getElementById(\"ffb5202b-1173-4080-a1c1-438c8aace9c5\")) {                    Plotly.newPlot(                        \"ffb5202b-1173-4080-a1c1-438c8aace9c5\",                        [{\"marker\": {\"color\": \"Green\"}, \"mode\": \"lines+markers\", \"name\": \"Teaching\", \"text\": [\"University of Oxford\", \"California Institute of Technology\", \"University of Cambridge\", \"Stanford University\", \"Massachusetts Institute of Technology\", \"Princeton University\", \"Harvard University\", \"Yale University\", \"University of Chicago\", \"Imperial College London\", \"University of Pennsylvania\", \"Johns Hopkins University\", \"University of California, Berkeley\", \"ETH Zurich\", \"UCL\", \"Columbia University\", \"University of California, Los Angeles\", \"University of Toronto\", \"Cornell University\", \"Duke University\", \"University of Michigan-Ann Arbor\", \"Northwestern University\", \"Tsinghua University\", \"Peking University\", \"National University of Singapore\", \"University of Washington\", \"Carnegie Mellon University\", \"London School of Economics and Political Science\", \"New York University\", \"University of Edinburgh\", \"University of California, San Diego\", \"LMU Munich\", \"University of Melbourne\", \"University of British Columbia\", \"University of Hong Kong\", \"King\\ufffds College London\", \"The University of Tokyo\", \"\\ufffdcole Polytechnique F\\ufffdd\\ufffdrale de Lausanne\", \"Georgia Institute of Technology\", \"University of Texas at Austin\", \"Karolinska Institute\", \"McGill University\", \"Technical University of Munich\", \"Heidelberg University\", \"KU Leuven\", \"Paris Sciences et Lettres \\ufffd PSL Research University Paris\", \"The Hong Kong University of Science and Technology\", \"University of Illinois at Urbana-Champaign\", \"Nanyang Technological University, Singapore\", \"Australian National University\"], \"type\": \"scatter\", \"x\": [\"1\", \"2\", \"3\", \"4\", \"5\", \"6\", \"7\", \"8\", \"9\", \"10\", \"11\", \"12\", \"13\", \"13\", \"15\", \"16\", \"17\", \"18\", \"19\", \"20\", \"21\", \"22\", \"23\", \"24\", \"25\", \"26\", \"27\", \"27\", \"29\", \"30\", \"31\", \"32\", \"32\", \"34\", \"35\", \"36\", \"36\", \"38\", \"38\", \"38\", \"41\", \"42\", \"43\", \"44\", \"45\", \"45\", \"47\", \"48\", \"48\", \"50\"], \"y\": [90.5, 92.1, 91.4, 92.8, 90.5, 90.3, 89.2, 92.0, 89.1, 84.5, 87.5, 81.7, 83.0, 81.8, 77.8, 85.6, 83.1, 76.6, 79.7, 82.4, 79.4, 74.2, 86.6, 89.1, 76.8, 72.2, 65.9, 69.0, 76.8, 67.3, 62.6, 68.4, 65.9, 61.5, 69.5, 61.3, 85.9, 66.6, 60.2, 68.2, 55.4, 65.0, 64.6, 67.1, 58.7, 71.6, 57.4, 63.2, 57.6, 54.4]}, {\"line\": {\"color\": \"Blue\"}, \"mode\": \"lines+markers\", \"name\": \"Research\", \"text\": [\"University of Oxford\", \"California Institute of Technology\", \"University of Cambridge\", \"Stanford University\", \"Massachusetts Institute of Technology\", \"Princeton University\", \"Harvard University\", \"Yale University\", \"University of Chicago\", \"Imperial College London\", \"University of Pennsylvania\", \"Johns Hopkins University\", \"University of California, Berkeley\", \"ETH Zurich\", \"UCL\", \"Columbia University\", \"University of California, Los Angeles\", \"University of Toronto\", \"Cornell University\", \"Duke University\", \"University of Michigan-Ann Arbor\", \"Northwestern University\", \"Tsinghua University\", \"Peking University\", \"National University of Singapore\", \"University of Washington\", \"Carnegie Mellon University\", \"London School of Economics and Political Science\", \"New York University\", \"University of Edinburgh\", \"University of California, San Diego\", \"LMU Munich\", \"University of Melbourne\", \"University of British Columbia\", \"University of Hong Kong\", \"King\\ufffds College London\", \"The University of Tokyo\", \"\\ufffdcole Polytechnique F\\ufffdd\\ufffdrale de Lausanne\", \"Georgia Institute of Technology\", \"University of Texas at Austin\", \"Karolinska Institute\", \"McGill University\", \"Technical University of Munich\", \"Heidelberg University\", \"KU Leuven\", \"Paris Sciences et Lettres \\ufffd PSL Research University Paris\", \"The Hong Kong University of Science and Technology\", \"University of Illinois at Urbana-Champaign\", \"Nanyang Technological University, Singapore\", \"Australian National University\"], \"type\": \"scatter\", \"x\": [\"1\", \"2\", \"3\", \"4\", \"5\", \"6\", \"7\", \"8\", \"9\", \"10\", \"11\", \"12\", \"13\", \"13\", \"15\", \"16\", \"17\", \"18\", \"19\", \"20\", \"21\", \"22\", \"23\", \"24\", \"25\", \"26\", \"27\", \"27\", \"29\", \"30\", \"31\", \"32\", \"32\", \"34\", \"35\", \"36\", \"36\", \"38\", \"38\", \"38\", \"41\", \"42\", \"43\", \"44\", \"45\", \"45\", \"47\", \"48\", \"48\", \"50\"], \"y\": [99.6, 97.2, 98.7, 96.4, 92.4, 96.3, 98.6, 94.8, 91.4, 87.6, 90.4, 91.4, 90.6, 92.8, 88.7, 82.6, 88.6, 89.5, 86.0, 76.8, 86.1, 83.8, 94.0, 90.0, 90.4, 82.2, 82.7, 83.0, 77.5, 74.1, 78.9, 77.0, 74.1, 73.2, 77.2, 68.5, 89.6, 66.3, 76.4, 76.2, 71.4, 71.9, 70.4, 60.3, 73.9, 71.4, 66.1, 78.0, 70.4, 69.7]}, {\"line\": {\"color\": \"red\"}, \"mode\": \"lines+markers\", \"name\": \"Total score\", \"text\": [\"University of Oxford\", \"California Institute of Technology\", \"University of Cambridge\", \"Stanford University\", \"Massachusetts Institute of Technology\", \"Princeton University\", \"Harvard University\", \"Yale University\", \"University of Chicago\", \"Imperial College London\", \"University of Pennsylvania\", \"Johns Hopkins University\", \"University of California, Berkeley\", \"ETH Zurich\", \"UCL\", \"Columbia University\", \"University of California, Los Angeles\", \"University of Toronto\", \"Cornell University\", \"Duke University\", \"University of Michigan-Ann Arbor\", \"Northwestern University\", \"Tsinghua University\", \"Peking University\", \"National University of Singapore\", \"University of Washington\", \"Carnegie Mellon University\", \"London School of Economics and Political Science\", \"New York University\", \"University of Edinburgh\", \"University of California, San Diego\", \"LMU Munich\", \"University of Melbourne\", \"University of British Columbia\", \"University of Hong Kong\", \"King\\ufffds College London\", \"The University of Tokyo\", \"\\ufffdcole Polytechnique F\\ufffdd\\ufffdrale de Lausanne\", \"Georgia Institute of Technology\", \"University of Texas at Austin\", \"Karolinska Institute\", \"McGill University\", \"Technical University of Munich\", \"Heidelberg University\", \"KU Leuven\", \"Paris Sciences et Lettres \\ufffd PSL Research University Paris\", \"The Hong Kong University of Science and Technology\", \"University of Illinois at Urbana-Champaign\", \"Nanyang Technological University, Singapore\", \"Australian National University\"], \"type\": \"scatter\", \"x\": [\"1\", \"2\", \"3\", \"4\", \"5\", \"6\", \"7\", \"8\", \"9\", \"10\", \"11\", \"12\", \"13\", \"13\", \"15\", \"16\", \"17\", \"18\", \"19\", \"20\", \"21\", \"22\", \"23\", \"24\", \"25\", \"26\", \"27\", \"27\", \"29\", \"30\", \"31\", \"32\", \"32\", \"34\", \"35\", \"36\", \"36\", \"38\", \"38\", \"38\", \"41\", \"42\", \"43\", \"44\", \"45\", \"45\", \"47\", \"48\", \"48\", \"50\"], \"y\": [95.4, 94.5, 94.4, 94.3, 93.6, 93.2, 93.0, 91.7, 90.2, 89.8, 89.6, 89.2, 88.3, 88.3, 87.1, 87.0, 86.8, 85.5, 85.1, 84.0, 83.8, 83.5, 82.6, 82.3, 81.9, 81.6, 81.3, 81.3, 81.1, 79.3, 78.8, 77.8, 77.8, 76.3, 75.9, 75.7, 75.7, 75.4, 75.4, 75.4, 74.7, 74.3, 74.1, 73.5, 73.2, 73.2, 73.1, 73.0, 72.9, 72.1]}],                        {\"template\": {\"data\": {\"bar\": [{\"error_x\": {\"color\": \"#2a3f5f\"}, \"error_y\": {\"color\": \"#2a3f5f\"}, \"marker\": {\"line\": {\"color\": \"#E5ECF6\", \"width\": 0.5}}, \"type\": \"bar\"}], \"barpolar\": [{\"marker\": {\"line\": {\"color\": \"#E5ECF6\", \"width\": 0.5}}, \"type\": \"barpolar\"}], \"carpet\": [{\"aaxis\": {\"endlinecolor\": \"#2a3f5f\", \"gridcolor\": \"white\", \"linecolor\": \"white\", \"minorgridcolor\": \"white\", \"startlinecolor\": \"#2a3f5f\"}, \"baxis\": {\"endlinecolor\": \"#2a3f5f\", \"gridcolor\": \"white\", \"linecolor\": \"white\", \"minorgridcolor\": \"white\", \"startlinecolor\": \"#2a3f5f\"}, \"type\": \"carpet\"}], \"choropleth\": [{\"colorbar\": {\"outlinewidth\": 0, \"ticks\": \"\"}, \"type\": \"choropleth\"}], \"contour\": [{\"colorbar\": {\"outlinewidth\": 0, \"ticks\": \"\"}, \"colorscale\": [[0.0, \"#0d0887\"], [0.1111111111111111, \"#46039f\"], [0.2222222222222222, \"#7201a8\"], [0.3333333333333333, \"#9c179e\"], [0.4444444444444444, \"#bd3786\"], [0.5555555555555556, \"#d8576b\"], [0.6666666666666666, \"#ed7953\"], [0.7777777777777778, \"#fb9f3a\"], [0.8888888888888888, \"#fdca26\"], [1.0, \"#f0f921\"]], \"type\": \"contour\"}], \"contourcarpet\": [{\"colorbar\": {\"outlinewidth\": 0, \"ticks\": \"\"}, \"type\": \"contourcarpet\"}], \"heatmap\": [{\"colorbar\": {\"outlinewidth\": 0, \"ticks\": \"\"}, \"colorscale\": [[0.0, \"#0d0887\"], [0.1111111111111111, \"#46039f\"], [0.2222222222222222, \"#7201a8\"], [0.3333333333333333, \"#9c179e\"], [0.4444444444444444, \"#bd3786\"], [0.5555555555555556, \"#d8576b\"], [0.6666666666666666, \"#ed7953\"], [0.7777777777777778, \"#fb9f3a\"], [0.8888888888888888, \"#fdca26\"], [1.0, \"#f0f921\"]], \"type\": \"heatmap\"}], \"heatmapgl\": [{\"colorbar\": {\"outlinewidth\": 0, \"ticks\": \"\"}, \"colorscale\": [[0.0, \"#0d0887\"], [0.1111111111111111, \"#46039f\"], [0.2222222222222222, \"#7201a8\"], [0.3333333333333333, \"#9c179e\"], [0.4444444444444444, \"#bd3786\"], [0.5555555555555556, \"#d8576b\"], [0.6666666666666666, \"#ed7953\"], [0.7777777777777778, \"#fb9f3a\"], [0.8888888888888888, \"#fdca26\"], [1.0, \"#f0f921\"]], \"type\": \"heatmapgl\"}], \"histogram\": [{\"marker\": {\"colorbar\": {\"outlinewidth\": 0, \"ticks\": \"\"}}, \"type\": \"histogram\"}], \"histogram2d\": [{\"colorbar\": {\"outlinewidth\": 0, \"ticks\": \"\"}, \"colorscale\": [[0.0, \"#0d0887\"], [0.1111111111111111, \"#46039f\"], [0.2222222222222222, \"#7201a8\"], [0.3333333333333333, \"#9c179e\"], [0.4444444444444444, \"#bd3786\"], [0.5555555555555556, \"#d8576b\"], [0.6666666666666666, \"#ed7953\"], [0.7777777777777778, \"#fb9f3a\"], [0.8888888888888888, \"#fdca26\"], [1.0, \"#f0f921\"]], \"type\": \"histogram2d\"}], \"histogram2dcontour\": [{\"colorbar\": {\"outlinewidth\": 0, \"ticks\": \"\"}, \"colorscale\": [[0.0, \"#0d0887\"], [0.1111111111111111, \"#46039f\"], [0.2222222222222222, \"#7201a8\"], [0.3333333333333333, \"#9c179e\"], [0.4444444444444444, \"#bd3786\"], [0.5555555555555556, \"#d8576b\"], [0.6666666666666666, \"#ed7953\"], [0.7777777777777778, \"#fb9f3a\"], [0.8888888888888888, \"#fdca26\"], [1.0, \"#f0f921\"]], \"type\": \"histogram2dcontour\"}], \"mesh3d\": [{\"colorbar\": {\"outlinewidth\": 0, \"ticks\": \"\"}, \"type\": \"mesh3d\"}], \"parcoords\": [{\"line\": {\"colorbar\": {\"outlinewidth\": 0, \"ticks\": \"\"}}, \"type\": \"parcoords\"}], \"pie\": [{\"automargin\": true, \"type\": \"pie\"}], \"scatter\": [{\"marker\": {\"colorbar\": {\"outlinewidth\": 0, \"ticks\": \"\"}}, \"type\": \"scatter\"}], \"scatter3d\": [{\"line\": {\"colorbar\": {\"outlinewidth\": 0, \"ticks\": \"\"}}, \"marker\": {\"colorbar\": {\"outlinewidth\": 0, \"ticks\": \"\"}}, \"type\": \"scatter3d\"}], \"scattercarpet\": [{\"marker\": {\"colorbar\": {\"outlinewidth\": 0, \"ticks\": \"\"}}, \"type\": \"scattercarpet\"}], \"scattergeo\": [{\"marker\": {\"colorbar\": {\"outlinewidth\": 0, \"ticks\": \"\"}}, \"type\": \"scattergeo\"}], \"scattergl\": [{\"marker\": {\"colorbar\": {\"outlinewidth\": 0, \"ticks\": \"\"}}, \"type\": \"scattergl\"}], \"scattermapbox\": [{\"marker\": {\"colorbar\": {\"outlinewidth\": 0, \"ticks\": \"\"}}, \"type\": \"scattermapbox\"}], \"scatterpolar\": [{\"marker\": {\"colorbar\": {\"outlinewidth\": 0, \"ticks\": \"\"}}, \"type\": \"scatterpolar\"}], \"scatterpolargl\": [{\"marker\": {\"colorbar\": {\"outlinewidth\": 0, \"ticks\": \"\"}}, \"type\": \"scatterpolargl\"}], \"scatterternary\": [{\"marker\": {\"colorbar\": {\"outlinewidth\": 0, \"ticks\": \"\"}}, \"type\": \"scatterternary\"}], \"surface\": [{\"colorbar\": {\"outlinewidth\": 0, \"ticks\": \"\"}, \"colorscale\": [[0.0, \"#0d0887\"], [0.1111111111111111, \"#46039f\"], [0.2222222222222222, \"#7201a8\"], [0.3333333333333333, \"#9c179e\"], [0.4444444444444444, \"#bd3786\"], [0.5555555555555556, \"#d8576b\"], [0.6666666666666666, \"#ed7953\"], [0.7777777777777778, \"#fb9f3a\"], [0.8888888888888888, \"#fdca26\"], [1.0, \"#f0f921\"]], \"type\": \"surface\"}], \"table\": [{\"cells\": {\"fill\": {\"color\": \"#EBF0F8\"}, \"line\": {\"color\": \"white\"}}, \"header\": {\"fill\": {\"color\": \"#C8D4E3\"}, \"line\": {\"color\": \"white\"}}, \"type\": \"table\"}]}, \"layout\": {\"annotationdefaults\": {\"arrowcolor\": \"#2a3f5f\", \"arrowhead\": 0, \"arrowwidth\": 1}, \"coloraxis\": {\"colorbar\": {\"outlinewidth\": 0, \"ticks\": \"\"}}, \"colorscale\": {\"diverging\": [[0, \"#8e0152\"], [0.1, \"#c51b7d\"], [0.2, \"#de77ae\"], [0.3, \"#f1b6da\"], [0.4, \"#fde0ef\"], [0.5, \"#f7f7f7\"], [0.6, \"#e6f5d0\"], [0.7, \"#b8e186\"], [0.8, \"#7fbc41\"], [0.9, \"#4d9221\"], [1, \"#276419\"]], \"sequential\": [[0.0, \"#0d0887\"], [0.1111111111111111, \"#46039f\"], [0.2222222222222222, \"#7201a8\"], [0.3333333333333333, \"#9c179e\"], [0.4444444444444444, \"#bd3786\"], [0.5555555555555556, \"#d8576b\"], [0.6666666666666666, \"#ed7953\"], [0.7777777777777778, \"#fb9f3a\"], [0.8888888888888888, \"#fdca26\"], [1.0, \"#f0f921\"]], \"sequentialminus\": [[0.0, \"#0d0887\"], [0.1111111111111111, \"#46039f\"], [0.2222222222222222, \"#7201a8\"], [0.3333333333333333, \"#9c179e\"], [0.4444444444444444, \"#bd3786\"], [0.5555555555555556, \"#d8576b\"], [0.6666666666666666, \"#ed7953\"], [0.7777777777777778, \"#fb9f3a\"], [0.8888888888888888, \"#fdca26\"], [1.0, \"#f0f921\"]]}, \"colorway\": [\"#636efa\", \"#EF553B\", \"#00cc96\", \"#ab63fa\", \"#FFA15A\", \"#19d3f3\", \"#FF6692\", \"#B6E880\", \"#FF97FF\", \"#FECB52\"], \"font\": {\"color\": \"#2a3f5f\"}, \"geo\": {\"bgcolor\": \"white\", \"lakecolor\": \"white\", \"landcolor\": \"#E5ECF6\", \"showlakes\": true, \"showland\": true, \"subunitcolor\": \"white\"}, \"hoverlabel\": {\"align\": \"left\"}, \"hovermode\": \"closest\", \"mapbox\": {\"style\": \"light\"}, \"paper_bgcolor\": \"white\", \"plot_bgcolor\": \"#E5ECF6\", \"polar\": {\"angularaxis\": {\"gridcolor\": \"white\", \"linecolor\": \"white\", \"ticks\": \"\"}, \"bgcolor\": \"#E5ECF6\", \"radialaxis\": {\"gridcolor\": \"white\", \"linecolor\": \"white\", \"ticks\": \"\"}}, \"scene\": {\"xaxis\": {\"backgroundcolor\": \"#E5ECF6\", \"gridcolor\": \"white\", \"gridwidth\": 2, \"linecolor\": \"white\", \"showbackground\": true, \"ticks\": \"\", \"zerolinecolor\": \"white\"}, \"yaxis\": {\"backgroundcolor\": \"#E5ECF6\", \"gridcolor\": \"white\", \"gridwidth\": 2, \"linecolor\": \"white\", \"showbackground\": true, \"ticks\": \"\", \"zerolinecolor\": \"white\"}, \"zaxis\": {\"backgroundcolor\": \"#E5ECF6\", \"gridcolor\": \"white\", \"gridwidth\": 2, \"linecolor\": \"white\", \"showbackground\": true, \"ticks\": \"\", \"zerolinecolor\": \"white\"}}, \"shapedefaults\": {\"line\": {\"color\": \"#2a3f5f\"}}, \"ternary\": {\"aaxis\": {\"gridcolor\": \"white\", \"linecolor\": \"white\", \"ticks\": \"\"}, \"baxis\": {\"gridcolor\": \"white\", \"linecolor\": \"white\", \"ticks\": \"\"}, \"bgcolor\": \"#E5ECF6\", \"caxis\": {\"gridcolor\": \"white\", \"linecolor\": \"white\", \"ticks\": \"\"}}, \"title\": {\"x\": 0.05}, \"xaxis\": {\"automargin\": true, \"gridcolor\": \"white\", \"linecolor\": \"white\", \"ticks\": \"\", \"title\": {\"standoff\": 15}, \"zerolinecolor\": \"white\", \"zerolinewidth\": 2}, \"yaxis\": {\"automargin\": true, \"gridcolor\": \"white\", \"linecolor\": \"white\", \"ticks\": \"\", \"title\": {\"standoff\": 15}, \"zerolinecolor\": \"white\", \"zerolinewidth\": 2}}}, \"title\": {\"text\": \"Academic Environment and The Overall Score for The Top 50 Universities\"}, \"xaxis\": {\"title\": {\"text\": \"World Rank\"}}, \"yaxis\": {\"title\": {\"text\": \"Overall Score\"}}},                        {\"responsive\": true}                    ).then(function(){\n",
       "                            \n",
       "var gd = document.getElementById('ffb5202b-1173-4080-a1c1-438c8aace9c5');\n",
       "var x = new MutationObserver(function (mutations, observer) {{\n",
       "        var display = window.getComputedStyle(gd).display;\n",
       "        if (!display || display === 'none') {{\n",
       "            console.log([gd, 'removed!']);\n",
       "            Plotly.purge(gd);\n",
       "            observer.disconnect();\n",
       "        }}\n",
       "}});\n",
       "\n",
       "// Listen for the removal of the full notebook cells\n",
       "var notebookContainer = gd.closest('#notebook-container');\n",
       "if (notebookContainer) {{\n",
       "    x.observe(notebookContainer, {childList: true});\n",
       "}}\n",
       "\n",
       "// Listen for the clearing of the current output cell\n",
       "var outputEl = gd.closest('.output');\n",
       "if (outputEl) {{\n",
       "    x.observe(outputEl, {childList: true});\n",
       "}}\n",
       "\n",
       "                        })                };                });            </script>        </div>"
      ]
     },
     "metadata": {},
     "output_type": "display_data"
    }
   ],
   "source": [
    "# top 50 universities and their academic performace\n",
    "\n",
    "uni_top50 = df.head(50) # select the top 50 universities \n",
    "\n",
    "# go.Scatter was used for plotting points and lines \n",
    "fig1 = go.Scatter(\n",
    "    x=uni_top50[\"Rank\"], # assigning x and y values: ranking and teaching columns respectively\n",
    "    y=uni_top50[\"Teaching\"],\n",
    "    mode=\"lines+markers\", # the line and mark points \n",
    "    name = \"Teaching\", # name of the scatter plot\n",
    "    marker = dict(color = 'Green'), # the color \n",
    "    text= uni_top50[\"University\"] # displaying university's name\n",
    ")\n",
    "\n",
    "fig2 = go.Scatter(\n",
    "    x=uni_top50[\"Rank\"],\n",
    "    y=uni_top50[\"Research\"],\n",
    "    name = \"Research\",\n",
    "    mode = \"lines+markers\",\n",
    "    line = dict(color = 'Blue'),\n",
    "    text= uni_top50[\"University\"]\n",
    ")\n",
    "\n",
    "fig3 = go.Scatter(\n",
    "    x=uni_top50[\"Rank\"],\n",
    "    y=uni_top50[\"Score_Result\"],\n",
    "    name = \"Total score\",\n",
    "    mode = \"lines+markers\",\n",
    "    line = dict(color = 'red'),\n",
    "    text= uni_top50[\"University\"]\n",
    ")\n",
    "\n",
    "data = [fig1, fig2, fig3]\n",
    "layout = dict(title = 'Academic Environment and The Overall Score for The Top 50 Universities', # the title\n",
    "              xaxis = dict(title = 'World Rank'), # x-axis title\n",
    "              yaxis = dict(title = 'Overall Score')) # y-axis title\n",
    "fig = dict(data = data, layout = layout, frames = None) \n",
    "iplot(fig) # display\n",
    "\n",
    "# THE SCATTER PLOT BELOW IS NOT VISIBLE IN GIT"
   ]
  },
  {
   "cell_type": "markdown",
   "metadata": {},
   "source": [
    "Since there was a big difference between min and max values for both Research and Teaching, I decided to consider the distribution of the first top 50 universities."
   ]
  },
  {
   "cell_type": "markdown",
   "metadata": {},
   "source": [
    "**Distribution Analysis:**\n",
    "\n",
    "The scatter plot above shows the distribution of an academic performance by the rank as well as the overall score by the rank. The academic performance in this case includes Teaching and Research areas.\n",
    "As for the visualization I chose to build a scatter plot because it perfectly fits on what should be done, i.e.\n",
    "display the values of different variables as points. For the mode argument, I decided to choose both lines and points for more convenient view of data. \n",
    "\n",
    "By navigating to the points, we can obtain data on particular university. For instance, we can conclude that University of Oxford has the total (overall) score of 95.4 being the top 1 university in the world. \n",
    "\n",
    "\n",
    "It should be mentioned that both teaching and research environments have a weight of 30% each in the calculation of the total score for the universities. "
   ]
  },
  {
   "cell_type": "markdown",
   "metadata": {},
   "source": [
    "### 5.3 Q3: Analyze gender diversity in higher education institutions"
   ]
  },
  {
   "cell_type": "markdown",
   "metadata": {},
   "source": [
    "The percentage of both female and male students is also taken into account and is presented in the dataset. As for this question, I will be analyzing the diversity of gender in the first hundred higher education institutions."
   ]
  },
  {
   "cell_type": "code",
   "execution_count": 69,
   "metadata": {},
   "outputs": [
    {
     "data": {
      "text/html": [
       "<div>\n",
       "<style scoped>\n",
       "    .dataframe tbody tr th:only-of-type {\n",
       "        vertical-align: middle;\n",
       "    }\n",
       "\n",
       "    .dataframe tbody tr th {\n",
       "        vertical-align: top;\n",
       "    }\n",
       "\n",
       "    .dataframe thead th {\n",
       "        text-align: right;\n",
       "    }\n",
       "</style>\n",
       "<table border=\"1\" class=\"dataframe\">\n",
       "  <thead>\n",
       "    <tr style=\"text-align: right;\">\n",
       "      <th></th>\n",
       "      <th>University</th>\n",
       "      <th>Percentage_Male</th>\n",
       "    </tr>\n",
       "  </thead>\n",
       "  <tbody>\n",
       "    <tr>\n",
       "      <th>0</th>\n",
       "      <td>University of Oxford</td>\n",
       "      <td>54%</td>\n",
       "    </tr>\n",
       "    <tr>\n",
       "      <th>1</th>\n",
       "      <td>California Institute of Technology</td>\n",
       "      <td>66%</td>\n",
       "    </tr>\n",
       "    <tr>\n",
       "      <th>2</th>\n",
       "      <td>University of Cambridge</td>\n",
       "      <td>53%</td>\n",
       "    </tr>\n",
       "    <tr>\n",
       "      <th>3</th>\n",
       "      <td>Stanford University</td>\n",
       "      <td>57%</td>\n",
       "    </tr>\n",
       "    <tr>\n",
       "      <th>4</th>\n",
       "      <td>Massachusetts Institute of Technology</td>\n",
       "      <td>61%</td>\n",
       "    </tr>\n",
       "    <tr>\n",
       "      <th>...</th>\n",
       "      <td>...</td>\n",
       "      <td>...</td>\n",
       "    </tr>\n",
       "    <tr>\n",
       "      <th>95</th>\n",
       "      <td>University of California, Irvine</td>\n",
       "      <td>48%</td>\n",
       "    </tr>\n",
       "    <tr>\n",
       "      <th>96</th>\n",
       "      <td>University of Helsinki</td>\n",
       "      <td>34%</td>\n",
       "    </tr>\n",
       "    <tr>\n",
       "      <th>97</th>\n",
       "      <td>Lund University</td>\n",
       "      <td>46%</td>\n",
       "    </tr>\n",
       "    <tr>\n",
       "      <th>98</th>\n",
       "      <td>University of Glasgow</td>\n",
       "      <td>41%</td>\n",
       "    </tr>\n",
       "    <tr>\n",
       "      <th>99</th>\n",
       "      <td>RWTH Aachen University</td>\n",
       "      <td>68%</td>\n",
       "    </tr>\n",
       "  </tbody>\n",
       "</table>\n",
       "<p>100 rows × 2 columns</p>\n",
       "</div>"
      ],
      "text/plain": [
       "                               University Percentage_Male\n",
       "0                    University of Oxford             54%\n",
       "1      California Institute of Technology             66%\n",
       "2                 University of Cambridge             53%\n",
       "3                     Stanford University             57%\n",
       "4   Massachusetts Institute of Technology             61%\n",
       "..                                    ...             ...\n",
       "95       University of California, Irvine             48%\n",
       "96                 University of Helsinki             34%\n",
       "97                        Lund University             46%\n",
       "98                  University of Glasgow             41%\n",
       "99                 RWTH Aachen University             68%\n",
       "\n",
       "[100 rows x 2 columns]"
      ]
     },
     "execution_count": 69,
     "metadata": {},
     "output_type": "execute_result"
    }
   ],
   "source": [
    "# Data preparation for Q3\n",
    "\n",
    "df = uni_rank.head(100) \n",
    "# displaying male percentage per each university\n",
    "male = df[['University','Percentage_Male']]\n",
    "male"
   ]
  },
  {
   "cell_type": "code",
   "execution_count": 70,
   "metadata": {},
   "outputs": [
    {
     "data": {
      "text/html": [
       "<div>\n",
       "<style scoped>\n",
       "    .dataframe tbody tr th:only-of-type {\n",
       "        vertical-align: middle;\n",
       "    }\n",
       "\n",
       "    .dataframe tbody tr th {\n",
       "        vertical-align: top;\n",
       "    }\n",
       "\n",
       "    .dataframe thead th {\n",
       "        text-align: right;\n",
       "    }\n",
       "</style>\n",
       "<table border=\"1\" class=\"dataframe\">\n",
       "  <thead>\n",
       "    <tr style=\"text-align: right;\">\n",
       "      <th></th>\n",
       "      <th>University</th>\n",
       "      <th>Percentage_Female</th>\n",
       "    </tr>\n",
       "  </thead>\n",
       "  <tbody>\n",
       "    <tr>\n",
       "      <th>0</th>\n",
       "      <td>University of Oxford</td>\n",
       "      <td>46%</td>\n",
       "    </tr>\n",
       "    <tr>\n",
       "      <th>1</th>\n",
       "      <td>California Institute of Technology</td>\n",
       "      <td>34%</td>\n",
       "    </tr>\n",
       "    <tr>\n",
       "      <th>2</th>\n",
       "      <td>University of Cambridge</td>\n",
       "      <td>47%</td>\n",
       "    </tr>\n",
       "    <tr>\n",
       "      <th>3</th>\n",
       "      <td>Stanford University</td>\n",
       "      <td>43%</td>\n",
       "    </tr>\n",
       "    <tr>\n",
       "      <th>4</th>\n",
       "      <td>Massachusetts Institute of Technology</td>\n",
       "      <td>39%</td>\n",
       "    </tr>\n",
       "    <tr>\n",
       "      <th>...</th>\n",
       "      <td>...</td>\n",
       "      <td>...</td>\n",
       "    </tr>\n",
       "    <tr>\n",
       "      <th>95</th>\n",
       "      <td>University of California, Irvine</td>\n",
       "      <td>52%</td>\n",
       "    </tr>\n",
       "    <tr>\n",
       "      <th>96</th>\n",
       "      <td>University of Helsinki</td>\n",
       "      <td>66%</td>\n",
       "    </tr>\n",
       "    <tr>\n",
       "      <th>97</th>\n",
       "      <td>Lund University</td>\n",
       "      <td>54%</td>\n",
       "    </tr>\n",
       "    <tr>\n",
       "      <th>98</th>\n",
       "      <td>University of Glasgow</td>\n",
       "      <td>59%</td>\n",
       "    </tr>\n",
       "    <tr>\n",
       "      <th>99</th>\n",
       "      <td>RWTH Aachen University</td>\n",
       "      <td>32%</td>\n",
       "    </tr>\n",
       "  </tbody>\n",
       "</table>\n",
       "<p>100 rows × 2 columns</p>\n",
       "</div>"
      ],
      "text/plain": [
       "                               University Percentage_Female\n",
       "0                    University of Oxford               46%\n",
       "1      California Institute of Technology               34%\n",
       "2                 University of Cambridge               47%\n",
       "3                     Stanford University               43%\n",
       "4   Massachusetts Institute of Technology               39%\n",
       "..                                    ...               ...\n",
       "95       University of California, Irvine               52%\n",
       "96                 University of Helsinki               66%\n",
       "97                        Lund University               54%\n",
       "98                  University of Glasgow               59%\n",
       "99                 RWTH Aachen University               32%\n",
       "\n",
       "[100 rows x 2 columns]"
      ]
     },
     "execution_count": 70,
     "metadata": {},
     "output_type": "execute_result"
    }
   ],
   "source": [
    "# displaying female percentage per each university\n",
    "female = df[['University','Percentage_Female']]\n",
    "female"
   ]
  },
  {
   "cell_type": "code",
   "execution_count": 71,
   "metadata": {},
   "outputs": [
    {
     "data": {
      "application/vnd.plotly.v1+json": {
       "config": {
        "linkText": "Export to plot.ly",
        "plotlyServerURL": "https://plot.ly",
        "showLink": false
       },
       "data": [
        {
         "marker": {
          "color": "blue"
         },
         "name": "Percentage of Male",
         "type": "histogram",
         "x": [
          "54%",
          "66%",
          "53%",
          "57%",
          "61%",
          "55%",
          "51%",
          "50%",
          "54%",
          "62%",
          "48%",
          "48%",
          "50%",
          "68%",
          "43%",
          "0%",
          "46%",
          "41%",
          "51%",
          "51%",
          "51%",
          "51%",
          "66%",
          "54%",
          "49%",
          "47%",
          "59%",
          "47%",
          "43%",
          "40%",
          "54%",
          "39%",
          "44%",
          "45%",
          "46%",
          "38%",
          "0%",
          "72%",
          "67%",
          "48%",
          "32%",
          "42%",
          "66%",
          "46%",
          "50%",
          "54%",
          "0%",
          "53%",
          "52%",
          "48%",
          "0%",
          "0%",
          "0%",
          "43%",
          "42%",
          "47%",
          "48%",
          "0%",
          "47%",
          "42%",
          "40%",
          "44%",
          "47%",
          "0%",
          "76%",
          "45%",
          "71%",
          "41%",
          "49%",
          "50%",
          "53%",
          "45%",
          "49%",
          "0%",
          "43%",
          "41%",
          "51%",
          "54%",
          "48%",
          "36%",
          "42%",
          "0%",
          "42%",
          "49%",
          "0%",
          "46%",
          "46%",
          "57%",
          "57%",
          "43%",
          "52%",
          "42%",
          "78%",
          "44%",
          "51%",
          "48%",
          "34%",
          "46%",
          "41%",
          "68%"
         ],
         "xbins": {
          "end": 80,
          "size": 6,
          "start": 20
         }
        },
        {
         "marker": {
          "color": "red"
         },
         "name": "Percentage of Female",
         "type": "histogram",
         "x": [
          "46%",
          "34%",
          "47%",
          "43%",
          "39%",
          "45%",
          "49%",
          "50%",
          "46%",
          "38%",
          "52%",
          "52%",
          "50%",
          "32%",
          "57%",
          "0%",
          "54%",
          "59%",
          "49%",
          "49%",
          "49%",
          "49%",
          "34%",
          "46%",
          "51%",
          "53%",
          "41%",
          "53%",
          "57%",
          "60%",
          "46%",
          "61%",
          "56%",
          "55%",
          "54%",
          "62%",
          "0%",
          "28%",
          "33%",
          "52%",
          "68%",
          "58%",
          "34%",
          "54%",
          "50%",
          "46%",
          "0%",
          "47%",
          "48%",
          "52%",
          "0%",
          "0%",
          "0%",
          "57%",
          "58%",
          "53%",
          "52%",
          "0%",
          "53%",
          "58%",
          "60%",
          "56%",
          "53%",
          "0%",
          "24%",
          "55%",
          "29%",
          "59%",
          "51%",
          "50%",
          "47%",
          "55%",
          "51%",
          "0%",
          "57%",
          "59%",
          "49%",
          "46%",
          "52%",
          "64%",
          "58%",
          "0%",
          "58%",
          "51%",
          "0%",
          "54%",
          "54%",
          "43%",
          "43%",
          "57%",
          "48%",
          "58%",
          "22%",
          "56%",
          "49%",
          "52%",
          "66%",
          "54%",
          "59%",
          "32%"
         ],
         "xbins": {
          "end": 80,
          "size": 6,
          "start": 20
         }
        }
       ],
       "layout": {
        "bargap": 0.2,
        "bargroupgap": 0.1,
        "template": {
         "data": {
          "bar": [
           {
            "error_x": {
             "color": "#2a3f5f"
            },
            "error_y": {
             "color": "#2a3f5f"
            },
            "marker": {
             "line": {
              "color": "#E5ECF6",
              "width": 0.5
             }
            },
            "type": "bar"
           }
          ],
          "barpolar": [
           {
            "marker": {
             "line": {
              "color": "#E5ECF6",
              "width": 0.5
             }
            },
            "type": "barpolar"
           }
          ],
          "carpet": [
           {
            "aaxis": {
             "endlinecolor": "#2a3f5f",
             "gridcolor": "white",
             "linecolor": "white",
             "minorgridcolor": "white",
             "startlinecolor": "#2a3f5f"
            },
            "baxis": {
             "endlinecolor": "#2a3f5f",
             "gridcolor": "white",
             "linecolor": "white",
             "minorgridcolor": "white",
             "startlinecolor": "#2a3f5f"
            },
            "type": "carpet"
           }
          ],
          "choropleth": [
           {
            "colorbar": {
             "outlinewidth": 0,
             "ticks": ""
            },
            "type": "choropleth"
           }
          ],
          "contour": [
           {
            "colorbar": {
             "outlinewidth": 0,
             "ticks": ""
            },
            "colorscale": [
             [
              0,
              "#0d0887"
             ],
             [
              0.1111111111111111,
              "#46039f"
             ],
             [
              0.2222222222222222,
              "#7201a8"
             ],
             [
              0.3333333333333333,
              "#9c179e"
             ],
             [
              0.4444444444444444,
              "#bd3786"
             ],
             [
              0.5555555555555556,
              "#d8576b"
             ],
             [
              0.6666666666666666,
              "#ed7953"
             ],
             [
              0.7777777777777778,
              "#fb9f3a"
             ],
             [
              0.8888888888888888,
              "#fdca26"
             ],
             [
              1,
              "#f0f921"
             ]
            ],
            "type": "contour"
           }
          ],
          "contourcarpet": [
           {
            "colorbar": {
             "outlinewidth": 0,
             "ticks": ""
            },
            "type": "contourcarpet"
           }
          ],
          "heatmap": [
           {
            "colorbar": {
             "outlinewidth": 0,
             "ticks": ""
            },
            "colorscale": [
             [
              0,
              "#0d0887"
             ],
             [
              0.1111111111111111,
              "#46039f"
             ],
             [
              0.2222222222222222,
              "#7201a8"
             ],
             [
              0.3333333333333333,
              "#9c179e"
             ],
             [
              0.4444444444444444,
              "#bd3786"
             ],
             [
              0.5555555555555556,
              "#d8576b"
             ],
             [
              0.6666666666666666,
              "#ed7953"
             ],
             [
              0.7777777777777778,
              "#fb9f3a"
             ],
             [
              0.8888888888888888,
              "#fdca26"
             ],
             [
              1,
              "#f0f921"
             ]
            ],
            "type": "heatmap"
           }
          ],
          "heatmapgl": [
           {
            "colorbar": {
             "outlinewidth": 0,
             "ticks": ""
            },
            "colorscale": [
             [
              0,
              "#0d0887"
             ],
             [
              0.1111111111111111,
              "#46039f"
             ],
             [
              0.2222222222222222,
              "#7201a8"
             ],
             [
              0.3333333333333333,
              "#9c179e"
             ],
             [
              0.4444444444444444,
              "#bd3786"
             ],
             [
              0.5555555555555556,
              "#d8576b"
             ],
             [
              0.6666666666666666,
              "#ed7953"
             ],
             [
              0.7777777777777778,
              "#fb9f3a"
             ],
             [
              0.8888888888888888,
              "#fdca26"
             ],
             [
              1,
              "#f0f921"
             ]
            ],
            "type": "heatmapgl"
           }
          ],
          "histogram": [
           {
            "marker": {
             "colorbar": {
              "outlinewidth": 0,
              "ticks": ""
             }
            },
            "type": "histogram"
           }
          ],
          "histogram2d": [
           {
            "colorbar": {
             "outlinewidth": 0,
             "ticks": ""
            },
            "colorscale": [
             [
              0,
              "#0d0887"
             ],
             [
              0.1111111111111111,
              "#46039f"
             ],
             [
              0.2222222222222222,
              "#7201a8"
             ],
             [
              0.3333333333333333,
              "#9c179e"
             ],
             [
              0.4444444444444444,
              "#bd3786"
             ],
             [
              0.5555555555555556,
              "#d8576b"
             ],
             [
              0.6666666666666666,
              "#ed7953"
             ],
             [
              0.7777777777777778,
              "#fb9f3a"
             ],
             [
              0.8888888888888888,
              "#fdca26"
             ],
             [
              1,
              "#f0f921"
             ]
            ],
            "type": "histogram2d"
           }
          ],
          "histogram2dcontour": [
           {
            "colorbar": {
             "outlinewidth": 0,
             "ticks": ""
            },
            "colorscale": [
             [
              0,
              "#0d0887"
             ],
             [
              0.1111111111111111,
              "#46039f"
             ],
             [
              0.2222222222222222,
              "#7201a8"
             ],
             [
              0.3333333333333333,
              "#9c179e"
             ],
             [
              0.4444444444444444,
              "#bd3786"
             ],
             [
              0.5555555555555556,
              "#d8576b"
             ],
             [
              0.6666666666666666,
              "#ed7953"
             ],
             [
              0.7777777777777778,
              "#fb9f3a"
             ],
             [
              0.8888888888888888,
              "#fdca26"
             ],
             [
              1,
              "#f0f921"
             ]
            ],
            "type": "histogram2dcontour"
           }
          ],
          "mesh3d": [
           {
            "colorbar": {
             "outlinewidth": 0,
             "ticks": ""
            },
            "type": "mesh3d"
           }
          ],
          "parcoords": [
           {
            "line": {
             "colorbar": {
              "outlinewidth": 0,
              "ticks": ""
             }
            },
            "type": "parcoords"
           }
          ],
          "pie": [
           {
            "automargin": true,
            "type": "pie"
           }
          ],
          "scatter": [
           {
            "marker": {
             "colorbar": {
              "outlinewidth": 0,
              "ticks": ""
             }
            },
            "type": "scatter"
           }
          ],
          "scatter3d": [
           {
            "line": {
             "colorbar": {
              "outlinewidth": 0,
              "ticks": ""
             }
            },
            "marker": {
             "colorbar": {
              "outlinewidth": 0,
              "ticks": ""
             }
            },
            "type": "scatter3d"
           }
          ],
          "scattercarpet": [
           {
            "marker": {
             "colorbar": {
              "outlinewidth": 0,
              "ticks": ""
             }
            },
            "type": "scattercarpet"
           }
          ],
          "scattergeo": [
           {
            "marker": {
             "colorbar": {
              "outlinewidth": 0,
              "ticks": ""
             }
            },
            "type": "scattergeo"
           }
          ],
          "scattergl": [
           {
            "marker": {
             "colorbar": {
              "outlinewidth": 0,
              "ticks": ""
             }
            },
            "type": "scattergl"
           }
          ],
          "scattermapbox": [
           {
            "marker": {
             "colorbar": {
              "outlinewidth": 0,
              "ticks": ""
             }
            },
            "type": "scattermapbox"
           }
          ],
          "scatterpolar": [
           {
            "marker": {
             "colorbar": {
              "outlinewidth": 0,
              "ticks": ""
             }
            },
            "type": "scatterpolar"
           }
          ],
          "scatterpolargl": [
           {
            "marker": {
             "colorbar": {
              "outlinewidth": 0,
              "ticks": ""
             }
            },
            "type": "scatterpolargl"
           }
          ],
          "scatterternary": [
           {
            "marker": {
             "colorbar": {
              "outlinewidth": 0,
              "ticks": ""
             }
            },
            "type": "scatterternary"
           }
          ],
          "surface": [
           {
            "colorbar": {
             "outlinewidth": 0,
             "ticks": ""
            },
            "colorscale": [
             [
              0,
              "#0d0887"
             ],
             [
              0.1111111111111111,
              "#46039f"
             ],
             [
              0.2222222222222222,
              "#7201a8"
             ],
             [
              0.3333333333333333,
              "#9c179e"
             ],
             [
              0.4444444444444444,
              "#bd3786"
             ],
             [
              0.5555555555555556,
              "#d8576b"
             ],
             [
              0.6666666666666666,
              "#ed7953"
             ],
             [
              0.7777777777777778,
              "#fb9f3a"
             ],
             [
              0.8888888888888888,
              "#fdca26"
             ],
             [
              1,
              "#f0f921"
             ]
            ],
            "type": "surface"
           }
          ],
          "table": [
           {
            "cells": {
             "fill": {
              "color": "#EBF0F8"
             },
             "line": {
              "color": "white"
             }
            },
            "header": {
             "fill": {
              "color": "#C8D4E3"
             },
             "line": {
              "color": "white"
             }
            },
            "type": "table"
           }
          ]
         },
         "layout": {
          "annotationdefaults": {
           "arrowcolor": "#2a3f5f",
           "arrowhead": 0,
           "arrowwidth": 1
          },
          "coloraxis": {
           "colorbar": {
            "outlinewidth": 0,
            "ticks": ""
           }
          },
          "colorscale": {
           "diverging": [
            [
             0,
             "#8e0152"
            ],
            [
             0.1,
             "#c51b7d"
            ],
            [
             0.2,
             "#de77ae"
            ],
            [
             0.3,
             "#f1b6da"
            ],
            [
             0.4,
             "#fde0ef"
            ],
            [
             0.5,
             "#f7f7f7"
            ],
            [
             0.6,
             "#e6f5d0"
            ],
            [
             0.7,
             "#b8e186"
            ],
            [
             0.8,
             "#7fbc41"
            ],
            [
             0.9,
             "#4d9221"
            ],
            [
             1,
             "#276419"
            ]
           ],
           "sequential": [
            [
             0,
             "#0d0887"
            ],
            [
             0.1111111111111111,
             "#46039f"
            ],
            [
             0.2222222222222222,
             "#7201a8"
            ],
            [
             0.3333333333333333,
             "#9c179e"
            ],
            [
             0.4444444444444444,
             "#bd3786"
            ],
            [
             0.5555555555555556,
             "#d8576b"
            ],
            [
             0.6666666666666666,
             "#ed7953"
            ],
            [
             0.7777777777777778,
             "#fb9f3a"
            ],
            [
             0.8888888888888888,
             "#fdca26"
            ],
            [
             1,
             "#f0f921"
            ]
           ],
           "sequentialminus": [
            [
             0,
             "#0d0887"
            ],
            [
             0.1111111111111111,
             "#46039f"
            ],
            [
             0.2222222222222222,
             "#7201a8"
            ],
            [
             0.3333333333333333,
             "#9c179e"
            ],
            [
             0.4444444444444444,
             "#bd3786"
            ],
            [
             0.5555555555555556,
             "#d8576b"
            ],
            [
             0.6666666666666666,
             "#ed7953"
            ],
            [
             0.7777777777777778,
             "#fb9f3a"
            ],
            [
             0.8888888888888888,
             "#fdca26"
            ],
            [
             1,
             "#f0f921"
            ]
           ]
          },
          "colorway": [
           "#636efa",
           "#EF553B",
           "#00cc96",
           "#ab63fa",
           "#FFA15A",
           "#19d3f3",
           "#FF6692",
           "#B6E880",
           "#FF97FF",
           "#FECB52"
          ],
          "font": {
           "color": "#2a3f5f"
          },
          "geo": {
           "bgcolor": "white",
           "lakecolor": "white",
           "landcolor": "#E5ECF6",
           "showlakes": true,
           "showland": true,
           "subunitcolor": "white"
          },
          "hoverlabel": {
           "align": "left"
          },
          "hovermode": "closest",
          "mapbox": {
           "style": "light"
          },
          "paper_bgcolor": "white",
          "plot_bgcolor": "#E5ECF6",
          "polar": {
           "angularaxis": {
            "gridcolor": "white",
            "linecolor": "white",
            "ticks": ""
           },
           "bgcolor": "#E5ECF6",
           "radialaxis": {
            "gridcolor": "white",
            "linecolor": "white",
            "ticks": ""
           }
          },
          "scene": {
           "xaxis": {
            "backgroundcolor": "#E5ECF6",
            "gridcolor": "white",
            "gridwidth": 2,
            "linecolor": "white",
            "showbackground": true,
            "ticks": "",
            "zerolinecolor": "white"
           },
           "yaxis": {
            "backgroundcolor": "#E5ECF6",
            "gridcolor": "white",
            "gridwidth": 2,
            "linecolor": "white",
            "showbackground": true,
            "ticks": "",
            "zerolinecolor": "white"
           },
           "zaxis": {
            "backgroundcolor": "#E5ECF6",
            "gridcolor": "white",
            "gridwidth": 2,
            "linecolor": "white",
            "showbackground": true,
            "ticks": "",
            "zerolinecolor": "white"
           }
          },
          "shapedefaults": {
           "line": {
            "color": "#2a3f5f"
           }
          },
          "ternary": {
           "aaxis": {
            "gridcolor": "white",
            "linecolor": "white",
            "ticks": ""
           },
           "baxis": {
            "gridcolor": "white",
            "linecolor": "white",
            "ticks": ""
           },
           "bgcolor": "#E5ECF6",
           "caxis": {
            "gridcolor": "white",
            "linecolor": "white",
            "ticks": ""
           }
          },
          "title": {
           "x": 0.05
          },
          "xaxis": {
           "automargin": true,
           "gridcolor": "white",
           "linecolor": "white",
           "ticks": "",
           "title": {
            "standoff": 15
           },
           "zerolinecolor": "white",
           "zerolinewidth": 2
          },
          "yaxis": {
           "automargin": true,
           "gridcolor": "white",
           "linecolor": "white",
           "ticks": "",
           "title": {
            "standoff": 15
           },
           "zerolinecolor": "white",
           "zerolinewidth": 2
          }
         }
        },
        "title": {
         "text": "Gender diversity of University students"
        },
        "xaxis": {
         "title": {
          "text": "The Gender Distribution"
         }
        },
        "yaxis": {
         "title": {
          "text": "Count"
         }
        }
       }
      },
      "text/html": [
       "<div>                            <div id=\"1922705f-1572-455b-97c2-477a0e05b27c\" class=\"plotly-graph-div\" style=\"height:525px; width:100%;\"></div>            <script type=\"text/javascript\">                require([\"plotly\"], function(Plotly) {                    window.PLOTLYENV=window.PLOTLYENV || {};                                    if (document.getElementById(\"1922705f-1572-455b-97c2-477a0e05b27c\")) {                    Plotly.newPlot(                        \"1922705f-1572-455b-97c2-477a0e05b27c\",                        [{\"marker\": {\"color\": \"blue\"}, \"name\": \"Percentage of Male\", \"type\": \"histogram\", \"x\": [\"54%\", \"66%\", \"53%\", \"57%\", \"61%\", \"55%\", \"51%\", \"50%\", \"54%\", \"62%\", \"48%\", \"48%\", \"50%\", \"68%\", \"43%\", \"0%\", \"46%\", \"41%\", \"51%\", \"51%\", \"51%\", \"51%\", \"66%\", \"54%\", \"49%\", \"47%\", \"59%\", \"47%\", \"43%\", \"40%\", \"54%\", \"39%\", \"44%\", \"45%\", \"46%\", \"38%\", \"0%\", \"72%\", \"67%\", \"48%\", \"32%\", \"42%\", \"66%\", \"46%\", \"50%\", \"54%\", \"0%\", \"53%\", \"52%\", \"48%\", \"0%\", \"0%\", \"0%\", \"43%\", \"42%\", \"47%\", \"48%\", \"0%\", \"47%\", \"42%\", \"40%\", \"44%\", \"47%\", \"0%\", \"76%\", \"45%\", \"71%\", \"41%\", \"49%\", \"50%\", \"53%\", \"45%\", \"49%\", \"0%\", \"43%\", \"41%\", \"51%\", \"54%\", \"48%\", \"36%\", \"42%\", \"0%\", \"42%\", \"49%\", \"0%\", \"46%\", \"46%\", \"57%\", \"57%\", \"43%\", \"52%\", \"42%\", \"78%\", \"44%\", \"51%\", \"48%\", \"34%\", \"46%\", \"41%\", \"68%\"], \"xbins\": {\"end\": 80, \"size\": 6, \"start\": 20}}, {\"marker\": {\"color\": \"red\"}, \"name\": \"Percentage of Female\", \"type\": \"histogram\", \"x\": [\"46%\", \"34%\", \"47%\", \"43%\", \"39%\", \"45%\", \"49%\", \"50%\", \"46%\", \"38%\", \"52%\", \"52%\", \"50%\", \"32%\", \"57%\", \"0%\", \"54%\", \"59%\", \"49%\", \"49%\", \"49%\", \"49%\", \"34%\", \"46%\", \"51%\", \"53%\", \"41%\", \"53%\", \"57%\", \"60%\", \"46%\", \"61%\", \"56%\", \"55%\", \"54%\", \"62%\", \"0%\", \"28%\", \"33%\", \"52%\", \"68%\", \"58%\", \"34%\", \"54%\", \"50%\", \"46%\", \"0%\", \"47%\", \"48%\", \"52%\", \"0%\", \"0%\", \"0%\", \"57%\", \"58%\", \"53%\", \"52%\", \"0%\", \"53%\", \"58%\", \"60%\", \"56%\", \"53%\", \"0%\", \"24%\", \"55%\", \"29%\", \"59%\", \"51%\", \"50%\", \"47%\", \"55%\", \"51%\", \"0%\", \"57%\", \"59%\", \"49%\", \"46%\", \"52%\", \"64%\", \"58%\", \"0%\", \"58%\", \"51%\", \"0%\", \"54%\", \"54%\", \"43%\", \"43%\", \"57%\", \"48%\", \"58%\", \"22%\", \"56%\", \"49%\", \"52%\", \"66%\", \"54%\", \"59%\", \"32%\"], \"xbins\": {\"end\": 80, \"size\": 6, \"start\": 20}}],                        {\"bargap\": 0.2, \"bargroupgap\": 0.1, \"template\": {\"data\": {\"bar\": [{\"error_x\": {\"color\": \"#2a3f5f\"}, \"error_y\": {\"color\": \"#2a3f5f\"}, \"marker\": {\"line\": {\"color\": \"#E5ECF6\", \"width\": 0.5}}, \"type\": \"bar\"}], \"barpolar\": [{\"marker\": {\"line\": {\"color\": \"#E5ECF6\", \"width\": 0.5}}, \"type\": \"barpolar\"}], \"carpet\": [{\"aaxis\": {\"endlinecolor\": \"#2a3f5f\", \"gridcolor\": \"white\", \"linecolor\": \"white\", \"minorgridcolor\": \"white\", \"startlinecolor\": \"#2a3f5f\"}, \"baxis\": {\"endlinecolor\": \"#2a3f5f\", \"gridcolor\": \"white\", \"linecolor\": \"white\", \"minorgridcolor\": \"white\", \"startlinecolor\": \"#2a3f5f\"}, \"type\": \"carpet\"}], \"choropleth\": [{\"colorbar\": {\"outlinewidth\": 0, \"ticks\": \"\"}, \"type\": \"choropleth\"}], \"contour\": [{\"colorbar\": {\"outlinewidth\": 0, \"ticks\": \"\"}, \"colorscale\": [[0.0, \"#0d0887\"], [0.1111111111111111, \"#46039f\"], [0.2222222222222222, \"#7201a8\"], [0.3333333333333333, \"#9c179e\"], [0.4444444444444444, \"#bd3786\"], [0.5555555555555556, \"#d8576b\"], [0.6666666666666666, \"#ed7953\"], [0.7777777777777778, \"#fb9f3a\"], [0.8888888888888888, \"#fdca26\"], [1.0, \"#f0f921\"]], \"type\": \"contour\"}], \"contourcarpet\": [{\"colorbar\": {\"outlinewidth\": 0, \"ticks\": \"\"}, \"type\": \"contourcarpet\"}], \"heatmap\": [{\"colorbar\": {\"outlinewidth\": 0, \"ticks\": \"\"}, \"colorscale\": [[0.0, \"#0d0887\"], [0.1111111111111111, \"#46039f\"], [0.2222222222222222, \"#7201a8\"], [0.3333333333333333, \"#9c179e\"], [0.4444444444444444, \"#bd3786\"], [0.5555555555555556, \"#d8576b\"], [0.6666666666666666, \"#ed7953\"], [0.7777777777777778, \"#fb9f3a\"], [0.8888888888888888, \"#fdca26\"], [1.0, \"#f0f921\"]], \"type\": \"heatmap\"}], \"heatmapgl\": [{\"colorbar\": {\"outlinewidth\": 0, \"ticks\": \"\"}, \"colorscale\": [[0.0, \"#0d0887\"], [0.1111111111111111, \"#46039f\"], [0.2222222222222222, \"#7201a8\"], [0.3333333333333333, \"#9c179e\"], [0.4444444444444444, \"#bd3786\"], [0.5555555555555556, \"#d8576b\"], [0.6666666666666666, \"#ed7953\"], [0.7777777777777778, \"#fb9f3a\"], [0.8888888888888888, \"#fdca26\"], [1.0, \"#f0f921\"]], \"type\": \"heatmapgl\"}], \"histogram\": [{\"marker\": {\"colorbar\": {\"outlinewidth\": 0, \"ticks\": \"\"}}, \"type\": \"histogram\"}], \"histogram2d\": [{\"colorbar\": {\"outlinewidth\": 0, \"ticks\": \"\"}, \"colorscale\": [[0.0, \"#0d0887\"], [0.1111111111111111, \"#46039f\"], [0.2222222222222222, \"#7201a8\"], [0.3333333333333333, \"#9c179e\"], [0.4444444444444444, \"#bd3786\"], [0.5555555555555556, \"#d8576b\"], [0.6666666666666666, \"#ed7953\"], [0.7777777777777778, \"#fb9f3a\"], [0.8888888888888888, \"#fdca26\"], [1.0, \"#f0f921\"]], \"type\": \"histogram2d\"}], \"histogram2dcontour\": [{\"colorbar\": {\"outlinewidth\": 0, \"ticks\": \"\"}, \"colorscale\": [[0.0, \"#0d0887\"], [0.1111111111111111, \"#46039f\"], [0.2222222222222222, \"#7201a8\"], [0.3333333333333333, \"#9c179e\"], [0.4444444444444444, \"#bd3786\"], [0.5555555555555556, \"#d8576b\"], [0.6666666666666666, \"#ed7953\"], [0.7777777777777778, \"#fb9f3a\"], [0.8888888888888888, \"#fdca26\"], [1.0, \"#f0f921\"]], \"type\": \"histogram2dcontour\"}], \"mesh3d\": [{\"colorbar\": {\"outlinewidth\": 0, \"ticks\": \"\"}, \"type\": \"mesh3d\"}], \"parcoords\": [{\"line\": {\"colorbar\": {\"outlinewidth\": 0, \"ticks\": \"\"}}, \"type\": \"parcoords\"}], \"pie\": [{\"automargin\": true, \"type\": \"pie\"}], \"scatter\": [{\"marker\": {\"colorbar\": {\"outlinewidth\": 0, \"ticks\": \"\"}}, \"type\": \"scatter\"}], \"scatter3d\": [{\"line\": {\"colorbar\": {\"outlinewidth\": 0, \"ticks\": \"\"}}, \"marker\": {\"colorbar\": {\"outlinewidth\": 0, \"ticks\": \"\"}}, \"type\": \"scatter3d\"}], \"scattercarpet\": [{\"marker\": {\"colorbar\": {\"outlinewidth\": 0, \"ticks\": \"\"}}, \"type\": \"scattercarpet\"}], \"scattergeo\": [{\"marker\": {\"colorbar\": {\"outlinewidth\": 0, \"ticks\": \"\"}}, \"type\": \"scattergeo\"}], \"scattergl\": [{\"marker\": {\"colorbar\": {\"outlinewidth\": 0, \"ticks\": \"\"}}, \"type\": \"scattergl\"}], \"scattermapbox\": [{\"marker\": {\"colorbar\": {\"outlinewidth\": 0, \"ticks\": \"\"}}, \"type\": \"scattermapbox\"}], \"scatterpolar\": [{\"marker\": {\"colorbar\": {\"outlinewidth\": 0, \"ticks\": \"\"}}, \"type\": \"scatterpolar\"}], \"scatterpolargl\": [{\"marker\": {\"colorbar\": {\"outlinewidth\": 0, \"ticks\": \"\"}}, \"type\": \"scatterpolargl\"}], \"scatterternary\": [{\"marker\": {\"colorbar\": {\"outlinewidth\": 0, \"ticks\": \"\"}}, \"type\": \"scatterternary\"}], \"surface\": [{\"colorbar\": {\"outlinewidth\": 0, \"ticks\": \"\"}, \"colorscale\": [[0.0, \"#0d0887\"], [0.1111111111111111, \"#46039f\"], [0.2222222222222222, \"#7201a8\"], [0.3333333333333333, \"#9c179e\"], [0.4444444444444444, \"#bd3786\"], [0.5555555555555556, \"#d8576b\"], [0.6666666666666666, \"#ed7953\"], [0.7777777777777778, \"#fb9f3a\"], [0.8888888888888888, \"#fdca26\"], [1.0, \"#f0f921\"]], \"type\": \"surface\"}], \"table\": [{\"cells\": {\"fill\": {\"color\": \"#EBF0F8\"}, \"line\": {\"color\": \"white\"}}, \"header\": {\"fill\": {\"color\": \"#C8D4E3\"}, \"line\": {\"color\": \"white\"}}, \"type\": \"table\"}]}, \"layout\": {\"annotationdefaults\": {\"arrowcolor\": \"#2a3f5f\", \"arrowhead\": 0, \"arrowwidth\": 1}, \"coloraxis\": {\"colorbar\": {\"outlinewidth\": 0, \"ticks\": \"\"}}, \"colorscale\": {\"diverging\": [[0, \"#8e0152\"], [0.1, \"#c51b7d\"], [0.2, \"#de77ae\"], [0.3, \"#f1b6da\"], [0.4, \"#fde0ef\"], [0.5, \"#f7f7f7\"], [0.6, \"#e6f5d0\"], [0.7, \"#b8e186\"], [0.8, \"#7fbc41\"], [0.9, \"#4d9221\"], [1, \"#276419\"]], \"sequential\": [[0.0, \"#0d0887\"], [0.1111111111111111, \"#46039f\"], [0.2222222222222222, \"#7201a8\"], [0.3333333333333333, \"#9c179e\"], [0.4444444444444444, \"#bd3786\"], [0.5555555555555556, \"#d8576b\"], [0.6666666666666666, \"#ed7953\"], [0.7777777777777778, \"#fb9f3a\"], [0.8888888888888888, \"#fdca26\"], [1.0, \"#f0f921\"]], \"sequentialminus\": [[0.0, \"#0d0887\"], [0.1111111111111111, \"#46039f\"], [0.2222222222222222, \"#7201a8\"], [0.3333333333333333, \"#9c179e\"], [0.4444444444444444, \"#bd3786\"], [0.5555555555555556, \"#d8576b\"], [0.6666666666666666, \"#ed7953\"], [0.7777777777777778, \"#fb9f3a\"], [0.8888888888888888, \"#fdca26\"], [1.0, \"#f0f921\"]]}, \"colorway\": [\"#636efa\", \"#EF553B\", \"#00cc96\", \"#ab63fa\", \"#FFA15A\", \"#19d3f3\", \"#FF6692\", \"#B6E880\", \"#FF97FF\", \"#FECB52\"], \"font\": {\"color\": \"#2a3f5f\"}, \"geo\": {\"bgcolor\": \"white\", \"lakecolor\": \"white\", \"landcolor\": \"#E5ECF6\", \"showlakes\": true, \"showland\": true, \"subunitcolor\": \"white\"}, \"hoverlabel\": {\"align\": \"left\"}, \"hovermode\": \"closest\", \"mapbox\": {\"style\": \"light\"}, \"paper_bgcolor\": \"white\", \"plot_bgcolor\": \"#E5ECF6\", \"polar\": {\"angularaxis\": {\"gridcolor\": \"white\", \"linecolor\": \"white\", \"ticks\": \"\"}, \"bgcolor\": \"#E5ECF6\", \"radialaxis\": {\"gridcolor\": \"white\", \"linecolor\": \"white\", \"ticks\": \"\"}}, \"scene\": {\"xaxis\": {\"backgroundcolor\": \"#E5ECF6\", \"gridcolor\": \"white\", \"gridwidth\": 2, \"linecolor\": \"white\", \"showbackground\": true, \"ticks\": \"\", \"zerolinecolor\": \"white\"}, \"yaxis\": {\"backgroundcolor\": \"#E5ECF6\", \"gridcolor\": \"white\", \"gridwidth\": 2, \"linecolor\": \"white\", \"showbackground\": true, \"ticks\": \"\", \"zerolinecolor\": \"white\"}, \"zaxis\": {\"backgroundcolor\": \"#E5ECF6\", \"gridcolor\": \"white\", \"gridwidth\": 2, \"linecolor\": \"white\", \"showbackground\": true, \"ticks\": \"\", \"zerolinecolor\": \"white\"}}, \"shapedefaults\": {\"line\": {\"color\": \"#2a3f5f\"}}, \"ternary\": {\"aaxis\": {\"gridcolor\": \"white\", \"linecolor\": \"white\", \"ticks\": \"\"}, \"baxis\": {\"gridcolor\": \"white\", \"linecolor\": \"white\", \"ticks\": \"\"}, \"bgcolor\": \"#E5ECF6\", \"caxis\": {\"gridcolor\": \"white\", \"linecolor\": \"white\", \"ticks\": \"\"}}, \"title\": {\"x\": 0.05}, \"xaxis\": {\"automargin\": true, \"gridcolor\": \"white\", \"linecolor\": \"white\", \"ticks\": \"\", \"title\": {\"standoff\": 15}, \"zerolinecolor\": \"white\", \"zerolinewidth\": 2}, \"yaxis\": {\"automargin\": true, \"gridcolor\": \"white\", \"linecolor\": \"white\", \"ticks\": \"\", \"title\": {\"standoff\": 15}, \"zerolinecolor\": \"white\", \"zerolinewidth\": 2}}}, \"title\": {\"text\": \"Gender diversity of University students\"}, \"xaxis\": {\"title\": {\"text\": \"The Gender Distribution\"}}, \"yaxis\": {\"title\": {\"text\": \"Count\"}}},                        {\"responsive\": true}                    ).then(function(){\n",
       "                            \n",
       "var gd = document.getElementById('1922705f-1572-455b-97c2-477a0e05b27c');\n",
       "var x = new MutationObserver(function (mutations, observer) {{\n",
       "        var display = window.getComputedStyle(gd).display;\n",
       "        if (!display || display === 'none') {{\n",
       "            console.log([gd, 'removed!']);\n",
       "            Plotly.purge(gd);\n",
       "            observer.disconnect();\n",
       "        }}\n",
       "}});\n",
       "\n",
       "// Listen for the removal of the full notebook cells\n",
       "var notebookContainer = gd.closest('#notebook-container');\n",
       "if (notebookContainer) {{\n",
       "    x.observe(notebookContainer, {childList: true});\n",
       "}}\n",
       "\n",
       "// Listen for the clearing of the current output cell\n",
       "var outputEl = gd.closest('.output');\n",
       "if (outputEl) {{\n",
       "    x.observe(outputEl, {childList: true});\n",
       "}}\n",
       "\n",
       "                        })                };                });            </script>        </div>"
      ]
     },
     "metadata": {},
     "output_type": "display_data"
    }
   ],
   "source": [
    "# histogram for the gender distribution of students\n",
    "\n",
    "trace1 = go.Histogram(\n",
    "    x=df.Percentage_Male,\n",
    "    name = \"Percentage of Male\",\n",
    "    marker=dict(color='blue'),\n",
    "    xbins=dict(\n",
    "        start=20,\n",
    "        end=80,\n",
    "        size=6\n",
    "    ))\n",
    "\n",
    "trace2 = go.Histogram(\n",
    "    x=df.Percentage_Female,\n",
    "    name = \"Percentage of Female\",\n",
    "    marker=dict(color='red'),\n",
    "    xbins=dict(\n",
    "        start=20,\n",
    "        end=80,\n",
    "        size=6\n",
    "    ))\n",
    "\n",
    "data = [trace1, trace2]\n",
    "layout = go.Layout(\n",
    "                   title='Gender diversity of University students',\n",
    "                   xaxis=dict(title='The Gender Distribution'),\n",
    "                   yaxis=dict( title='Count'),\n",
    "                   bargap=0.2, # gap between bars of adjacent location coordinates\n",
    "                   bargroupgap=0.1 # gap between bars of the same location coordinates\n",
    ")\n",
    "fig = go.Figure(data=data, layout=layout)\n",
    "iplot(fig)"
   ]
  },
  {
   "cell_type": "markdown",
   "metadata": {},
   "source": [
    "**Distribution Analysis:**\n",
    "\n",
    "The histogram above shows the gender distribution of students in the universities worldwide. Mostly, universities have about the same percentage of female and male students with the range of 40 to 60.\n",
    "However, there are also instituions with female only and male only students (single-gender education)."
   ]
  },
  {
   "cell_type": "markdown",
   "metadata": {},
   "source": [
    "### 5.4 Q4: Analyze the institutions' overall score by research, industry income, and citations indicators"
   ]
  },
  {
   "cell_type": "markdown",
   "metadata": {},
   "source": [
    "As for the visualization for this particular research question, I will be building muiltiple subplots. Those are helpful to compare different views of data side by side. "
   ]
  },
  {
   "cell_type": "code",
   "execution_count": 72,
   "metadata": {},
   "outputs": [
    {
     "data": {
      "text/plain": [
       "count    100.000000\n",
       "mean      70.171000\n",
       "std       15.620592\n",
       "min       39.900000\n",
       "25%       58.025000\n",
       "50%       69.100000\n",
       "75%       82.775000\n",
       "max       99.600000\n",
       "Name: Research, dtype: float64"
      ]
     },
     "execution_count": 72,
     "metadata": {},
     "output_type": "execute_result"
    }
   ],
   "source": [
    "# Data preparation for Q4\n",
    "\n",
    "# Selecting research distribution and displaying its descriptive statistics\n",
    "research = df[\"Research\"]\n",
    "research.describe()"
   ]
  },
  {
   "cell_type": "markdown",
   "metadata": {},
   "source": [
    "The maximum value obtained for the Research performance is 99.6, while minimum has a value of 39.9. The mean for this distribution contains 70.17 points."
   ]
  },
  {
   "cell_type": "code",
   "execution_count": 73,
   "metadata": {},
   "outputs": [
    {
     "data": {
      "text/plain": [
       "count    100.000000\n",
       "mean      63.032000\n",
       "std       20.096036\n",
       "min       35.100000\n",
       "25%       45.550000\n",
       "50%       58.850000\n",
       "75%       78.250000\n",
       "max      100.000000\n",
       "Name: Industry_Income, dtype: float64"
      ]
     },
     "execution_count": 73,
     "metadata": {},
     "output_type": "execute_result"
    }
   ],
   "source": [
    "# Selecting industry income distribution and displaying its descriptive statistics\n",
    "income = df[\"Industry_Income\"]\n",
    "income.describe()"
   ]
  },
  {
   "cell_type": "markdown",
   "metadata": {},
   "source": [
    "The maximum value obtained for the Income innovation is 100, while minimum has a value of 35.1. The mean for this distribution is 63 points."
   ]
  },
  {
   "cell_type": "code",
   "execution_count": 74,
   "metadata": {},
   "outputs": [
    {
     "data": {
      "text/plain": [
       "count    100.000000\n",
       "mean      88.536000\n",
       "std        9.973647\n",
       "min       59.900000\n",
       "25%       84.250000\n",
       "50%       90.950000\n",
       "75%       96.425000\n",
       "max       99.900000\n",
       "Name: Citations, dtype: float64"
      ]
     },
     "execution_count": 74,
     "metadata": {},
     "output_type": "execute_result"
    }
   ],
   "source": [
    "# Selecting citations distribution and displaying its descriptive statistics\n",
    "citations = df[\"Citations\"]\n",
    "citations.describe()"
   ]
  },
  {
   "cell_type": "markdown",
   "metadata": {},
   "source": [
    "The maximum value obtained for the Citations (i.e. research influence) is 99.9, while minimum has a value of 59.9. The mean for this distribution is 88.54 points."
   ]
  },
  {
   "cell_type": "code",
   "execution_count": 75,
   "metadata": {},
   "outputs": [
    {
     "data": {
      "application/vnd.plotly.v1+json": {
       "config": {
        "plotlyServerURL": "https://plot.ly"
       },
       "data": [
        {
         "name": "The research",
         "type": "scatter",
         "x": [
          1,
          2,
          3,
          4,
          5,
          6,
          7,
          8,
          9,
          10,
          11,
          12,
          13,
          13,
          14,
          15,
          16,
          17,
          18,
          19,
          20,
          21,
          22,
          23,
          24,
          25,
          26,
          26,
          27,
          28,
          29,
          30,
          30,
          31,
          32,
          33,
          33,
          34,
          34,
          34,
          35,
          36,
          37,
          38,
          39,
          39,
          40,
          41,
          42,
          43,
          44,
          45,
          46,
          47,
          48,
          48,
          49,
          49,
          50,
          51,
          52,
          53,
          53,
          54,
          55,
          56,
          57,
          57,
          58,
          59,
          60,
          61,
          62,
          62,
          63,
          63,
          64,
          65,
          66,
          67,
          67,
          67,
          67,
          68,
          69,
          69,
          70,
          71,
          72,
          73,
          73,
          74,
          75,
          76,
          76,
          77,
          77,
          78,
          78,
          78
         ],
         "xaxis": "x",
         "y": [
          99.6,
          97.2,
          98.7,
          96.4,
          92.4,
          96.3,
          98.6,
          94.8,
          91.4,
          87.6,
          90.4,
          91.4,
          90.6,
          92.8,
          88.7,
          82.6,
          88.6,
          89.5,
          86,
          76.8,
          86.1,
          83.8,
          94,
          90,
          90.4,
          82.2,
          82.7,
          83,
          77.5,
          74.1,
          78.9,
          77,
          74.1,
          73.2,
          77.2,
          68.5,
          89.6,
          66.3,
          76.4,
          76.2,
          71.4,
          71.9,
          70.4,
          60.3,
          73.9,
          71.4,
          66.1,
          78,
          70.4,
          69.7,
          70.3,
          57.5,
          56.1,
          63.2,
          66.9,
          63.8,
          63.6,
          62.8,
          57.1,
          61.5,
          55.6,
          63.4,
          59.3,
          71.6,
          78.1,
          58.7,
          72.3,
          65,
          57.3,
          56.1,
          58.2,
          50.1,
          55.6,
          66.8,
          56.6,
          61.2,
          52.7,
          67.1,
          59.3,
          47.3,
          40.4,
          59.5,
          50.6,
          57.4,
          49.7,
          51.6,
          48.4,
          66.4,
          61.2,
          46.7,
          59.1,
          56.2,
          49.1,
          41.2,
          39.9,
          46.5,
          59.3,
          54.3,
          47.9,
          61.5
         ],
         "yaxis": "y"
        },
        {
         "name": "The citations",
         "type": "scatter",
         "x": [
          1,
          2,
          3,
          4,
          5,
          6,
          7,
          8,
          9,
          10,
          11,
          12,
          13,
          13,
          14,
          15,
          16,
          17,
          18,
          19,
          20,
          21,
          22,
          23,
          24,
          25,
          26,
          26,
          27,
          28,
          29,
          30,
          30,
          31,
          32,
          33,
          33,
          34,
          34,
          34,
          35,
          36,
          37,
          38,
          39,
          39,
          40,
          41,
          42,
          43,
          44,
          45,
          46,
          47,
          48,
          48,
          49,
          49,
          50,
          51,
          52,
          53,
          53,
          54,
          55,
          56,
          57,
          57,
          58,
          59,
          60,
          61,
          62,
          62,
          63,
          63,
          64,
          65,
          66,
          67,
          67,
          67,
          67,
          68,
          69,
          69,
          70,
          71,
          72,
          73,
          73,
          74,
          75,
          76,
          76,
          77,
          77,
          78,
          78,
          78
         ],
         "xaxis": "x2",
         "y": [
          98.4,
          97.9,
          95.8,
          99.9,
          99.5,
          98.8,
          99.1,
          97.3,
          96.7,
          97,
          98.2,
          98.3,
          99.2,
          90.3,
          96.1,
          98.2,
          97.3,
          93.6,
          96.6,
          97,
          94.9,
          97.8,
          74.6,
          73.2,
          76.9,
          98.6,
          98.2,
          92.8,
          96.5,
          96.4,
          97.7,
          88.8,
          89.8,
          92.5,
          76.6,
          94.8,
          60.7,
          88.3,
          90.4,
          93.2,
          96.1,
          84.7,
          85.5,
          96.2,
          85.3,
          77,
          89.8,
          84.4,
          84.9,
          88.4,
          85.3,
          98.8,
          94.9,
          96.9,
          83.2,
          85.2,
          96.4,
          84.5,
          96.1,
          90.7,
          95.7,
          91.2,
          93.1,
          66.5,
          59.9,
          86.8,
          63.2,
          83.1,
          97.1,
          87.3,
          82.9,
          94.8,
          91.6,
          67.9,
          83.8,
          88.4,
          88.8,
          75.7,
          82.7,
          94.9,
          98.8,
          74.7,
          79.9,
          80,
          86.4,
          83.1,
          95.5,
          63,
          70.3,
          88.2,
          89.6,
          80.1,
          70.2,
          91.4,
          96.4,
          94.9,
          88.1,
          86.3,
          91.8,
          67.3
         ],
         "yaxis": "y2"
        },
        {
         "name": "The industry income",
         "type": "scatter",
         "x": [
          1,
          2,
          3,
          4,
          5,
          6,
          7,
          8,
          9,
          10,
          11,
          12,
          13,
          13,
          14,
          15,
          16,
          17,
          18,
          19,
          20,
          21,
          22,
          23,
          24,
          25,
          26,
          26,
          27,
          28,
          29,
          30,
          30,
          31,
          32,
          33,
          33,
          34,
          34,
          34,
          35,
          36,
          37,
          38,
          39,
          39,
          40,
          41,
          42,
          43,
          44,
          45,
          46,
          47,
          48,
          48,
          49,
          49,
          50,
          51,
          52,
          53,
          53,
          54,
          55,
          56,
          57,
          57,
          58,
          59,
          60,
          61,
          62,
          62,
          63,
          63,
          64,
          65,
          66,
          67,
          67,
          67,
          67,
          68,
          69,
          69,
          70,
          71,
          72,
          73,
          73,
          74,
          75,
          76,
          76,
          77,
          77,
          78,
          78,
          78
         ],
         "xaxis": "x3",
         "y": [
          65.5,
          88,
          59.3,
          66.2,
          86.9,
          58.6,
          47.3,
          52.4,
          52.7,
          69.9,
          74,
          91.3,
          46.1,
          56.8,
          42.7,
          44.8,
          51.3,
          50.5,
          37.1,
          99.9,
          47.7,
          78.4,
          100,
          86.6,
          58.8,
          47.5,
          50.5,
          35.1,
          38.7,
          38.9,
          90.3,
          100,
          76.3,
          43.8,
          59.7,
          45.6,
          77.4,
          66.4,
          61.6,
          46.6,
          71.2,
          42.8,
          100,
          54.6,
          99.3,
          52.2,
          71.9,
          47.9,
          76.5,
          46.4,
          46.3,
          40.7,
          36.5,
          43.9,
          51.4,
          44.7,
          84.5,
          55.2,
          100,
          67.7,
          41.4,
          45.3,
          39.7,
          86.6,
          66.2,
          80.9,
          99.4,
          72.7,
          63.6,
          53.3,
          57.9,
          94,
          79.8,
          40.2,
          67.2,
          65.3,
          42.8,
          52.1,
          78.2,
          92.7,
          45.4,
          79.6,
          38.4,
          37.8,
          70,
          100,
          40.9,
          64.3,
          97.3,
          53,
          39.2,
          67,
          69.6,
          99.4,
          41,
          58.9,
          38.1,
          81,
          40,
          98.1
         ],
         "yaxis": "y3"
        },
        {
         "name": "The overall score",
         "type": "scatter",
         "x": [
          1,
          2,
          3,
          4,
          5,
          6,
          7,
          8,
          9,
          10,
          11,
          12,
          13,
          13,
          14,
          15,
          16,
          17,
          18,
          19,
          20,
          21,
          22,
          23,
          24,
          25,
          26,
          26,
          27,
          28,
          29,
          30,
          30,
          31,
          32,
          33,
          33,
          34,
          34,
          34,
          35,
          36,
          37,
          38,
          39,
          39,
          40,
          41,
          42,
          43,
          44,
          45,
          46,
          47,
          48,
          48,
          49,
          49,
          50,
          51,
          52,
          53,
          53,
          54,
          55,
          56,
          57,
          57,
          58,
          59,
          60,
          61,
          62,
          62,
          63,
          63,
          64,
          65,
          66,
          67,
          67,
          67,
          67,
          68,
          69,
          69,
          70,
          71,
          72,
          73,
          73,
          74,
          75,
          76,
          76,
          77,
          77,
          78,
          78,
          78
         ],
         "xaxis": "x4",
         "y": [
          95.4,
          94.5,
          94.4,
          94.3,
          93.6,
          93.2,
          93,
          91.7,
          90.2,
          89.8,
          89.6,
          89.2,
          88.3,
          88.3,
          87.1,
          87,
          86.8,
          85.5,
          85.1,
          84,
          83.8,
          83.5,
          82.6,
          82.3,
          81.9,
          81.6,
          81.3,
          81.3,
          81.1,
          79.3,
          78.8,
          77.8,
          77.8,
          76.3,
          75.9,
          75.7,
          75.7,
          75.4,
          75.4,
          75.4,
          74.7,
          74.3,
          74.1,
          73.5,
          73.2,
          73.2,
          73.1,
          73,
          72.9,
          72.1,
          72,
          71.5,
          70,
          69.9,
          69.7,
          69.7,
          69.6,
          69.6,
          69.4,
          69.3,
          68.4,
          68.1,
          68.1,
          68,
          67.7,
          67.4,
          66.7,
          66.7,
          66.3,
          66.1,
          65.9,
          65.4,
          65,
          65,
          64.7,
          64.7,
          64.6,
          64.3,
          64.1,
          64,
          64,
          64,
          64,
          63.9,
          63.3,
          63.3,
          63.2,
          63.1,
          63,
          62.8,
          62.8,
          62.7,
          62.6,
          62.4,
          62.4,
          62.3,
          62.3,
          62.2,
          62.2,
          62.2
         ],
         "yaxis": "y4"
        }
       ],
       "layout": {
        "template": {
         "data": {
          "bar": [
           {
            "error_x": {
             "color": "#2a3f5f"
            },
            "error_y": {
             "color": "#2a3f5f"
            },
            "marker": {
             "line": {
              "color": "#E5ECF6",
              "width": 0.5
             }
            },
            "type": "bar"
           }
          ],
          "barpolar": [
           {
            "marker": {
             "line": {
              "color": "#E5ECF6",
              "width": 0.5
             }
            },
            "type": "barpolar"
           }
          ],
          "carpet": [
           {
            "aaxis": {
             "endlinecolor": "#2a3f5f",
             "gridcolor": "white",
             "linecolor": "white",
             "minorgridcolor": "white",
             "startlinecolor": "#2a3f5f"
            },
            "baxis": {
             "endlinecolor": "#2a3f5f",
             "gridcolor": "white",
             "linecolor": "white",
             "minorgridcolor": "white",
             "startlinecolor": "#2a3f5f"
            },
            "type": "carpet"
           }
          ],
          "choropleth": [
           {
            "colorbar": {
             "outlinewidth": 0,
             "ticks": ""
            },
            "type": "choropleth"
           }
          ],
          "contour": [
           {
            "colorbar": {
             "outlinewidth": 0,
             "ticks": ""
            },
            "colorscale": [
             [
              0,
              "#0d0887"
             ],
             [
              0.1111111111111111,
              "#46039f"
             ],
             [
              0.2222222222222222,
              "#7201a8"
             ],
             [
              0.3333333333333333,
              "#9c179e"
             ],
             [
              0.4444444444444444,
              "#bd3786"
             ],
             [
              0.5555555555555556,
              "#d8576b"
             ],
             [
              0.6666666666666666,
              "#ed7953"
             ],
             [
              0.7777777777777778,
              "#fb9f3a"
             ],
             [
              0.8888888888888888,
              "#fdca26"
             ],
             [
              1,
              "#f0f921"
             ]
            ],
            "type": "contour"
           }
          ],
          "contourcarpet": [
           {
            "colorbar": {
             "outlinewidth": 0,
             "ticks": ""
            },
            "type": "contourcarpet"
           }
          ],
          "heatmap": [
           {
            "colorbar": {
             "outlinewidth": 0,
             "ticks": ""
            },
            "colorscale": [
             [
              0,
              "#0d0887"
             ],
             [
              0.1111111111111111,
              "#46039f"
             ],
             [
              0.2222222222222222,
              "#7201a8"
             ],
             [
              0.3333333333333333,
              "#9c179e"
             ],
             [
              0.4444444444444444,
              "#bd3786"
             ],
             [
              0.5555555555555556,
              "#d8576b"
             ],
             [
              0.6666666666666666,
              "#ed7953"
             ],
             [
              0.7777777777777778,
              "#fb9f3a"
             ],
             [
              0.8888888888888888,
              "#fdca26"
             ],
             [
              1,
              "#f0f921"
             ]
            ],
            "type": "heatmap"
           }
          ],
          "heatmapgl": [
           {
            "colorbar": {
             "outlinewidth": 0,
             "ticks": ""
            },
            "colorscale": [
             [
              0,
              "#0d0887"
             ],
             [
              0.1111111111111111,
              "#46039f"
             ],
             [
              0.2222222222222222,
              "#7201a8"
             ],
             [
              0.3333333333333333,
              "#9c179e"
             ],
             [
              0.4444444444444444,
              "#bd3786"
             ],
             [
              0.5555555555555556,
              "#d8576b"
             ],
             [
              0.6666666666666666,
              "#ed7953"
             ],
             [
              0.7777777777777778,
              "#fb9f3a"
             ],
             [
              0.8888888888888888,
              "#fdca26"
             ],
             [
              1,
              "#f0f921"
             ]
            ],
            "type": "heatmapgl"
           }
          ],
          "histogram": [
           {
            "marker": {
             "colorbar": {
              "outlinewidth": 0,
              "ticks": ""
             }
            },
            "type": "histogram"
           }
          ],
          "histogram2d": [
           {
            "colorbar": {
             "outlinewidth": 0,
             "ticks": ""
            },
            "colorscale": [
             [
              0,
              "#0d0887"
             ],
             [
              0.1111111111111111,
              "#46039f"
             ],
             [
              0.2222222222222222,
              "#7201a8"
             ],
             [
              0.3333333333333333,
              "#9c179e"
             ],
             [
              0.4444444444444444,
              "#bd3786"
             ],
             [
              0.5555555555555556,
              "#d8576b"
             ],
             [
              0.6666666666666666,
              "#ed7953"
             ],
             [
              0.7777777777777778,
              "#fb9f3a"
             ],
             [
              0.8888888888888888,
              "#fdca26"
             ],
             [
              1,
              "#f0f921"
             ]
            ],
            "type": "histogram2d"
           }
          ],
          "histogram2dcontour": [
           {
            "colorbar": {
             "outlinewidth": 0,
             "ticks": ""
            },
            "colorscale": [
             [
              0,
              "#0d0887"
             ],
             [
              0.1111111111111111,
              "#46039f"
             ],
             [
              0.2222222222222222,
              "#7201a8"
             ],
             [
              0.3333333333333333,
              "#9c179e"
             ],
             [
              0.4444444444444444,
              "#bd3786"
             ],
             [
              0.5555555555555556,
              "#d8576b"
             ],
             [
              0.6666666666666666,
              "#ed7953"
             ],
             [
              0.7777777777777778,
              "#fb9f3a"
             ],
             [
              0.8888888888888888,
              "#fdca26"
             ],
             [
              1,
              "#f0f921"
             ]
            ],
            "type": "histogram2dcontour"
           }
          ],
          "mesh3d": [
           {
            "colorbar": {
             "outlinewidth": 0,
             "ticks": ""
            },
            "type": "mesh3d"
           }
          ],
          "parcoords": [
           {
            "line": {
             "colorbar": {
              "outlinewidth": 0,
              "ticks": ""
             }
            },
            "type": "parcoords"
           }
          ],
          "pie": [
           {
            "automargin": true,
            "type": "pie"
           }
          ],
          "scatter": [
           {
            "marker": {
             "colorbar": {
              "outlinewidth": 0,
              "ticks": ""
             }
            },
            "type": "scatter"
           }
          ],
          "scatter3d": [
           {
            "line": {
             "colorbar": {
              "outlinewidth": 0,
              "ticks": ""
             }
            },
            "marker": {
             "colorbar": {
              "outlinewidth": 0,
              "ticks": ""
             }
            },
            "type": "scatter3d"
           }
          ],
          "scattercarpet": [
           {
            "marker": {
             "colorbar": {
              "outlinewidth": 0,
              "ticks": ""
             }
            },
            "type": "scattercarpet"
           }
          ],
          "scattergeo": [
           {
            "marker": {
             "colorbar": {
              "outlinewidth": 0,
              "ticks": ""
             }
            },
            "type": "scattergeo"
           }
          ],
          "scattergl": [
           {
            "marker": {
             "colorbar": {
              "outlinewidth": 0,
              "ticks": ""
             }
            },
            "type": "scattergl"
           }
          ],
          "scattermapbox": [
           {
            "marker": {
             "colorbar": {
              "outlinewidth": 0,
              "ticks": ""
             }
            },
            "type": "scattermapbox"
           }
          ],
          "scatterpolar": [
           {
            "marker": {
             "colorbar": {
              "outlinewidth": 0,
              "ticks": ""
             }
            },
            "type": "scatterpolar"
           }
          ],
          "scatterpolargl": [
           {
            "marker": {
             "colorbar": {
              "outlinewidth": 0,
              "ticks": ""
             }
            },
            "type": "scatterpolargl"
           }
          ],
          "scatterternary": [
           {
            "marker": {
             "colorbar": {
              "outlinewidth": 0,
              "ticks": ""
             }
            },
            "type": "scatterternary"
           }
          ],
          "surface": [
           {
            "colorbar": {
             "outlinewidth": 0,
             "ticks": ""
            },
            "colorscale": [
             [
              0,
              "#0d0887"
             ],
             [
              0.1111111111111111,
              "#46039f"
             ],
             [
              0.2222222222222222,
              "#7201a8"
             ],
             [
              0.3333333333333333,
              "#9c179e"
             ],
             [
              0.4444444444444444,
              "#bd3786"
             ],
             [
              0.5555555555555556,
              "#d8576b"
             ],
             [
              0.6666666666666666,
              "#ed7953"
             ],
             [
              0.7777777777777778,
              "#fb9f3a"
             ],
             [
              0.8888888888888888,
              "#fdca26"
             ],
             [
              1,
              "#f0f921"
             ]
            ],
            "type": "surface"
           }
          ],
          "table": [
           {
            "cells": {
             "fill": {
              "color": "#EBF0F8"
             },
             "line": {
              "color": "white"
             }
            },
            "header": {
             "fill": {
              "color": "#C8D4E3"
             },
             "line": {
              "color": "white"
             }
            },
            "type": "table"
           }
          ]
         },
         "layout": {
          "annotationdefaults": {
           "arrowcolor": "#2a3f5f",
           "arrowhead": 0,
           "arrowwidth": 1
          },
          "coloraxis": {
           "colorbar": {
            "outlinewidth": 0,
            "ticks": ""
           }
          },
          "colorscale": {
           "diverging": [
            [
             0,
             "#8e0152"
            ],
            [
             0.1,
             "#c51b7d"
            ],
            [
             0.2,
             "#de77ae"
            ],
            [
             0.3,
             "#f1b6da"
            ],
            [
             0.4,
             "#fde0ef"
            ],
            [
             0.5,
             "#f7f7f7"
            ],
            [
             0.6,
             "#e6f5d0"
            ],
            [
             0.7,
             "#b8e186"
            ],
            [
             0.8,
             "#7fbc41"
            ],
            [
             0.9,
             "#4d9221"
            ],
            [
             1,
             "#276419"
            ]
           ],
           "sequential": [
            [
             0,
             "#0d0887"
            ],
            [
             0.1111111111111111,
             "#46039f"
            ],
            [
             0.2222222222222222,
             "#7201a8"
            ],
            [
             0.3333333333333333,
             "#9c179e"
            ],
            [
             0.4444444444444444,
             "#bd3786"
            ],
            [
             0.5555555555555556,
             "#d8576b"
            ],
            [
             0.6666666666666666,
             "#ed7953"
            ],
            [
             0.7777777777777778,
             "#fb9f3a"
            ],
            [
             0.8888888888888888,
             "#fdca26"
            ],
            [
             1,
             "#f0f921"
            ]
           ],
           "sequentialminus": [
            [
             0,
             "#0d0887"
            ],
            [
             0.1111111111111111,
             "#46039f"
            ],
            [
             0.2222222222222222,
             "#7201a8"
            ],
            [
             0.3333333333333333,
             "#9c179e"
            ],
            [
             0.4444444444444444,
             "#bd3786"
            ],
            [
             0.5555555555555556,
             "#d8576b"
            ],
            [
             0.6666666666666666,
             "#ed7953"
            ],
            [
             0.7777777777777778,
             "#fb9f3a"
            ],
            [
             0.8888888888888888,
             "#fdca26"
            ],
            [
             1,
             "#f0f921"
            ]
           ]
          },
          "colorway": [
           "#636efa",
           "#EF553B",
           "#00cc96",
           "#ab63fa",
           "#FFA15A",
           "#19d3f3",
           "#FF6692",
           "#B6E880",
           "#FF97FF",
           "#FECB52"
          ],
          "font": {
           "color": "#2a3f5f"
          },
          "geo": {
           "bgcolor": "white",
           "lakecolor": "white",
           "landcolor": "#E5ECF6",
           "showlakes": true,
           "showland": true,
           "subunitcolor": "white"
          },
          "hoverlabel": {
           "align": "left"
          },
          "hovermode": "closest",
          "mapbox": {
           "style": "light"
          },
          "paper_bgcolor": "white",
          "plot_bgcolor": "#E5ECF6",
          "polar": {
           "angularaxis": {
            "gridcolor": "white",
            "linecolor": "white",
            "ticks": ""
           },
           "bgcolor": "#E5ECF6",
           "radialaxis": {
            "gridcolor": "white",
            "linecolor": "white",
            "ticks": ""
           }
          },
          "scene": {
           "xaxis": {
            "backgroundcolor": "#E5ECF6",
            "gridcolor": "white",
            "gridwidth": 2,
            "linecolor": "white",
            "showbackground": true,
            "ticks": "",
            "zerolinecolor": "white"
           },
           "yaxis": {
            "backgroundcolor": "#E5ECF6",
            "gridcolor": "white",
            "gridwidth": 2,
            "linecolor": "white",
            "showbackground": true,
            "ticks": "",
            "zerolinecolor": "white"
           },
           "zaxis": {
            "backgroundcolor": "#E5ECF6",
            "gridcolor": "white",
            "gridwidth": 2,
            "linecolor": "white",
            "showbackground": true,
            "ticks": "",
            "zerolinecolor": "white"
           }
          },
          "shapedefaults": {
           "line": {
            "color": "#2a3f5f"
           }
          },
          "ternary": {
           "aaxis": {
            "gridcolor": "white",
            "linecolor": "white",
            "ticks": ""
           },
           "baxis": {
            "gridcolor": "white",
            "linecolor": "white",
            "ticks": ""
           },
           "bgcolor": "#E5ECF6",
           "caxis": {
            "gridcolor": "white",
            "linecolor": "white",
            "ticks": ""
           }
          },
          "title": {
           "x": 0.05
          },
          "xaxis": {
           "automargin": true,
           "gridcolor": "white",
           "linecolor": "white",
           "ticks": "",
           "title": {
            "standoff": 15
           },
           "zerolinecolor": "white",
           "zerolinewidth": 2
          },
          "yaxis": {
           "automargin": true,
           "gridcolor": "white",
           "linecolor": "white",
           "ticks": "",
           "title": {
            "standoff": 15
           },
           "zerolinecolor": "white",
           "zerolinewidth": 2
          }
         }
        },
        "title": {
         "text": "The distribution of institutions' overall score by research, income, and citations indicators"
        },
        "xaxis": {
         "anchor": "y",
         "domain": [
          0,
          0.45
         ]
        },
        "xaxis2": {
         "anchor": "y2",
         "domain": [
          0.55,
          1
         ]
        },
        "xaxis3": {
         "anchor": "y3",
         "domain": [
          0,
          0.45
         ]
        },
        "xaxis4": {
         "anchor": "y4",
         "domain": [
          0.55,
          1
         ]
        },
        "yaxis": {
         "anchor": "x",
         "domain": [
          0,
          0.425
         ]
        },
        "yaxis2": {
         "anchor": "x2",
         "domain": [
          0,
          0.425
         ]
        },
        "yaxis3": {
         "anchor": "x3",
         "domain": [
          0.575,
          1
         ]
        },
        "yaxis4": {
         "anchor": "x4",
         "domain": [
          0.575,
          1
         ]
        }
       }
      },
      "text/html": [
       "<div>                            <div id=\"e5f8298f-629d-4d16-9be7-c705f12326c5\" class=\"plotly-graph-div\" style=\"height:525px; width:100%;\"></div>            <script type=\"text/javascript\">                require([\"plotly\"], function(Plotly) {                    window.PLOTLYENV=window.PLOTLYENV || {};                                    if (document.getElementById(\"e5f8298f-629d-4d16-9be7-c705f12326c5\")) {                    Plotly.newPlot(                        \"e5f8298f-629d-4d16-9be7-c705f12326c5\",                        [{\"name\": \"The research\", \"type\": \"scatter\", \"x\": [1, 2, 3, 4, 5, 6, 7, 8, 9, 10, 11, 12, 13, 13, 14, 15, 16, 17, 18, 19, 20, 21, 22, 23, 24, 25, 26, 26, 27, 28, 29, 30, 30, 31, 32, 33, 33, 34, 34, 34, 35, 36, 37, 38, 39, 39, 40, 41, 42, 43, 44, 45, 46, 47, 48, 48, 49, 49, 50, 51, 52, 53, 53, 54, 55, 56, 57, 57, 58, 59, 60, 61, 62, 62, 63, 63, 64, 65, 66, 67, 67, 67, 67, 68, 69, 69, 70, 71, 72, 73, 73, 74, 75, 76, 76, 77, 77, 78, 78, 78], \"xaxis\": \"x\", \"y\": [99.6, 97.2, 98.7, 96.4, 92.4, 96.3, 98.6, 94.8, 91.4, 87.6, 90.4, 91.4, 90.6, 92.8, 88.7, 82.6, 88.6, 89.5, 86.0, 76.8, 86.1, 83.8, 94.0, 90.0, 90.4, 82.2, 82.7, 83.0, 77.5, 74.1, 78.9, 77.0, 74.1, 73.2, 77.2, 68.5, 89.6, 66.3, 76.4, 76.2, 71.4, 71.9, 70.4, 60.3, 73.9, 71.4, 66.1, 78.0, 70.4, 69.7, 70.3, 57.5, 56.1, 63.2, 66.9, 63.8, 63.6, 62.8, 57.1, 61.5, 55.6, 63.4, 59.3, 71.6, 78.1, 58.7, 72.3, 65.0, 57.3, 56.1, 58.2, 50.1, 55.6, 66.8, 56.6, 61.2, 52.7, 67.1, 59.3, 47.3, 40.4, 59.5, 50.6, 57.4, 49.7, 51.6, 48.4, 66.4, 61.2, 46.7, 59.1, 56.2, 49.1, 41.2, 39.9, 46.5, 59.3, 54.3, 47.9, 61.5], \"yaxis\": \"y\"}, {\"name\": \"The citations\", \"type\": \"scatter\", \"x\": [1, 2, 3, 4, 5, 6, 7, 8, 9, 10, 11, 12, 13, 13, 14, 15, 16, 17, 18, 19, 20, 21, 22, 23, 24, 25, 26, 26, 27, 28, 29, 30, 30, 31, 32, 33, 33, 34, 34, 34, 35, 36, 37, 38, 39, 39, 40, 41, 42, 43, 44, 45, 46, 47, 48, 48, 49, 49, 50, 51, 52, 53, 53, 54, 55, 56, 57, 57, 58, 59, 60, 61, 62, 62, 63, 63, 64, 65, 66, 67, 67, 67, 67, 68, 69, 69, 70, 71, 72, 73, 73, 74, 75, 76, 76, 77, 77, 78, 78, 78], \"xaxis\": \"x2\", \"y\": [98.4, 97.9, 95.8, 99.9, 99.5, 98.8, 99.1, 97.3, 96.7, 97.0, 98.2, 98.3, 99.2, 90.3, 96.1, 98.2, 97.3, 93.6, 96.6, 97.0, 94.9, 97.8, 74.6, 73.2, 76.9, 98.6, 98.2, 92.8, 96.5, 96.4, 97.7, 88.8, 89.8, 92.5, 76.6, 94.8, 60.7, 88.3, 90.4, 93.2, 96.1, 84.7, 85.5, 96.2, 85.3, 77.0, 89.8, 84.4, 84.9, 88.4, 85.3, 98.8, 94.9, 96.9, 83.2, 85.2, 96.4, 84.5, 96.1, 90.7, 95.7, 91.2, 93.1, 66.5, 59.9, 86.8, 63.2, 83.1, 97.1, 87.3, 82.9, 94.8, 91.6, 67.9, 83.8, 88.4, 88.8, 75.7, 82.7, 94.9, 98.8, 74.7, 79.9, 80.0, 86.4, 83.1, 95.5, 63.0, 70.3, 88.2, 89.6, 80.1, 70.2, 91.4, 96.4, 94.9, 88.1, 86.3, 91.8, 67.3], \"yaxis\": \"y2\"}, {\"name\": \"The industry income\", \"type\": \"scatter\", \"x\": [1, 2, 3, 4, 5, 6, 7, 8, 9, 10, 11, 12, 13, 13, 14, 15, 16, 17, 18, 19, 20, 21, 22, 23, 24, 25, 26, 26, 27, 28, 29, 30, 30, 31, 32, 33, 33, 34, 34, 34, 35, 36, 37, 38, 39, 39, 40, 41, 42, 43, 44, 45, 46, 47, 48, 48, 49, 49, 50, 51, 52, 53, 53, 54, 55, 56, 57, 57, 58, 59, 60, 61, 62, 62, 63, 63, 64, 65, 66, 67, 67, 67, 67, 68, 69, 69, 70, 71, 72, 73, 73, 74, 75, 76, 76, 77, 77, 78, 78, 78], \"xaxis\": \"x3\", \"y\": [65.5, 88.0, 59.3, 66.2, 86.9, 58.6, 47.3, 52.4, 52.7, 69.9, 74.0, 91.3, 46.1, 56.8, 42.7, 44.8, 51.3, 50.5, 37.1, 99.9, 47.7, 78.4, 100.0, 86.6, 58.8, 47.5, 50.5, 35.1, 38.7, 38.9, 90.3, 100.0, 76.3, 43.8, 59.7, 45.6, 77.4, 66.4, 61.6, 46.6, 71.2, 42.8, 100.0, 54.6, 99.3, 52.2, 71.9, 47.9, 76.5, 46.4, 46.3, 40.7, 36.5, 43.9, 51.4, 44.7, 84.5, 55.2, 100.0, 67.7, 41.4, 45.3, 39.7, 86.6, 66.2, 80.9, 99.4, 72.7, 63.6, 53.3, 57.9, 94.0, 79.8, 40.2, 67.2, 65.3, 42.8, 52.1, 78.2, 92.7, 45.4, 79.6, 38.4, 37.8, 70.0, 100.0, 40.9, 64.3, 97.3, 53.0, 39.2, 67.0, 69.6, 99.4, 41.0, 58.9, 38.1, 81.0, 40.0, 98.1], \"yaxis\": \"y3\"}, {\"name\": \"The overall score\", \"type\": \"scatter\", \"x\": [1, 2, 3, 4, 5, 6, 7, 8, 9, 10, 11, 12, 13, 13, 14, 15, 16, 17, 18, 19, 20, 21, 22, 23, 24, 25, 26, 26, 27, 28, 29, 30, 30, 31, 32, 33, 33, 34, 34, 34, 35, 36, 37, 38, 39, 39, 40, 41, 42, 43, 44, 45, 46, 47, 48, 48, 49, 49, 50, 51, 52, 53, 53, 54, 55, 56, 57, 57, 58, 59, 60, 61, 62, 62, 63, 63, 64, 65, 66, 67, 67, 67, 67, 68, 69, 69, 70, 71, 72, 73, 73, 74, 75, 76, 76, 77, 77, 78, 78, 78], \"xaxis\": \"x4\", \"y\": [95.4, 94.5, 94.4, 94.3, 93.6, 93.2, 93.0, 91.7, 90.2, 89.8, 89.6, 89.2, 88.3, 88.3, 87.1, 87.0, 86.8, 85.5, 85.1, 84.0, 83.8, 83.5, 82.6, 82.3, 81.9, 81.6, 81.3, 81.3, 81.1, 79.3, 78.8, 77.8, 77.8, 76.3, 75.9, 75.7, 75.7, 75.4, 75.4, 75.4, 74.7, 74.3, 74.1, 73.5, 73.2, 73.2, 73.1, 73.0, 72.9, 72.1, 72.0, 71.5, 70.0, 69.9, 69.7, 69.7, 69.6, 69.6, 69.4, 69.3, 68.4, 68.1, 68.1, 68.0, 67.7, 67.4, 66.7, 66.7, 66.3, 66.1, 65.9, 65.4, 65.0, 65.0, 64.7, 64.7, 64.6, 64.3, 64.1, 64.0, 64.0, 64.0, 64.0, 63.9, 63.3, 63.3, 63.2, 63.1, 63.0, 62.8, 62.8, 62.7, 62.6, 62.4, 62.4, 62.3, 62.3, 62.2, 62.2, 62.2], \"yaxis\": \"y4\"}],                        {\"template\": {\"data\": {\"bar\": [{\"error_x\": {\"color\": \"#2a3f5f\"}, \"error_y\": {\"color\": \"#2a3f5f\"}, \"marker\": {\"line\": {\"color\": \"#E5ECF6\", \"width\": 0.5}}, \"type\": \"bar\"}], \"barpolar\": [{\"marker\": {\"line\": {\"color\": \"#E5ECF6\", \"width\": 0.5}}, \"type\": \"barpolar\"}], \"carpet\": [{\"aaxis\": {\"endlinecolor\": \"#2a3f5f\", \"gridcolor\": \"white\", \"linecolor\": \"white\", \"minorgridcolor\": \"white\", \"startlinecolor\": \"#2a3f5f\"}, \"baxis\": {\"endlinecolor\": \"#2a3f5f\", \"gridcolor\": \"white\", \"linecolor\": \"white\", \"minorgridcolor\": \"white\", \"startlinecolor\": \"#2a3f5f\"}, \"type\": \"carpet\"}], \"choropleth\": [{\"colorbar\": {\"outlinewidth\": 0, \"ticks\": \"\"}, \"type\": \"choropleth\"}], \"contour\": [{\"colorbar\": {\"outlinewidth\": 0, \"ticks\": \"\"}, \"colorscale\": [[0.0, \"#0d0887\"], [0.1111111111111111, \"#46039f\"], [0.2222222222222222, \"#7201a8\"], [0.3333333333333333, \"#9c179e\"], [0.4444444444444444, \"#bd3786\"], [0.5555555555555556, \"#d8576b\"], [0.6666666666666666, \"#ed7953\"], [0.7777777777777778, \"#fb9f3a\"], [0.8888888888888888, \"#fdca26\"], [1.0, \"#f0f921\"]], \"type\": \"contour\"}], \"contourcarpet\": [{\"colorbar\": {\"outlinewidth\": 0, \"ticks\": \"\"}, \"type\": \"contourcarpet\"}], \"heatmap\": [{\"colorbar\": {\"outlinewidth\": 0, \"ticks\": \"\"}, \"colorscale\": [[0.0, \"#0d0887\"], [0.1111111111111111, \"#46039f\"], [0.2222222222222222, \"#7201a8\"], [0.3333333333333333, \"#9c179e\"], [0.4444444444444444, \"#bd3786\"], [0.5555555555555556, \"#d8576b\"], [0.6666666666666666, \"#ed7953\"], [0.7777777777777778, \"#fb9f3a\"], [0.8888888888888888, \"#fdca26\"], [1.0, \"#f0f921\"]], \"type\": \"heatmap\"}], \"heatmapgl\": [{\"colorbar\": {\"outlinewidth\": 0, \"ticks\": \"\"}, \"colorscale\": [[0.0, \"#0d0887\"], [0.1111111111111111, \"#46039f\"], [0.2222222222222222, \"#7201a8\"], [0.3333333333333333, \"#9c179e\"], [0.4444444444444444, \"#bd3786\"], [0.5555555555555556, \"#d8576b\"], [0.6666666666666666, \"#ed7953\"], [0.7777777777777778, \"#fb9f3a\"], [0.8888888888888888, \"#fdca26\"], [1.0, \"#f0f921\"]], \"type\": \"heatmapgl\"}], \"histogram\": [{\"marker\": {\"colorbar\": {\"outlinewidth\": 0, \"ticks\": \"\"}}, \"type\": \"histogram\"}], \"histogram2d\": [{\"colorbar\": {\"outlinewidth\": 0, \"ticks\": \"\"}, \"colorscale\": [[0.0, \"#0d0887\"], [0.1111111111111111, \"#46039f\"], [0.2222222222222222, \"#7201a8\"], [0.3333333333333333, \"#9c179e\"], [0.4444444444444444, \"#bd3786\"], [0.5555555555555556, \"#d8576b\"], [0.6666666666666666, \"#ed7953\"], [0.7777777777777778, \"#fb9f3a\"], [0.8888888888888888, \"#fdca26\"], [1.0, \"#f0f921\"]], \"type\": \"histogram2d\"}], \"histogram2dcontour\": [{\"colorbar\": {\"outlinewidth\": 0, \"ticks\": \"\"}, \"colorscale\": [[0.0, \"#0d0887\"], [0.1111111111111111, \"#46039f\"], [0.2222222222222222, \"#7201a8\"], [0.3333333333333333, \"#9c179e\"], [0.4444444444444444, \"#bd3786\"], [0.5555555555555556, \"#d8576b\"], [0.6666666666666666, \"#ed7953\"], [0.7777777777777778, \"#fb9f3a\"], [0.8888888888888888, \"#fdca26\"], [1.0, \"#f0f921\"]], \"type\": \"histogram2dcontour\"}], \"mesh3d\": [{\"colorbar\": {\"outlinewidth\": 0, \"ticks\": \"\"}, \"type\": \"mesh3d\"}], \"parcoords\": [{\"line\": {\"colorbar\": {\"outlinewidth\": 0, \"ticks\": \"\"}}, \"type\": \"parcoords\"}], \"pie\": [{\"automargin\": true, \"type\": \"pie\"}], \"scatter\": [{\"marker\": {\"colorbar\": {\"outlinewidth\": 0, \"ticks\": \"\"}}, \"type\": \"scatter\"}], \"scatter3d\": [{\"line\": {\"colorbar\": {\"outlinewidth\": 0, \"ticks\": \"\"}}, \"marker\": {\"colorbar\": {\"outlinewidth\": 0, \"ticks\": \"\"}}, \"type\": \"scatter3d\"}], \"scattercarpet\": [{\"marker\": {\"colorbar\": {\"outlinewidth\": 0, \"ticks\": \"\"}}, \"type\": \"scattercarpet\"}], \"scattergeo\": [{\"marker\": {\"colorbar\": {\"outlinewidth\": 0, \"ticks\": \"\"}}, \"type\": \"scattergeo\"}], \"scattergl\": [{\"marker\": {\"colorbar\": {\"outlinewidth\": 0, \"ticks\": \"\"}}, \"type\": \"scattergl\"}], \"scattermapbox\": [{\"marker\": {\"colorbar\": {\"outlinewidth\": 0, \"ticks\": \"\"}}, \"type\": \"scattermapbox\"}], \"scatterpolar\": [{\"marker\": {\"colorbar\": {\"outlinewidth\": 0, \"ticks\": \"\"}}, \"type\": \"scatterpolar\"}], \"scatterpolargl\": [{\"marker\": {\"colorbar\": {\"outlinewidth\": 0, \"ticks\": \"\"}}, \"type\": \"scatterpolargl\"}], \"scatterternary\": [{\"marker\": {\"colorbar\": {\"outlinewidth\": 0, \"ticks\": \"\"}}, \"type\": \"scatterternary\"}], \"surface\": [{\"colorbar\": {\"outlinewidth\": 0, \"ticks\": \"\"}, \"colorscale\": [[0.0, \"#0d0887\"], [0.1111111111111111, \"#46039f\"], [0.2222222222222222, \"#7201a8\"], [0.3333333333333333, \"#9c179e\"], [0.4444444444444444, \"#bd3786\"], [0.5555555555555556, \"#d8576b\"], [0.6666666666666666, \"#ed7953\"], [0.7777777777777778, \"#fb9f3a\"], [0.8888888888888888, \"#fdca26\"], [1.0, \"#f0f921\"]], \"type\": \"surface\"}], \"table\": [{\"cells\": {\"fill\": {\"color\": \"#EBF0F8\"}, \"line\": {\"color\": \"white\"}}, \"header\": {\"fill\": {\"color\": \"#C8D4E3\"}, \"line\": {\"color\": \"white\"}}, \"type\": \"table\"}]}, \"layout\": {\"annotationdefaults\": {\"arrowcolor\": \"#2a3f5f\", \"arrowhead\": 0, \"arrowwidth\": 1}, \"coloraxis\": {\"colorbar\": {\"outlinewidth\": 0, \"ticks\": \"\"}}, \"colorscale\": {\"diverging\": [[0, \"#8e0152\"], [0.1, \"#c51b7d\"], [0.2, \"#de77ae\"], [0.3, \"#f1b6da\"], [0.4, \"#fde0ef\"], [0.5, \"#f7f7f7\"], [0.6, \"#e6f5d0\"], [0.7, \"#b8e186\"], [0.8, \"#7fbc41\"], [0.9, \"#4d9221\"], [1, \"#276419\"]], \"sequential\": [[0.0, \"#0d0887\"], [0.1111111111111111, \"#46039f\"], [0.2222222222222222, \"#7201a8\"], [0.3333333333333333, \"#9c179e\"], [0.4444444444444444, \"#bd3786\"], [0.5555555555555556, \"#d8576b\"], [0.6666666666666666, \"#ed7953\"], [0.7777777777777778, \"#fb9f3a\"], [0.8888888888888888, \"#fdca26\"], [1.0, \"#f0f921\"]], \"sequentialminus\": [[0.0, \"#0d0887\"], [0.1111111111111111, \"#46039f\"], [0.2222222222222222, \"#7201a8\"], [0.3333333333333333, \"#9c179e\"], [0.4444444444444444, \"#bd3786\"], [0.5555555555555556, \"#d8576b\"], [0.6666666666666666, \"#ed7953\"], [0.7777777777777778, \"#fb9f3a\"], [0.8888888888888888, \"#fdca26\"], [1.0, \"#f0f921\"]]}, \"colorway\": [\"#636efa\", \"#EF553B\", \"#00cc96\", \"#ab63fa\", \"#FFA15A\", \"#19d3f3\", \"#FF6692\", \"#B6E880\", \"#FF97FF\", \"#FECB52\"], \"font\": {\"color\": \"#2a3f5f\"}, \"geo\": {\"bgcolor\": \"white\", \"lakecolor\": \"white\", \"landcolor\": \"#E5ECF6\", \"showlakes\": true, \"showland\": true, \"subunitcolor\": \"white\"}, \"hoverlabel\": {\"align\": \"left\"}, \"hovermode\": \"closest\", \"mapbox\": {\"style\": \"light\"}, \"paper_bgcolor\": \"white\", \"plot_bgcolor\": \"#E5ECF6\", \"polar\": {\"angularaxis\": {\"gridcolor\": \"white\", \"linecolor\": \"white\", \"ticks\": \"\"}, \"bgcolor\": \"#E5ECF6\", \"radialaxis\": {\"gridcolor\": \"white\", \"linecolor\": \"white\", \"ticks\": \"\"}}, \"scene\": {\"xaxis\": {\"backgroundcolor\": \"#E5ECF6\", \"gridcolor\": \"white\", \"gridwidth\": 2, \"linecolor\": \"white\", \"showbackground\": true, \"ticks\": \"\", \"zerolinecolor\": \"white\"}, \"yaxis\": {\"backgroundcolor\": \"#E5ECF6\", \"gridcolor\": \"white\", \"gridwidth\": 2, \"linecolor\": \"white\", \"showbackground\": true, \"ticks\": \"\", \"zerolinecolor\": \"white\"}, \"zaxis\": {\"backgroundcolor\": \"#E5ECF6\", \"gridcolor\": \"white\", \"gridwidth\": 2, \"linecolor\": \"white\", \"showbackground\": true, \"ticks\": \"\", \"zerolinecolor\": \"white\"}}, \"shapedefaults\": {\"line\": {\"color\": \"#2a3f5f\"}}, \"ternary\": {\"aaxis\": {\"gridcolor\": \"white\", \"linecolor\": \"white\", \"ticks\": \"\"}, \"baxis\": {\"gridcolor\": \"white\", \"linecolor\": \"white\", \"ticks\": \"\"}, \"bgcolor\": \"#E5ECF6\", \"caxis\": {\"gridcolor\": \"white\", \"linecolor\": \"white\", \"ticks\": \"\"}}, \"title\": {\"x\": 0.05}, \"xaxis\": {\"automargin\": true, \"gridcolor\": \"white\", \"linecolor\": \"white\", \"ticks\": \"\", \"title\": {\"standoff\": 15}, \"zerolinecolor\": \"white\", \"zerolinewidth\": 2}, \"yaxis\": {\"automargin\": true, \"gridcolor\": \"white\", \"linecolor\": \"white\", \"ticks\": \"\", \"title\": {\"standoff\": 15}, \"zerolinecolor\": \"white\", \"zerolinewidth\": 2}}}, \"title\": {\"text\": \"The distribution of institutions' overall score by research, income, and citations indicators\"}, \"xaxis\": {\"anchor\": \"y\", \"domain\": [0.0, 0.45]}, \"xaxis2\": {\"anchor\": \"y2\", \"domain\": [0.55, 1.0]}, \"xaxis3\": {\"anchor\": \"y3\", \"domain\": [0.0, 0.45]}, \"xaxis4\": {\"anchor\": \"y4\", \"domain\": [0.55, 1.0]}, \"yaxis\": {\"anchor\": \"x\", \"domain\": [0.0, 0.425]}, \"yaxis2\": {\"anchor\": \"x2\", \"domain\": [0.0, 0.425]}, \"yaxis3\": {\"anchor\": \"x3\", \"domain\": [0.575, 1.0]}, \"yaxis4\": {\"anchor\": \"x4\", \"domain\": [0.575, 1.0]}},                        {\"responsive\": true}                    ).then(function(){\n",
       "                            \n",
       "var gd = document.getElementById('e5f8298f-629d-4d16-9be7-c705f12326c5');\n",
       "var x = new MutationObserver(function (mutations, observer) {{\n",
       "        var display = window.getComputedStyle(gd).display;\n",
       "        if (!display || display === 'none') {{\n",
       "            console.log([gd, 'removed!']);\n",
       "            Plotly.purge(gd);\n",
       "            observer.disconnect();\n",
       "        }}\n",
       "}});\n",
       "\n",
       "// Listen for the removal of the full notebook cells\n",
       "var notebookContainer = gd.closest('#notebook-container');\n",
       "if (notebookContainer) {{\n",
       "    x.observe(notebookContainer, {childList: true});\n",
       "}}\n",
       "\n",
       "// Listen for the clearing of the current output cell\n",
       "var outputEl = gd.closest('.output');\n",
       "if (outputEl) {{\n",
       "    x.observe(outputEl, {childList: true});\n",
       "}}\n",
       "\n",
       "                        })                };                });            </script>        </div>"
      ]
     },
     "metadata": {},
     "output_type": "display_data"
    }
   ],
   "source": [
    "# multiple subplots\n",
    "fig = make_subplots(rows=2, cols=2, start_cell=\"bottom-left\")\n",
    "\n",
    "fig.add_trace(go.Scatter(x=df.Score_Rank, y=research, name=\"The research\"),\n",
    "              row=1, col=1)\n",
    "fig.add_trace(go.Scatter(x=df.Score_Rank, y=citations, name=\"The citations\"),\n",
    "              row=1, col=2)\n",
    "fig.add_trace(go.Scatter(x=df.Score_Rank, y=income, name=\"The industry income\"),\n",
    "              row=2, col=1)\n",
    "fig.add_trace(go.Scatter(x=df.Score_Rank, y=df.Score_Result, name=\"The overall score\"),\n",
    "              row=2, col=2)\n",
    "fig.update_layout(title_text=\"The distribution of institutions' overall score by research, income, and citations indicators\")\n",
    "\n",
    "fig.show()"
   ]
  },
  {
   "cell_type": "markdown",
   "metadata": {},
   "source": [
    "**Distribution Analysis:**\n",
    "\n",
    "With the help of the subplots above, it is way easier to compare different data by looking at each of the resulted plots. Thus, several conclusions can be made:\n",
    "- Industry income has a little impact on instutions' overall score, as we see that its indicators are not actually high for the top universities. Therefore, this indicator is not crucial in calculating the total score.\n",
    "- Though, the citations and research are the leading criteria for defining best universities. The better performance in that areas ensures as highest as possible place in the rank."
   ]
  },
  {
   "cell_type": "markdown",
   "metadata": {},
   "source": [
    "### 5.5 Q5: Analyze the relationship between variables in the dataset"
   ]
  },
  {
   "cell_type": "markdown",
   "metadata": {},
   "source": [
    "Let's have a look at the relationship between variables of the following dataset. By analyzing different features, I got some type of correlation. \n",
    "\n",
    "The heatmap shows one of three different forms of correlation:\n",
    "1. Negative correlation (red dots), which occurs when large values of one feature correspond to small values of the other, and vice versa.\n",
    "2. Weak or no correlation, which occurs when an association between two features is not obvious or is hardly observable.\n",
    "3. Positive correlation, which occurs when large values of one feature correspond to large values of the other, and vice versa."
   ]
  },
  {
   "cell_type": "code",
   "execution_count": 76,
   "metadata": {},
   "outputs": [
    {
     "data": {
      "image/png": "[encoded data removed]",
      "text/plain": [
       "<Figure size 1080x504 with 2 Axes>"
      ]
     },
     "metadata": {
      "needs_background": "light"
     },
     "output_type": "display_data"
    }
   ],
   "source": [
    "# the correlation heatmap\n",
    "# corr() was used to find the pairwise correlation of all columns in the dataframe.\n",
    "f,ax= plt.subplots(figsize=(15,7))\n",
    "sns.heatmap(df.corr(), annot = True, linewidths=.5, fmt='.2f', ax=ax, cmap=\"YlGnBu\").set(\n",
    "    title = 'The heatmap') #annot=True :Visible numbers \n",
    "plt.show() "
   ]
  },
  {
   "cell_type": "markdown",
   "metadata": {},
   "source": [
    "**Distribution Analysis:**\n",
    "\n",
    "As we can see, the data values are represented as colors in the graph. The darkest shades correspond to the highest values, while the lightest ones correspond to the lowest values in a dataset. The color flow can be obtained by looking at the color bar which is displayed in the plot.\n",
    "\n",
    "From the heat map above, we can claim the following:\n",
    "- The best positive correlation is between Score_Result and Research = 0.92\n",
    "- The best weak correlation is between Industry_Income and Score_Rank = 0.03\n",
    "- The best negative correlation is between Score_Result and Score_Rank = -0.98"
   ]
  },
  {
   "cell_type": "markdown",
   "metadata": {},
   "source": [
    "## 6. Conclusion"
   ]
  },
  {
   "cell_type": "markdown",
   "metadata": {},
   "source": [
    "According to the performed analysis above, we can conclude several things about World University Rankings list:\n",
    "\n",
    "Firstly, most of the top universities are based in the United States and the United Kingdom. The graphs obviously show the leading position of these two countries for the education sector.\n",
    "\n",
    "Secondly, teaching and research metrics are tightly connected with the overall rank. Academic reputation is one of the most important metrics when evaluating universities as well as being the the highest weighting alloted to the score.\n",
    "\n",
    "Thirdly, there is no explicit relationship among gender diversity and the rank of universities. Most of the higher education institutions have about the same gender distribution between their students as well as there are single sex universities.\n",
    "\n",
    "Fourthly, the impact of income innovation is not as much big as the citations, i.e. research influence, and research itself. \n",
    "\n",
    "Finally, there is a big number of positive correlation between the variables in the dataset. These basically mean that when one section increases, the other increases in the same direction."
   ]
  }
 ],
 "metadata": {
  "kernelspec": {
   "display_name": "Python 3",
   "language": "python",
   "name": "python3"
  },
  "language_info": {
   "codemirror_mode": {
    "name": "ipython",
    "version": 3
   },
   "file_extension": ".py",
   "mimetype": "text/x-python",
   "name": "python",
   "nbconvert_exporter": "python",
   "pygments_lexer": "ipython3",
   "version": "3.8.3"
  }
 },
 "nbformat": 4,
 "nbformat_minor": 4
}
